{
 "cells": [
  {
   "cell_type": "code",
   "execution_count": 1,
   "id": "77384f39",
   "metadata": {
    "_cell_guid": "b1076dfc-b9ad-4769-8c92-a6c4dae69d19",
    "_uuid": "8f2839f25d086af736a60e9eeb907d3b93b6e0e5",
    "execution": {
     "iopub.execute_input": "2022-09-25T03:40:15.572924Z",
     "iopub.status.busy": "2022-09-25T03:40:15.572373Z",
     "iopub.status.idle": "2022-09-25T03:40:26.051853Z",
     "shell.execute_reply": "2022-09-25T03:40:26.050704Z"
    },
    "papermill": {
     "duration": 10.492708,
     "end_time": "2022-09-25T03:40:26.054746",
     "exception": false,
     "start_time": "2022-09-25T03:40:15.562038",
     "status": "completed"
    },
    "tags": []
   },
   "outputs": [
    {
     "name": "stdout",
     "output_type": "stream",
     "text": [
      "Requirement already satisfied: keras==2.6 in /opt/conda/lib/python3.7/site-packages (2.6.0)\r\n",
      "\u001b[33mWARNING: Running pip as the 'root' user can result in broken permissions and conflicting behaviour with the system package manager. It is recommended to use a virtual environment instead: https://pip.pypa.io/warnings/venv\u001b[0m\u001b[33m\r\n",
      "\u001b[0m"
     ]
    }
   ],
   "source": [
    "!pip install keras==2.6"
   ]
  },
  {
   "cell_type": "markdown",
   "id": "3e3c8c84",
   "metadata": {
    "papermill": {
     "duration": 0.007227,
     "end_time": "2022-09-25T03:40:26.069885",
     "exception": false,
     "start_time": "2022-09-25T03:40:26.062658",
     "status": "completed"
    },
    "tags": []
   },
   "source": [
    "## Reference\n",
    "https://www.analyticsvidhya.com/blog/2021/08/sentiment-analysis-using-bidirectional-stacked-lstm/"
   ]
  },
  {
   "cell_type": "code",
   "execution_count": 2,
   "id": "6a8096a6",
   "metadata": {
    "execution": {
     "iopub.execute_input": "2022-09-25T03:40:26.086514Z",
     "iopub.status.busy": "2022-09-25T03:40:26.086170Z",
     "iopub.status.idle": "2022-09-25T03:40:31.947704Z",
     "shell.execute_reply": "2022-09-25T03:40:31.946760Z"
    },
    "papermill": {
     "duration": 5.87261,
     "end_time": "2022-09-25T03:40:31.950079",
     "exception": false,
     "start_time": "2022-09-25T03:40:26.077469",
     "status": "completed"
    },
    "tags": []
   },
   "outputs": [
    {
     "name": "stderr",
     "output_type": "stream",
     "text": [
      "[nltk_data] Downloading package stopwords to /usr/share/nltk_data...\n",
      "[nltk_data]   Package stopwords is already up-to-date!\n"
     ]
    }
   ],
   "source": [
    "import numpy as np\n",
    "import pandas as pd\n",
    "import os\n",
    "import warnings\n",
    "warnings.filterwarnings(\"ignore\")\n",
    "\n",
    "# For preprocessing\n",
    "import re \n",
    "import nltk\n",
    "import string\n",
    "nltk.download(\"stopwords\")\n",
    "from nltk.corpus import stopwords\n",
    "from nltk.stem.porter import *\n",
    "from nltk.stem import SnowballStemmer\n",
    "import pickle\n",
    "from collections import Counter  #to count elements in list\n",
    "\n",
    "# For Building the model\n",
    "from sklearn.model_selection import train_test_split\n",
    "from sklearn.preprocessing import LabelEncoder\n",
    "import tensorflow as tf\n",
    "from sklearn.feature_extraction.text import CountVectorizer\n",
    "\n",
    "#For data visualization\n",
    "import matplotlib.pyplot as plt\n",
    "import matplotlib.patches as mpatches\n",
    "from matplotlib import ticker\n",
    "%matplotlib inline\n",
    "import seaborn as sns"
   ]
  },
  {
   "cell_type": "markdown",
   "id": "0d422c12",
   "metadata": {
    "execution": {
     "iopub.execute_input": "2022-09-24T11:44:49.973630Z",
     "iopub.status.busy": "2022-09-24T11:44:49.973337Z",
     "iopub.status.idle": "2022-09-24T11:44:49.981627Z",
     "shell.execute_reply": "2022-09-24T11:44:49.980495Z",
     "shell.execute_reply.started": "2022-09-24T11:44:49.973603Z"
    },
    "papermill": {
     "duration": 0.007256,
     "end_time": "2022-09-25T03:40:31.965370",
     "exception": false,
     "start_time": "2022-09-25T03:40:31.958114",
     "status": "completed"
    },
    "tags": []
   },
   "source": [
    "## Loding the data set"
   ]
  },
  {
   "cell_type": "code",
   "execution_count": null,
   "id": "b4efa0ee",
   "metadata": {},
   "outputs": [],
   "source": [
    "df = pd.read_csv('train_sentiment.csv')"
   ]
  },
  {
   "cell_type": "markdown",
   "id": "c80138ba",
   "metadata": {
    "execution": {
     "iopub.execute_input": "2022-09-24T13:15:25.522044Z",
     "iopub.status.busy": "2022-09-24T13:15:25.521690Z",
     "iopub.status.idle": "2022-09-24T13:15:25.527041Z",
     "shell.execute_reply": "2022-09-24T13:15:25.526033Z",
     "shell.execute_reply.started": "2022-09-24T13:15:25.522010Z"
    },
    "papermill": {
     "duration": 0.007846,
     "end_time": "2022-09-25T03:40:40.050980",
     "exception": false,
     "start_time": "2022-09-25T03:40:40.043134",
     "status": "completed"
    },
    "tags": []
   },
   "source": [
    "## Preprocessing"
   ]
  },
  {
   "cell_type": "code",
   "execution_count": 7,
   "id": "95f9331b",
   "metadata": {
    "execution": {
     "iopub.execute_input": "2022-09-25T03:40:40.933745Z",
     "iopub.status.busy": "2022-09-25T03:40:40.933414Z",
     "iopub.status.idle": "2022-09-25T03:40:40.961317Z",
     "shell.execute_reply": "2022-09-25T03:40:40.959773Z"
    },
    "papermill": {
     "duration": 0.038654,
     "end_time": "2022-09-25T03:40:40.963584",
     "exception": false,
     "start_time": "2022-09-25T03:40:40.924930",
     "status": "completed"
    },
    "tags": []
   },
   "outputs": [
    {
     "name": "stdout",
     "output_type": "stream",
     "text": [
      "<class 'pandas.core.frame.DataFrame'>\n",
      "Int64Index: 205075 entries, 0 to 162979\n",
      "Data columns (total 2 columns):\n",
      " #   Column    Non-Null Count   Dtype  \n",
      "---  ------    --------------   -----  \n",
      " 0   category  205068 non-null  float64\n",
      " 1   text      204971 non-null  object \n",
      "dtypes: float64(1), object(1)\n",
      "memory usage: 4.7+ MB\n",
      "None\n"
     ]
    }
   ],
   "source": [
    "print(df.info())"
   ]
  },
  {
   "cell_type": "code",
   "execution_count": 8,
   "id": "c7666deb",
   "metadata": {
    "execution": {
     "iopub.execute_input": "2022-09-25T03:40:40.980905Z",
     "iopub.status.busy": "2022-09-25T03:40:40.980620Z",
     "iopub.status.idle": "2022-09-25T03:40:41.188247Z",
     "shell.execute_reply": "2022-09-25T03:40:41.184477Z"
    },
    "papermill": {
     "duration": 0.220102,
     "end_time": "2022-09-25T03:40:41.191816",
     "exception": false,
     "start_time": "2022-09-25T03:40:40.971714",
     "status": "completed"
    },
    "tags": []
   },
   "outputs": [
    {
     "data": {
      "text/plain": [
       "<AxesSubplot:title={'center':'different catagories'}, ylabel='category'>"
      ]
     },
     "execution_count": 8,
     "metadata": {},
     "output_type": "execute_result"
    },
    {
     "data": {
      "image/png": "[encoded data removed]",
      "text/plain": [
       "<Figure size 1296x720 with 1 Axes>"
      ]
     },
     "metadata": {},
     "output_type": "display_data"
    }
   ],
   "source": [
    "color = sns.color_palette('pastel')[0:df.category.nunique()]\n",
    "df['category'].value_counts().plot.pie(figsize =(18,10) , \n",
    "                                           autopct='%.2f%%', \n",
    "                                           title = 'different catagories',\n",
    "                                           colors =color )"
   ]
  },
  {
   "cell_type": "code",
   "execution_count": 9,
   "id": "43e7da93",
   "metadata": {
    "execution": {
     "iopub.execute_input": "2022-09-25T03:40:41.232573Z",
     "iopub.status.busy": "2022-09-25T03:40:41.232241Z",
     "iopub.status.idle": "2022-09-25T03:40:41.239925Z",
     "shell.execute_reply": "2022-09-25T03:40:41.238906Z"
    },
    "papermill": {
     "duration": 0.028498,
     "end_time": "2022-09-25T03:40:41.242357",
     "exception": false,
     "start_time": "2022-09-25T03:40:41.213859",
     "status": "completed"
    },
    "tags": []
   },
   "outputs": [],
   "source": [
    "def remove_emoji(string):\n",
    "    emoji_pattern = re.compile(\"[\"\n",
    "                               u\"\\U0001F600-\\U0001F64F\"  # emoticons\n",
    "                               u\"\\U0001F300-\\U0001F5FF\"  # symbols & pictographs\n",
    "                               u\"\\U0001F680-\\U0001F6FF\"  # transport & map symbols\n",
    "                               u\"\\U0001F1E0-\\U0001F1FF\"  # flags (iOS)\n",
    "                               u\"\\U00002500-\\U00002BEF\"  # chinese char\n",
    "                               u\"\\U00002702-\\U000027B0\"\n",
    "                               u\"\\U00002702-\\U000027B0\"\n",
    "                               u\"\\U000024C2-\\U0001F251\"\n",
    "                               u\"\\U0001f926-\\U0001f937\"\n",
    "                               u\"\\U00010000-\\U0010ffff\"\n",
    "                               u\"\\u2640-\\u2642\"\n",
    "                               u\"\\u2600-\\u2B55\"\n",
    "                               u\"\\u200d\"\n",
    "                               u\"\\u23cf\"\n",
    "                               u\"\\u23e9\"\n",
    "                               u\"\\u231a\"\n",
    "                               u\"\\ufe0f\"  # dingbats\n",
    "                               u\"\\u3030\"\n",
    "                               \"]+\", flags=re.UNICODE)\n",
    "    return emoji_pattern.sub(r'', str(string))\n",
    "\n",
    "\n",
    "def Clean_text(text):\n",
    "    text= re.sub('@[A-Za-z0-9]+','',text ) #removing mentions\n",
    "    text = re.sub(r\"[^a-zA-Z0-9]\", \" \", text) # Removing non letters\n",
    "    text= re.sub(\"#\",'',text) #removing #\n",
    "    text= re.sub('RT[\\s]+','',text) # removing Retexts\n",
    "    text= re.sub('https?:\\/\\/\\S+','',text) #removing links\n",
    "    text= re.sub(\"[+%|):'@(€¥£—•;=*]\",\" \",text)\n",
    "    text= re.sub(r'[^\\x00-\\x7F]+',' ', text)\n",
    "    text= text.lower()\n",
    "    return text"
   ]
  },
  {
   "cell_type": "code",
   "execution_count": 10,
   "id": "4c086424",
   "metadata": {
    "execution": {
     "iopub.execute_input": "2022-09-25T03:40:41.260444Z",
     "iopub.status.busy": "2022-09-25T03:40:41.260177Z",
     "iopub.status.idle": "2022-09-25T03:40:45.453109Z",
     "shell.execute_reply": "2022-09-25T03:40:45.451628Z"
    },
    "papermill": {
     "duration": 4.20626,
     "end_time": "2022-09-25T03:40:45.457076",
     "exception": false,
     "start_time": "2022-09-25T03:40:41.250816",
     "status": "completed"
    },
    "tags": []
   },
   "outputs": [],
   "source": [
    "df['text'] = df[\"text\"].apply(remove_emoji)\n",
    "df['text'] = df[\"text\"].apply(Clean_text)"
   ]
  },
  {
   "cell_type": "code",
   "execution_count": 11,
   "id": "8598d5bf",
   "metadata": {
    "execution": {
     "iopub.execute_input": "2022-09-25T03:40:45.481991Z",
     "iopub.status.busy": "2022-09-25T03:40:45.480961Z",
     "iopub.status.idle": "2022-09-25T03:40:47.354999Z",
     "shell.execute_reply": "2022-09-25T03:40:47.354012Z"
    },
    "papermill": {
     "duration": 1.886549,
     "end_time": "2022-09-25T03:40:47.357378",
     "exception": false,
     "start_time": "2022-09-25T03:40:45.470829",
     "status": "completed"
    },
    "tags": []
   },
   "outputs": [],
   "source": [
    "df['text'] = df['text'].str.replace('\\d+', '')\n",
    "df[\"text\"] = df[\"text\"].str.replace(\"?\",\" \")\n",
    "df[\"text\"] = df[\"text\"].str.replace(\"!\",\" \")\n",
    "df[\"text\"] = df[\"text\"].str.replace(\"_\",\" \")\n",
    "df[\"text\"] = df[\"text\"].str.replace(\",\",\" \")\n",
    "df[\"text\"] = df[\"text\"].str.replace(\"&\",\" \")\n",
    "df[\"text\"] = df[\"text\"].str.replace(\"\\n\",\" \")\n",
    "df[\"text\"] = df[\"text\"].str.replace(\"/\",\" \")\n",
    "df[\"text\"] = df[\"text\"].str.replace(\"-\",\" \")\n",
    "df[\"text\"] = df[\"text\"].str.replace(\"$\",\" \")\n",
    "df[\"text\"] = df[\"text\"].str.replace(\"\\r\",\" \")\n",
    "df[\"text\"] = df[\"text\"].str.replace(\".\",\" \")\n",
    "df[\"text\"] = df[\"text\"].str.replace(\"~\",\" \")\n",
    "df[\"text\"] = df[\"text\"].str.replace(\"[\",\" \")\n",
    "df[\"text\"] = df[\"text\"].str.replace(\"]\",\" \")"
   ]
  },
  {
   "cell_type": "code",
   "execution_count": 12,
   "id": "0f5ccfb3",
   "metadata": {
    "execution": {
     "iopub.execute_input": "2022-09-25T03:40:47.376126Z",
     "iopub.status.busy": "2022-09-25T03:40:47.375137Z",
     "iopub.status.idle": "2022-09-25T03:40:57.130594Z",
     "shell.execute_reply": "2022-09-25T03:40:57.129644Z"
    },
    "papermill": {
     "duration": 9.767219,
     "end_time": "2022-09-25T03:40:57.133032",
     "exception": false,
     "start_time": "2022-09-25T03:40:47.365813",
     "status": "completed"
    },
    "tags": []
   },
   "outputs": [],
   "source": [
    "stop_words = stopwords.words('english')\n",
    "df['text'] = df['text'].apply(lambda x: ' '.join([word for word in x.split() if word not in (stop_words)]))"
   ]
  },
  {
   "cell_type": "code",
   "execution_count": 13,
   "id": "843f3dec",
   "metadata": {
    "execution": {
     "iopub.execute_input": "2022-09-25T03:40:57.152400Z",
     "iopub.status.busy": "2022-09-25T03:40:57.150667Z",
     "iopub.status.idle": "2022-09-25T03:40:57.166918Z",
     "shell.execute_reply": "2022-09-25T03:40:57.165888Z"
    },
    "papermill": {
     "duration": 0.027679,
     "end_time": "2022-09-25T03:40:57.169215",
     "exception": false,
     "start_time": "2022-09-25T03:40:57.141536",
     "status": "completed"
    },
    "tags": []
   },
   "outputs": [
    {
     "data": {
      "text/html": [
       "<div>\n",
       "<style scoped>\n",
       "    .dataframe tbody tr th:only-of-type {\n",
       "        vertical-align: middle;\n",
       "    }\n",
       "\n",
       "    .dataframe tbody tr th {\n",
       "        vertical-align: top;\n",
       "    }\n",
       "\n",
       "    .dataframe thead th {\n",
       "        text-align: right;\n",
       "    }\n",
       "</style>\n",
       "<table border=\"1\" class=\"dataframe\">\n",
       "  <thead>\n",
       "    <tr style=\"text-align: right;\">\n",
       "      <th></th>\n",
       "      <th>category</th>\n",
       "      <th>text</th>\n",
       "    </tr>\n",
       "  </thead>\n",
       "  <tbody>\n",
       "    <tr>\n",
       "      <th>0</th>\n",
       "      <td>0.0</td>\n",
       "      <td>according gran company plans move production r...</td>\n",
       "    </tr>\n",
       "    <tr>\n",
       "      <th>1</th>\n",
       "      <td>0.0</td>\n",
       "      <td>technopolis plans develop stages area less squ...</td>\n",
       "    </tr>\n",
       "    <tr>\n",
       "      <th>2</th>\n",
       "      <td>-1.0</td>\n",
       "      <td>international electronic industry company elco...</td>\n",
       "    </tr>\n",
       "    <tr>\n",
       "      <th>3</th>\n",
       "      <td>1.0</td>\n",
       "      <td>new production plant company would increase ca...</td>\n",
       "    </tr>\n",
       "    <tr>\n",
       "      <th>4</th>\n",
       "      <td>1.0</td>\n",
       "      <td>according company updated strategy years baswa...</td>\n",
       "    </tr>\n",
       "    <tr>\n",
       "      <th>...</th>\n",
       "      <td>...</td>\n",
       "      <td>...</td>\n",
       "    </tr>\n",
       "    <tr>\n",
       "      <th>162975</th>\n",
       "      <td>-1.0</td>\n",
       "      <td>crores paid neerav modi recovered congress lea...</td>\n",
       "    </tr>\n",
       "    <tr>\n",
       "      <th>162976</th>\n",
       "      <td>-1.0</td>\n",
       "      <td>dear rss terrorist payal gawar modi killing pl...</td>\n",
       "    </tr>\n",
       "    <tr>\n",
       "      <th>162977</th>\n",
       "      <td>0.0</td>\n",
       "      <td>cover interaction forum left</td>\n",
       "    </tr>\n",
       "    <tr>\n",
       "      <th>162978</th>\n",
       "      <td>0.0</td>\n",
       "      <td>big project came india modi dream project happ...</td>\n",
       "    </tr>\n",
       "    <tr>\n",
       "      <th>162979</th>\n",
       "      <td>1.0</td>\n",
       "      <td>ever listen like gurukul discipline maintained...</td>\n",
       "    </tr>\n",
       "  </tbody>\n",
       "</table>\n",
       "<p>205075 rows × 2 columns</p>\n",
       "</div>"
      ],
      "text/plain": [
       "        category                                               text\n",
       "0            0.0  according gran company plans move production r...\n",
       "1            0.0  technopolis plans develop stages area less squ...\n",
       "2           -1.0  international electronic industry company elco...\n",
       "3            1.0  new production plant company would increase ca...\n",
       "4            1.0  according company updated strategy years baswa...\n",
       "...          ...                                                ...\n",
       "162975      -1.0  crores paid neerav modi recovered congress lea...\n",
       "162976      -1.0  dear rss terrorist payal gawar modi killing pl...\n",
       "162977       0.0                       cover interaction forum left\n",
       "162978       0.0  big project came india modi dream project happ...\n",
       "162979       1.0  ever listen like gurukul discipline maintained...\n",
       "\n",
       "[205075 rows x 2 columns]"
      ]
     },
     "execution_count": 13,
     "metadata": {},
     "output_type": "execute_result"
    }
   ],
   "source": [
    "df"
   ]
  },
  {
   "cell_type": "code",
   "execution_count": 14,
   "id": "aa4b1ce7",
   "metadata": {
    "execution": {
     "iopub.execute_input": "2022-09-25T03:40:57.187131Z",
     "iopub.status.busy": "2022-09-25T03:40:57.186857Z",
     "iopub.status.idle": "2022-09-25T03:40:57.192037Z",
     "shell.execute_reply": "2022-09-25T03:40:57.191023Z"
    },
    "papermill": {
     "duration": 0.016616,
     "end_time": "2022-09-25T03:40:57.194336",
     "exception": false,
     "start_time": "2022-09-25T03:40:57.177720",
     "status": "completed"
    },
    "tags": []
   },
   "outputs": [],
   "source": [
    "def text_to_words(text):\n",
    "# tokenize\n",
    "    words = text.split()\n",
    "    # remove stopwords\n",
    "    words = [w for w in words if w not in stopwords.words(\"english\")]\n",
    "    # apply stemming\n",
    "    words = [PorterStemmer().stem(w) for w in words]\n",
    "    # return list\n",
    "    return words"
   ]
  },
  {
   "cell_type": "code",
   "execution_count": 15,
   "id": "ac9e18f6",
   "metadata": {
    "execution": {
     "iopub.execute_input": "2022-09-25T03:40:57.212185Z",
     "iopub.status.busy": "2022-09-25T03:40:57.211351Z",
     "iopub.status.idle": "2022-09-25T03:48:43.319071Z",
     "shell.execute_reply": "2022-09-25T03:48:43.318060Z"
    },
    "papermill": {
     "duration": 466.119301,
     "end_time": "2022-09-25T03:48:43.321773",
     "exception": false,
     "start_time": "2022-09-25T03:40:57.202472",
     "status": "completed"
    },
    "tags": []
   },
   "outputs": [],
   "source": [
    "X = list(map(text_to_words, df['text']))"
   ]
  },
  {
   "cell_type": "code",
   "execution_count": 16,
   "id": "57d7048d",
   "metadata": {
    "execution": {
     "iopub.execute_input": "2022-09-25T03:48:43.341903Z",
     "iopub.status.busy": "2022-09-25T03:48:43.340220Z",
     "iopub.status.idle": "2022-09-25T03:48:43.356870Z",
     "shell.execute_reply": "2022-09-25T03:48:43.356015Z"
    },
    "papermill": {
     "duration": 0.028453,
     "end_time": "2022-09-25T03:48:43.359084",
     "exception": false,
     "start_time": "2022-09-25T03:48:43.330631",
     "status": "completed"
    },
    "tags": []
   },
   "outputs": [],
   "source": [
    "# Encode target labels\n",
    "le = LabelEncoder()\n",
    "Y = le.fit_transform(df['category'])"
   ]
  },
  {
   "cell_type": "code",
   "execution_count": 17,
   "id": "12567512",
   "metadata": {
    "execution": {
     "iopub.execute_input": "2022-09-25T03:48:43.377225Z",
     "iopub.status.busy": "2022-09-25T03:48:43.376933Z",
     "iopub.status.idle": "2022-09-25T03:48:43.382382Z",
     "shell.execute_reply": "2022-09-25T03:48:43.381527Z"
    },
    "papermill": {
     "duration": 0.016706,
     "end_time": "2022-09-25T03:48:43.384243",
     "exception": false,
     "start_time": "2022-09-25T03:48:43.367537",
     "status": "completed"
    },
    "tags": []
   },
   "outputs": [
    {
     "data": {
      "text/plain": [
       "205075"
      ]
     },
     "execution_count": 17,
     "metadata": {},
     "output_type": "execute_result"
    }
   ],
   "source": [
    "len(X)"
   ]
  },
  {
   "cell_type": "code",
   "execution_count": 18,
   "id": "33fddef3",
   "metadata": {
    "execution": {
     "iopub.execute_input": "2022-09-25T03:48:43.403030Z",
     "iopub.status.busy": "2022-09-25T03:48:43.402058Z",
     "iopub.status.idle": "2022-09-25T03:48:43.414350Z",
     "shell.execute_reply": "2022-09-25T03:48:43.413427Z"
    },
    "papermill": {
     "duration": 0.023803,
     "end_time": "2022-09-25T03:48:43.416324",
     "exception": false,
     "start_time": "2022-09-25T03:48:43.392521",
     "status": "completed"
    },
    "tags": []
   },
   "outputs": [],
   "source": [
    "y = pd.get_dummies(df['category'])"
   ]
  },
  {
   "cell_type": "code",
   "execution_count": 19,
   "id": "977edfe4",
   "metadata": {
    "execution": {
     "iopub.execute_input": "2022-09-25T03:48:43.434988Z",
     "iopub.status.busy": "2022-09-25T03:48:43.434695Z",
     "iopub.status.idle": "2022-09-25T03:48:43.637096Z",
     "shell.execute_reply": "2022-09-25T03:48:43.636089Z"
    },
    "papermill": {
     "duration": 0.215161,
     "end_time": "2022-09-25T03:48:43.640204",
     "exception": false,
     "start_time": "2022-09-25T03:48:43.425043",
     "status": "completed"
    },
    "tags": []
   },
   "outputs": [],
   "source": [
    "# Train and test split\n",
    "y = pd.get_dummies(df['category'])\n",
    "X_train, X_test, y_train, y_test = train_test_split(X, y, test_size=0.2, random_state=1)\n",
    "X_train, X_val, y_train, y_val = train_test_split(X_train, y_train, test_size=0.25, random_state=1)"
   ]
  },
  {
   "cell_type": "markdown",
   "id": "41828da7",
   "metadata": {
    "papermill": {
     "duration": 0.012226,
     "end_time": "2022-09-25T03:48:43.665833",
     "exception": false,
     "start_time": "2022-09-25T03:48:43.653607",
     "status": "completed"
    },
    "tags": []
   },
   "source": [
    "## Bag of words (BOW) feature extraction"
   ]
  },
  {
   "cell_type": "code",
   "execution_count": 20,
   "id": "08298291",
   "metadata": {
    "execution": {
     "iopub.execute_input": "2022-09-25T03:48:43.692707Z",
     "iopub.status.busy": "2022-09-25T03:48:43.692265Z",
     "iopub.status.idle": "2022-09-25T03:48:50.314193Z",
     "shell.execute_reply": "2022-09-25T03:48:50.313200Z"
    },
    "papermill": {
     "duration": 6.637934,
     "end_time": "2022-09-25T03:48:50.316562",
     "exception": false,
     "start_time": "2022-09-25T03:48:43.678628",
     "status": "completed"
    },
    "tags": []
   },
   "outputs": [],
   "source": [
    "vocabulary_size = len(X)\n",
    "\n",
    "count_vector = CountVectorizer(max_features=vocabulary_size,\n",
    "#                               ngram_range=(1,2),    # unigram and bigram\n",
    "                                preprocessor=lambda x: x,\n",
    "                               tokenizer=lambda x: x) \n",
    "\n",
    "# Fit the training data\n",
    "X_train = count_vector.fit_transform(X_train).toarray()\n",
    "\n",
    "# Transform testing data\n",
    "X_test = count_vector.transform(X_test).toarray()"
   ]
  },
  {
   "cell_type": "code",
   "execution_count": 21,
   "id": "7b17993d",
   "metadata": {
    "execution": {
     "iopub.execute_input": "2022-09-25T03:48:50.335581Z",
     "iopub.status.busy": "2022-09-25T03:48:50.335253Z",
     "iopub.status.idle": "2022-09-25T03:48:50.537361Z",
     "shell.execute_reply": "2022-09-25T03:48:50.536379Z"
    },
    "papermill": {
     "duration": 0.213721,
     "end_time": "2022-09-25T03:48:50.539534",
     "exception": false,
     "start_time": "2022-09-25T03:48:50.325813",
     "status": "completed"
    },
    "tags": []
   },
   "outputs": [
    {
     "data": {
      "image/png": "[encoded data removed]",
      "text/plain": [
       "<Figure size 432x288 with 1 Axes>"
      ]
     },
     "metadata": {
      "needs_background": "light"
     },
     "output_type": "display_data"
    }
   ],
   "source": [
    "# Plot the BoW feature vector\n",
    "plt.plot(X_train[2,:])\n",
    "plt.xlabel('Word')\n",
    "plt.ylabel('Count')\n",
    "plt.show()"
   ]
  },
  {
   "cell_type": "markdown",
   "id": "7f323bf8",
   "metadata": {
    "papermill": {
     "duration": 0.00847,
     "end_time": "2022-09-25T03:48:50.556792",
     "exception": false,
     "start_time": "2022-09-25T03:48:50.548322",
     "status": "completed"
    },
    "tags": []
   },
   "source": [
    "## Tokenizing & Padding"
   ]
  },
  {
   "cell_type": "code",
   "execution_count": 22,
   "id": "b7df80fb",
   "metadata": {
    "execution": {
     "iopub.execute_input": "2022-09-25T03:48:50.576036Z",
     "iopub.status.busy": "2022-09-25T03:48:50.575150Z",
     "iopub.status.idle": "2022-09-25T03:48:50.580944Z",
     "shell.execute_reply": "2022-09-25T03:48:50.579637Z"
    },
    "papermill": {
     "duration": 0.018091,
     "end_time": "2022-09-25T03:48:50.583474",
     "exception": false,
     "start_time": "2022-09-25T03:48:50.565383",
     "status": "completed"
    },
    "tags": []
   },
   "outputs": [
    {
     "name": "stdout",
     "output_type": "stream",
     "text": [
      "2.6.4\n"
     ]
    }
   ],
   "source": [
    "import tensorflow as tf\n",
    "print(tf.__version__)"
   ]
  },
  {
   "cell_type": "code",
   "execution_count": 23,
   "id": "039dbb90",
   "metadata": {
    "execution": {
     "iopub.execute_input": "2022-09-25T03:48:50.603614Z",
     "iopub.status.busy": "2022-09-25T03:48:50.602598Z",
     "iopub.status.idle": "2022-09-25T03:48:59.561461Z",
     "shell.execute_reply": "2022-09-25T03:48:59.559428Z"
    },
    "papermill": {
     "duration": 8.971036,
     "end_time": "2022-09-25T03:48:59.563827",
     "exception": false,
     "start_time": "2022-09-25T03:48:50.592791",
     "status": "completed"
    },
    "tags": []
   },
   "outputs": [
    {
     "name": "stdout",
     "output_type": "stream",
     "text": [
      "Before Tokenization & Padding \n",
      " 0    according gran company plans move production r...\n",
      "0    family mormon never tried explain still stare ...\n",
      "0    modi promised minimum government maximum gover...\n",
      "Name: text, dtype: object\n",
      "After Tokenization & Padding \n",
      " [ 582  348 1256  541 1961  876 1747  348 1075    0    0    0    0    0\n",
      "    0    0    0    0    0    0    0    0    0    0    0    0    0    0\n",
      "    0    0    0    0    0    0    0    0    0    0    0    0    0    0\n",
      "    0    0    0    0    0    0    0    0    0    0    0    0    0    0\n",
      "    0    0    0    0    0    0    0    0]\n"
     ]
    }
   ],
   "source": [
    "from keras.preprocessing.text import Tokenizer\n",
    "from keras.preprocessing.sequence import pad_sequences\n",
    "\n",
    "max_words = 5000\n",
    "max_len=64\n",
    "\n",
    "def tokenize_pad_sequences(text):\n",
    "    '''\n",
    "    This function tokenize the input text into sequnences of intergers and then\n",
    "    pad each sequence to the same length\n",
    "    '''\n",
    "    # Text tokenization\n",
    "    tokenizer = Tokenizer(num_words=max_words, lower=True, split=' ')\n",
    "    tokenizer.fit_on_texts(text)\n",
    "    # Transforms text to a sequence of integers\n",
    "    X = tokenizer.texts_to_sequences(text)\n",
    "    # Pad sequences to the same length\n",
    "    X = pad_sequences(X, padding='post', maxlen=max_len)\n",
    "    # return sequences\n",
    "    return X, tokenizer\n",
    "\n",
    "print('Before Tokenization & Padding \\n', df['text'][0])\n",
    "X, tokenizer = tokenize_pad_sequences(df['text'])\n",
    "print('After Tokenization & Padding \\n', X[0])"
   ]
  },
  {
   "cell_type": "code",
   "execution_count": 24,
   "id": "a10234b8",
   "metadata": {
    "execution": {
     "iopub.execute_input": "2022-09-25T03:48:59.583046Z",
     "iopub.status.busy": "2022-09-25T03:48:59.582721Z",
     "iopub.status.idle": "2022-09-25T03:48:59.841827Z",
     "shell.execute_reply": "2022-09-25T03:48:59.840677Z"
    },
    "papermill": {
     "duration": 0.271556,
     "end_time": "2022-09-25T03:48:59.844363",
     "exception": false,
     "start_time": "2022-09-25T03:48:59.572807",
     "status": "completed"
    },
    "tags": []
   },
   "outputs": [],
   "source": [
    "# saving\n",
    "with open('tokenizer.pickle', 'wb') as handle:\n",
    "    pickle.dump(tokenizer, handle, protocol=pickle.HIGHEST_PROTOCOL)\n",
    "\n",
    "# loading\n",
    "with open('tokenizer.pickle', 'rb') as handle:\n",
    "    tokenizer = pickle.load(handle)"
   ]
  },
  {
   "cell_type": "code",
   "execution_count": 25,
   "id": "869bfb52",
   "metadata": {
    "execution": {
     "iopub.execute_input": "2022-09-25T03:48:59.864129Z",
     "iopub.status.busy": "2022-09-25T03:48:59.863795Z",
     "iopub.status.idle": "2022-09-25T03:49:00.509195Z",
     "shell.execute_reply": "2022-09-25T03:49:00.508236Z"
    },
    "papermill": {
     "duration": 0.657628,
     "end_time": "2022-09-25T03:49:00.511295",
     "exception": false,
     "start_time": "2022-09-25T03:48:59.853667",
     "status": "completed"
    },
    "tags": []
   },
   "outputs": [
    {
     "name": "stdout",
     "output_type": "stream",
     "text": [
      "Train Set -> (123045, 64) (123045, 3)\n",
      "Validation Set -> (41015, 64) (41015, 3)\n",
      "Test Set -> (41015, 64) (41015, 3)\n"
     ]
    }
   ],
   "source": [
    "## Traintest split\n",
    "\n",
    "y = pd.get_dummies(df['category'])\n",
    "X_train, X_test, y_train, y_test = train_test_split(X, y, test_size=0.2, random_state=1)\n",
    "X_train, X_val, y_train, y_val = train_test_split(X_train, y_train, test_size=0.25, random_state=1)\n",
    "print('Train Set ->', X_train.shape, y_train.shape)\n",
    "print('Validation Set ->', X_val.shape, y_val.shape)\n",
    "print('Test Set ->', X_test.shape, y_test.shape)"
   ]
  },
  {
   "cell_type": "code",
   "execution_count": 26,
   "id": "4772cf00",
   "metadata": {
    "execution": {
     "iopub.execute_input": "2022-09-25T03:49:00.530592Z",
     "iopub.status.busy": "2022-09-25T03:49:00.530248Z",
     "iopub.status.idle": "2022-09-25T03:49:00.535385Z",
     "shell.execute_reply": "2022-09-25T03:49:00.534357Z"
    },
    "papermill": {
     "duration": 0.017232,
     "end_time": "2022-09-25T03:49:00.537758",
     "exception": false,
     "start_time": "2022-09-25T03:49:00.520526",
     "status": "completed"
    },
    "tags": []
   },
   "outputs": [],
   "source": [
    "import keras.backend as K\n",
    "\n",
    "def f1_score(precision, recall):\n",
    "    ''' Function to calculate f1 score '''\n",
    "    \n",
    "    f1_val = 2*(precision*recall)/(precision+recall+K.epsilon())\n",
    "    return f1_val"
   ]
  },
  {
   "cell_type": "markdown",
   "id": "653f925a",
   "metadata": {
    "execution": {
     "iopub.status.busy": "2022-09-24T13:26:12.172023Z",
     "iopub.status.idle": "2022-09-24T13:26:12.172613Z",
     "shell.execute_reply": "2022-09-24T13:26:12.172390Z",
     "shell.execute_reply.started": "2022-09-24T13:26:12.172367Z"
    },
    "papermill": {
     "duration": 0.008459,
     "end_time": "2022-09-25T03:49:00.554969",
     "exception": false,
     "start_time": "2022-09-25T03:49:00.546510",
     "status": "completed"
    },
    "tags": []
   },
   "source": [
    "## Bidirectional LSTM"
   ]
  },
  {
   "cell_type": "code",
   "execution_count": 27,
   "id": "b7810f5a",
   "metadata": {
    "execution": {
     "iopub.execute_input": "2022-09-25T03:49:00.574246Z",
     "iopub.status.busy": "2022-09-25T03:49:00.573332Z",
     "iopub.status.idle": "2022-09-25T03:49:04.350273Z",
     "shell.execute_reply": "2022-09-25T03:49:04.349326Z"
    },
    "papermill": {
     "duration": 3.788946,
     "end_time": "2022-09-25T03:49:04.352652",
     "exception": false,
     "start_time": "2022-09-25T03:49:00.563706",
     "status": "completed"
    },
    "tags": []
   },
   "outputs": [
    {
     "name": "stderr",
     "output_type": "stream",
     "text": [
      "2022-09-25 03:49:00.943431: I tensorflow/stream_executor/cuda/cuda_gpu_executor.cc:937] successful NUMA node read from SysFS had negative value (-1), but there must be at least one NUMA node, so returning NUMA node zero\n",
      "2022-09-25 03:49:01.044596: I tensorflow/stream_executor/cuda/cuda_gpu_executor.cc:937] successful NUMA node read from SysFS had negative value (-1), but there must be at least one NUMA node, so returning NUMA node zero\n",
      "2022-09-25 03:49:01.045406: I tensorflow/stream_executor/cuda/cuda_gpu_executor.cc:937] successful NUMA node read from SysFS had negative value (-1), but there must be at least one NUMA node, so returning NUMA node zero\n",
      "2022-09-25 03:49:01.047521: I tensorflow/core/platform/cpu_feature_guard.cc:142] This TensorFlow binary is optimized with oneAPI Deep Neural Network Library (oneDNN) to use the following CPU instructions in performance-critical operations:  AVX2 AVX512F FMA\n",
      "To enable them in other operations, rebuild TensorFlow with the appropriate compiler flags.\n",
      "2022-09-25 03:49:01.047911: I tensorflow/stream_executor/cuda/cuda_gpu_executor.cc:937] successful NUMA node read from SysFS had negative value (-1), but there must be at least one NUMA node, so returning NUMA node zero\n",
      "2022-09-25 03:49:01.048849: I tensorflow/stream_executor/cuda/cuda_gpu_executor.cc:937] successful NUMA node read from SysFS had negative value (-1), but there must be at least one NUMA node, so returning NUMA node zero\n",
      "2022-09-25 03:49:01.049734: I tensorflow/stream_executor/cuda/cuda_gpu_executor.cc:937] successful NUMA node read from SysFS had negative value (-1), but there must be at least one NUMA node, so returning NUMA node zero\n",
      "2022-09-25 03:49:03.396540: I tensorflow/stream_executor/cuda/cuda_gpu_executor.cc:937] successful NUMA node read from SysFS had negative value (-1), but there must be at least one NUMA node, so returning NUMA node zero\n",
      "2022-09-25 03:49:03.397603: I tensorflow/stream_executor/cuda/cuda_gpu_executor.cc:937] successful NUMA node read from SysFS had negative value (-1), but there must be at least one NUMA node, so returning NUMA node zero\n",
      "2022-09-25 03:49:03.398573: I tensorflow/stream_executor/cuda/cuda_gpu_executor.cc:937] successful NUMA node read from SysFS had negative value (-1), but there must be at least one NUMA node, so returning NUMA node zero\n",
      "2022-09-25 03:49:03.399409: I tensorflow/core/common_runtime/gpu/gpu_device.cc:1510] Created device /job:localhost/replica:0/task:0/device:GPU:0 with 15401 MB memory:  -> device: 0, name: Tesla P100-PCIE-16GB, pci bus id: 0000:00:04.0, compute capability: 6.0\n"
     ]
    }
   ],
   "source": [
    "from keras.models import Sequential\n",
    "from keras.layers import Embedding, Conv1D, MaxPooling1D, Bidirectional, LSTM, Dense, Dropout\n",
    "from keras.metrics import Precision, Recall\n",
    "from tensorflow.keras.optimizers import SGD , RMSprop\n",
    "from keras import datasets\n",
    "\n",
    "from keras.callbacks import LearningRateScheduler\n",
    "from keras.callbacks import History\n",
    "\n",
    "from keras import losses\n",
    "\n",
    "vocab_size = 5000\n",
    "embedding_size = 64\n",
    "epochs=20\n",
    "learning_rate = 0.1\n",
    "decay_rate = learning_rate / epochs\n",
    "momentum = 0.8\n",
    "\n",
    "sgd = SGD(lr=learning_rate, momentum=momentum, decay=decay_rate, nesterov=False)\n",
    "# Build model\n",
    "model= Sequential()\n",
    "model.add(Embedding(vocab_size, embedding_size, input_length=max_len))\n",
    "model.add(Conv1D(filters=32, kernel_size=3, padding='same', activation='relu'))\n",
    "model.add(MaxPooling1D(pool_size=2))\n",
    "model.add(Bidirectional(LSTM(32)))\n",
    "model.add(Dropout(0.4))\n",
    "model.add(Dense(3, activation='softmax'))"
   ]
  },
  {
   "cell_type": "code",
   "execution_count": 28,
   "id": "f2056484",
   "metadata": {
    "execution": {
     "iopub.execute_input": "2022-09-25T03:49:04.372288Z",
     "iopub.status.busy": "2022-09-25T03:49:04.371965Z",
     "iopub.status.idle": "2022-09-25T03:49:05.324739Z",
     "shell.execute_reply": "2022-09-25T03:49:05.323573Z"
    },
    "papermill": {
     "duration": 0.965437,
     "end_time": "2022-09-25T03:49:05.327378",
     "exception": false,
     "start_time": "2022-09-25T03:49:04.361941",
     "status": "completed"
    },
    "tags": []
   },
   "outputs": [
    {
     "data": {
      "image/png": "[encoded data removed]",
      "text/plain": [
       "<IPython.core.display.Image object>"
      ]
     },
     "execution_count": 28,
     "metadata": {},
     "output_type": "execute_result"
    }
   ],
   "source": [
    "import tensorflow as tf\n",
    "tf.keras.utils.plot_model(model, show_shapes=True)"
   ]
  },
  {
   "cell_type": "code",
   "execution_count": 29,
   "id": "154ba23f",
   "metadata": {
    "execution": {
     "iopub.execute_input": "2022-09-25T03:49:05.349045Z",
     "iopub.status.busy": "2022-09-25T03:49:05.348563Z",
     "iopub.status.idle": "2022-09-25T03:56:30.220988Z",
     "shell.execute_reply": "2022-09-25T03:56:30.219970Z"
    },
    "papermill": {
     "duration": 444.885785,
     "end_time": "2022-09-25T03:56:30.223542",
     "exception": false,
     "start_time": "2022-09-25T03:49:05.337757",
     "status": "completed"
    },
    "tags": []
   },
   "outputs": [
    {
     "name": "stdout",
     "output_type": "stream",
     "text": [
      "Model: \"sequential\"\n",
      "_________________________________________________________________\n",
      "Layer (type)                 Output Shape              Param #   \n",
      "=================================================================\n",
      "embedding (Embedding)        (None, 64, 64)            320000    \n",
      "_________________________________________________________________\n",
      "conv1d (Conv1D)              (None, 64, 32)            6176      \n",
      "_________________________________________________________________\n",
      "max_pooling1d (MaxPooling1D) (None, 32, 32)            0         \n",
      "_________________________________________________________________\n",
      "bidirectional (Bidirectional (None, 64)                16640     \n",
      "_________________________________________________________________\n",
      "dropout (Dropout)            (None, 64)                0         \n",
      "_________________________________________________________________\n",
      "dense (Dense)                (None, 3)                 195       \n",
      "=================================================================\n",
      "Total params: 343,011\n",
      "Trainable params: 343,011\n",
      "Non-trainable params: 0\n",
      "_________________________________________________________________\n",
      "None\n",
      "Epoch 1/20\n"
     ]
    },
    {
     "name": "stderr",
     "output_type": "stream",
     "text": [
      "2022-09-25 03:49:05.462260: I tensorflow/compiler/mlir/mlir_graph_optimization_pass.cc:185] None of the MLIR Optimization Passes are enabled (registered 2)\n",
      "2022-09-25 03:49:09.155226: I tensorflow/stream_executor/cuda/cuda_dnn.cc:369] Loaded cuDNN version 8005\n"
     ]
    },
    {
     "name": "stdout",
     "output_type": "stream",
     "text": [
      "1923/1923 [==============================] - 29s 10ms/step - loss: 0.9119 - accuracy: 0.5766 - precision: 0.6400 - recall: 0.4244 - val_loss: 0.7388 - val_accuracy: 0.6902 - val_precision: 0.7596 - val_recall: 0.5947\n",
      "Epoch 2/20\n",
      "1923/1923 [==============================] - 18s 10ms/step - loss: 0.7115 - accuracy: 0.7027 - precision: 0.7556 - recall: 0.6347 - val_loss: 0.6489 - val_accuracy: 0.7303 - val_precision: 0.7776 - val_recall: 0.6777\n",
      "Epoch 3/20\n",
      "1923/1923 [==============================] - 18s 9ms/step - loss: 0.6213 - accuracy: 0.7520 - precision: 0.7863 - recall: 0.7086 - val_loss: 0.6041 - val_accuracy: 0.7659 - val_precision: 0.7943 - val_recall: 0.7232\n",
      "Epoch 4/20\n",
      "1923/1923 [==============================] - 18s 9ms/step - loss: 0.5914 - accuracy: 0.7694 - precision: 0.7979 - recall: 0.7317 - val_loss: 0.5832 - val_accuracy: 0.7809 - val_precision: 0.8074 - val_recall: 0.7413\n",
      "Epoch 5/20\n",
      "1923/1923 [==============================] - 19s 10ms/step - loss: 0.5748 - accuracy: 0.7800 - precision: 0.8053 - recall: 0.7444 - val_loss: 0.5714 - val_accuracy: 0.7891 - val_precision: 0.8110 - val_recall: 0.7548\n",
      "Epoch 6/20\n",
      "1923/1923 [==============================] - 18s 9ms/step - loss: 0.5612 - accuracy: 0.7883 - precision: 0.8113 - recall: 0.7562 - val_loss: 0.5608 - val_accuracy: 0.7969 - val_precision: 0.8166 - val_recall: 0.7667\n",
      "Epoch 7/20\n",
      "1923/1923 [==============================] - 19s 10ms/step - loss: 0.5503 - accuracy: 0.7958 - precision: 0.8167 - recall: 0.7654 - val_loss: 0.5528 - val_accuracy: 0.8015 - val_precision: 0.8209 - val_recall: 0.7731\n",
      "Epoch 8/20\n",
      "1923/1923 [==============================] - 19s 10ms/step - loss: 0.5399 - accuracy: 0.8019 - precision: 0.8232 - recall: 0.7742 - val_loss: 0.5449 - val_accuracy: 0.8070 - val_precision: 0.8272 - val_recall: 0.7785\n",
      "Epoch 9/20\n",
      "1923/1923 [==============================] - 19s 10ms/step - loss: 0.5296 - accuracy: 0.8087 - precision: 0.8285 - recall: 0.7814 - val_loss: 0.5323 - val_accuracy: 0.8155 - val_precision: 0.8323 - val_recall: 0.7898\n",
      "Epoch 10/20\n",
      "1923/1923 [==============================] - 19s 10ms/step - loss: 0.5189 - accuracy: 0.8146 - precision: 0.8338 - recall: 0.7883 - val_loss: 0.5249 - val_accuracy: 0.8204 - val_precision: 0.8369 - val_recall: 0.7967\n",
      "Epoch 11/20\n",
      "1923/1923 [==============================] - 19s 10ms/step - loss: 0.5082 - accuracy: 0.8215 - precision: 0.8395 - recall: 0.7969 - val_loss: 0.5130 - val_accuracy: 0.8267 - val_precision: 0.8427 - val_recall: 0.8034\n",
      "Epoch 12/20\n",
      "1923/1923 [==============================] - 19s 10ms/step - loss: 0.4962 - accuracy: 0.8289 - precision: 0.8470 - recall: 0.8052 - val_loss: 0.5034 - val_accuracy: 0.8305 - val_precision: 0.8475 - val_recall: 0.8096\n",
      "Epoch 13/20\n",
      "1923/1923 [==============================] - 19s 10ms/step - loss: 0.4825 - accuracy: 0.8355 - precision: 0.8526 - recall: 0.8139 - val_loss: 0.4915 - val_accuracy: 0.8365 - val_precision: 0.8527 - val_recall: 0.8160\n",
      "Epoch 14/20\n",
      "1923/1923 [==============================] - 19s 10ms/step - loss: 0.4705 - accuracy: 0.8419 - precision: 0.8579 - recall: 0.8213 - val_loss: 0.4793 - val_accuracy: 0.8423 - val_precision: 0.8572 - val_recall: 0.8241\n",
      "Epoch 15/20\n",
      "1923/1923 [==============================] - 19s 10ms/step - loss: 0.4597 - accuracy: 0.8476 - precision: 0.8621 - recall: 0.8281 - val_loss: 0.4734 - val_accuracy: 0.8474 - val_precision: 0.8603 - val_recall: 0.8315\n",
      "Epoch 16/20\n",
      "1923/1923 [==============================] - 19s 10ms/step - loss: 0.4501 - accuracy: 0.8524 - precision: 0.8669 - recall: 0.8345 - val_loss: 0.4641 - val_accuracy: 0.8491 - val_precision: 0.8631 - val_recall: 0.8321\n",
      "Epoch 17/20\n",
      "1923/1923 [==============================] - 19s 10ms/step - loss: 0.4408 - accuracy: 0.8570 - precision: 0.8709 - recall: 0.8399 - val_loss: 0.4556 - val_accuracy: 0.8517 - val_precision: 0.8650 - val_recall: 0.8354\n",
      "Epoch 18/20\n",
      "1923/1923 [==============================] - 19s 10ms/step - loss: 0.4327 - accuracy: 0.8611 - precision: 0.8744 - recall: 0.8440 - val_loss: 0.4498 - val_accuracy: 0.8561 - val_precision: 0.8680 - val_recall: 0.8393\n",
      "Epoch 19/20\n",
      "1923/1923 [==============================] - 19s 10ms/step - loss: 0.4241 - accuracy: 0.8639 - precision: 0.8768 - recall: 0.8478 - val_loss: 0.4450 - val_accuracy: 0.8590 - val_precision: 0.8681 - val_recall: 0.8449\n",
      "Epoch 20/20\n",
      "1923/1923 [==============================] - 19s 10ms/step - loss: 0.4170 - accuracy: 0.8665 - precision: 0.8791 - recall: 0.8516 - val_loss: 0.4450 - val_accuracy: 0.8592 - val_precision: 0.8676 - val_recall: 0.8469\n"
     ]
    }
   ],
   "source": [
    "print(model.summary())\n",
    "\n",
    "# Compile model\n",
    "model.compile(loss='categorical_crossentropy', optimizer=sgd, \n",
    "               metrics=['accuracy', Precision(), Recall()])\n",
    "\n",
    "# Train model\n",
    "\n",
    "batch_size = 64\n",
    "history = model.fit(X_train, y_train,\n",
    "                      validation_data=(X_val, y_val),\n",
    "                      batch_size=batch_size, epochs=epochs, verbose=1)"
   ]
  },
  {
   "cell_type": "code",
   "execution_count": 30,
   "id": "147f82bd",
   "metadata": {
    "execution": {
     "iopub.execute_input": "2022-09-25T03:56:30.921592Z",
     "iopub.status.busy": "2022-09-25T03:56:30.921222Z",
     "iopub.status.idle": "2022-09-25T03:56:35.868551Z",
     "shell.execute_reply": "2022-09-25T03:56:35.867286Z"
    },
    "papermill": {
     "duration": 5.272148,
     "end_time": "2022-09-25T03:56:35.871304",
     "exception": false,
     "start_time": "2022-09-25T03:56:30.599156",
     "status": "completed"
    },
    "tags": []
   },
   "outputs": [
    {
     "name": "stdout",
     "output_type": "stream",
     "text": [
      "\n",
      "Accuracy  : 0.8581\n",
      "Precision : 0.8660\n",
      "Recall    : 0.8472\n",
      "F1 Score  : 0.8565\n"
     ]
    }
   ],
   "source": [
    "# Evaluate model on the test set\n",
    "loss, accuracy, precision, recall = model.evaluate(X_test, y_test, verbose=0)\n",
    "# Print metrics\n",
    "print('')\n",
    "print('Accuracy  : {:.4f}'.format(accuracy))\n",
    "print('Precision : {:.4f}'.format(precision))\n",
    "print('Recall    : {:.4f}'.format(recall))\n",
    "print('F1 Score  : {:.4f}'.format(f1_score(precision, recall)))"
   ]
  },
  {
   "cell_type": "code",
   "execution_count": 31,
   "id": "00c4bbdb",
   "metadata": {
    "execution": {
     "iopub.execute_input": "2022-09-25T03:56:36.581857Z",
     "iopub.status.busy": "2022-09-25T03:56:36.581477Z",
     "iopub.status.idle": "2022-09-25T03:56:36.641645Z",
     "shell.execute_reply": "2022-09-25T03:56:36.640537Z"
    },
    "papermill": {
     "duration": 0.454171,
     "end_time": "2022-09-25T03:56:36.643820",
     "exception": false,
     "start_time": "2022-09-25T03:56:36.189649",
     "status": "completed"
    },
    "tags": []
   },
   "outputs": [
    {
     "name": "stdout",
     "output_type": "stream",
     "text": [
      "Model saved\n"
     ]
    }
   ],
   "source": [
    "# Save the model architecture & the weights\n",
    "model.save('model.h5')\n",
    "print('Model saved')"
   ]
  },
  {
   "cell_type": "code",
   "execution_count": 32,
   "id": "5a9907ee",
   "metadata": {
    "execution": {
     "iopub.execute_input": "2022-09-25T03:56:37.464223Z",
     "iopub.status.busy": "2022-09-25T03:56:37.463859Z",
     "iopub.status.idle": "2022-09-25T03:56:37.932538Z",
     "shell.execute_reply": "2022-09-25T03:56:37.931609Z"
    },
    "papermill": {
     "duration": 0.838903,
     "end_time": "2022-09-25T03:56:37.934980",
     "exception": false,
     "start_time": "2022-09-25T03:56:37.096077",
     "status": "completed"
    },
    "tags": []
   },
   "outputs": [],
   "source": [
    "from keras.models import load_model\n",
    "\n",
    "# Load model\n",
    "model = load_model('model.h5')\n",
    "\n",
    "def predict_class(text):\n",
    "    '''Function to predict sentiment class of the passed text'''\n",
    "    \n",
    "    sentiment_classes = [-1, 0, 1]\n",
    "    max_len=64\n",
    "    \n",
    "    # Transforms text to a sequence of integers using a tokenizer object\n",
    "    xt = tokenizer.texts_to_sequences(text)\n",
    "    # Pad sequences to the same length\n",
    "    xt = pad_sequences(xt, padding='post', maxlen=max_len)\n",
    "    # Do the prediction using the loaded model\n",
    "    yt = model.predict(xt).argmax(axis=1)\n",
    "    # Print the predicted sentiment\n",
    "    print('The predicted sentiment is', sentiment_classes[yt[0]])"
   ]
  },
  {
   "cell_type": "markdown",
   "id": "ba30b828",
   "metadata": {
    "papermill": {
     "duration": 0.321267,
     "end_time": "2022-09-25T03:56:38.572730",
     "exception": false,
     "start_time": "2022-09-25T03:56:38.251463",
     "status": "completed"
    },
    "tags": []
   },
   "source": [
    "## Lets test for a single sentence"
   ]
  },
  {
   "cell_type": "code",
   "execution_count": 33,
   "id": "15d34976",
   "metadata": {
    "execution": {
     "iopub.execute_input": "2022-09-25T03:56:39.261720Z",
     "iopub.status.busy": "2022-09-25T03:56:39.261356Z",
     "iopub.status.idle": "2022-09-25T03:56:39.886525Z",
     "shell.execute_reply": "2022-09-25T03:56:39.885275Z"
    },
    "papermill": {
     "duration": 0.998712,
     "end_time": "2022-09-25T03:56:39.889280",
     "exception": false,
     "start_time": "2022-09-25T03:56:38.890568",
     "status": "completed"
    },
    "tags": []
   },
   "outputs": [
    {
     "name": "stdout",
     "output_type": "stream",
     "text": [
      "The predicted sentiment is 0\n"
     ]
    }
   ],
   "source": [
    "predict_class(['Market Crashed'])"
   ]
  },
  {
   "cell_type": "markdown",
   "id": "8a1ad5d7",
   "metadata": {},
   "source": [
    "#### Not giving correct output"
   ]
  },
  {
   "cell_type": "markdown",
   "id": "453bfcad",
   "metadata": {},
   "source": []
  }
 ],
 "metadata": {
  "kernelspec": {
   "display_name": "Python 3",
   "language": "python",
   "name": "python3"
  },
  "language_info": {
   "codemirror_mode": {
    "name": "ipython",
    "version": 3
   },
   "file_extension": ".py",
   "mimetype": "text/x-python",
   "name": "python",
   "nbconvert_exporter": "python",
   "pygments_lexer": "ipython3",
   "version": "3.7.12"
  },
  "papermill": {
   "default_parameters": {},
   "duration": 995.785763,
   "end_time": "2022-09-25T03:56:43.735773",
   "environment_variables": {},
   "exception": null,
   "input_path": "__notebook__.ipynb",
   "output_path": "__notebook__.ipynb",
   "parameters": {},
   "start_time": "2022-09-25T03:40:07.950010",
   "version": "2.3.4"
  }
 },
 "nbformat": 4,
 "nbformat_minor": 5
}
