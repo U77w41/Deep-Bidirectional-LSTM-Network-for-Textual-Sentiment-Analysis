{
 "cells": [
  {
   "cell_type": "code",
   "execution_count": 1,
   "id": "9cefe8b3",
   "metadata": {
    "execution": {
     "iopub.execute_input": "2022-09-29T12:24:51.981943Z",
     "iopub.status.busy": "2022-09-29T12:24:51.981486Z",
     "iopub.status.idle": "2022-09-29T12:25:02.453043Z",
     "shell.execute_reply": "2022-09-29T12:25:02.451899Z"
    },
    "papermill": {
     "duration": 10.483452,
     "end_time": "2022-09-29T12:25:02.455926",
     "exception": false,
     "start_time": "2022-09-29T12:24:51.972474",
     "status": "completed"
    },
    "tags": []
   },
   "outputs": [
    {
     "name": "stdout",
     "output_type": "stream",
     "text": [
      "Requirement already satisfied: keras==2.6 in /opt/conda/lib/python3.7/site-packages (2.6.0)\r\n",
      "\u001b[33mWARNING: Running pip as the 'root' user can result in broken permissions and conflicting behaviour with the system package manager. It is recommended to use a virtual environment instead: https://pip.pypa.io/warnings/venv\u001b[0m\u001b[33m\r\n",
      "\u001b[0m"
     ]
    }
   ],
   "source": [
    "!pip install keras==2.6"
   ]
  },
  {
   "cell_type": "markdown",
   "id": "2059ea2b",
   "metadata": {
    "papermill": {
     "duration": 0.006227,
     "end_time": "2022-09-29T12:25:02.469219",
     "exception": false,
     "start_time": "2022-09-29T12:25:02.462992",
     "status": "completed"
    },
    "tags": []
   },
   "source": [
    "# Importing Libraries"
   ]
  },
  {
   "cell_type": "code",
   "execution_count": 2,
   "id": "7779cbb4",
   "metadata": {
    "execution": {
     "iopub.execute_input": "2022-09-29T12:25:02.484264Z",
     "iopub.status.busy": "2022-09-29T12:25:02.483003Z",
     "iopub.status.idle": "2022-09-29T12:25:08.498904Z",
     "shell.execute_reply": "2022-09-29T12:25:08.497985Z"
    },
    "papermill": {
     "duration": 6.026156,
     "end_time": "2022-09-29T12:25:08.501607",
     "exception": false,
     "start_time": "2022-09-29T12:25:02.475451",
     "status": "completed"
    },
    "tags": []
   },
   "outputs": [
    {
     "name": "stderr",
     "output_type": "stream",
     "text": [
      "[nltk_data] Downloading package stopwords to /usr/share/nltk_data...\n",
      "[nltk_data]   Package stopwords is already up-to-date!\n"
     ]
    }
   ],
   "source": [
    "import numpy as np\n",
    "import pandas as pd\n",
    "import os\n",
    "import warnings\n",
    "warnings.filterwarnings(\"ignore\")\n",
    "\n",
    "# For preprocessing\n",
    "import re \n",
    "import nltk\n",
    "import string\n",
    "nltk.download(\"stopwords\")\n",
    "from nltk.corpus import stopwords\n",
    "from nltk.stem.porter import *\n",
    "from nltk.stem import SnowballStemmer\n",
    "import pickle\n",
    "from collections import Counter  #to count elements in list\n",
    "\n",
    "# For Building the model\n",
    "from sklearn.model_selection import train_test_split\n",
    "from sklearn.preprocessing import LabelEncoder\n",
    "import tensorflow as tf\n",
    "from sklearn.feature_extraction.text import CountVectorizer\n",
    "\n",
    "#For data visualization\n",
    "import matplotlib.pyplot as plt\n",
    "import matplotlib.patches as mpatches\n",
    "from matplotlib import ticker\n",
    "%matplotlib inline\n",
    "import seaborn as sns"
   ]
  },
  {
   "cell_type": "markdown",
   "id": "bb490f13",
   "metadata": {
    "papermill": {
     "duration": 0.006239,
     "end_time": "2022-09-29T12:25:08.514546",
     "exception": false,
     "start_time": "2022-09-29T12:25:08.508307",
     "status": "completed"
    },
    "tags": []
   },
   "source": [
    "# Reading the dataset"
   ]
  },
  {
   "cell_type": "code",
   "execution_count": 3,
   "id": "9a47ea3c",
   "metadata": {
    "execution": {
     "iopub.execute_input": "2022-09-29T12:25:08.530089Z",
     "iopub.status.busy": "2022-09-29T12:25:08.528243Z",
     "iopub.status.idle": "2022-09-29T12:25:08.627123Z",
     "shell.execute_reply": "2022-09-29T12:25:08.626186Z"
    },
    "papermill": {
     "duration": 0.108967,
     "end_time": "2022-09-29T12:25:08.629868",
     "exception": false,
     "start_time": "2022-09-29T12:25:08.520901",
     "status": "completed"
    },
    "tags": []
   },
   "outputs": [],
   "source": [
    "df = pd.read_csv('cleaned_df.csv')"
   ]
  },
  {
   "cell_type": "markdown",
   "id": "4ce27f26",
   "metadata": {
    "papermill": {
     "duration": 0.00648,
     "end_time": "2022-09-29T12:25:08.642901",
     "exception": false,
     "start_time": "2022-09-29T12:25:08.636421",
     "status": "completed"
    },
    "tags": []
   },
   "source": [
    "# Final Cleaning"
   ]
  },
  {
   "cell_type": "code",
   "execution_count": 4,
   "id": "4b26955c",
   "metadata": {
    "execution": {
     "iopub.execute_input": "2022-09-29T12:25:08.656815Z",
     "iopub.status.busy": "2022-09-29T12:25:08.656501Z",
     "iopub.status.idle": "2022-09-29T12:25:08.835314Z",
     "shell.execute_reply": "2022-09-29T12:25:08.834402Z"
    },
    "papermill": {
     "duration": 0.188117,
     "end_time": "2022-09-29T12:25:08.837392",
     "exception": false,
     "start_time": "2022-09-29T12:25:08.649275",
     "status": "completed"
    },
    "tags": []
   },
   "outputs": [],
   "source": [
    "df['text'] = df['text'].str.replace('\\d+', '')\n",
    "df[\"text\"] = df[\"text\"].str.replace(\"?\",\" \")\n",
    "df[\"text\"] = df[\"text\"].str.replace(\"!\",\" \")\n",
    "df[\"text\"] = df[\"text\"].str.replace(\"_\",\" \")\n",
    "df[\"text\"] = df[\"text\"].str.replace(\",\",\" \")\n",
    "df[\"text\"] = df[\"text\"].str.replace(\"&\",\" \")\n",
    "df[\"text\"] = df[\"text\"].str.replace(\"\\n\",\" \")\n",
    "df[\"text\"] = df[\"text\"].str.replace(\"/\",\" \")\n",
    "df[\"text\"] = df[\"text\"].str.replace(\"-\",\" \")\n",
    "df[\"text\"] = df[\"text\"].str.replace(\"$\",\" \")\n",
    "df[\"text\"] = df[\"text\"].str.replace(\"\\r\",\" \")\n",
    "df[\"text\"] = df[\"text\"].str.replace(\".\",\" \")\n",
    "df[\"text\"] = df[\"text\"].str.replace(\"~\",\" \")\n",
    "df[\"text\"] = df[\"text\"].str.replace(\"[\",\" \")\n",
    "df[\"text\"] = df[\"text\"].str.replace(\"]\",\" \")"
   ]
  },
  {
   "cell_type": "code",
   "execution_count": 5,
   "id": "d9fb114c",
   "metadata": {
    "execution": {
     "iopub.execute_input": "2022-09-29T12:25:08.853665Z",
     "iopub.status.busy": "2022-09-29T12:25:08.852243Z",
     "iopub.status.idle": "2022-09-29T12:25:09.564538Z",
     "shell.execute_reply": "2022-09-29T12:25:09.563541Z"
    },
    "papermill": {
     "duration": 0.722058,
     "end_time": "2022-09-29T12:25:09.566923",
     "exception": false,
     "start_time": "2022-09-29T12:25:08.844865",
     "status": "completed"
    },
    "tags": []
   },
   "outputs": [],
   "source": [
    "stop_words = stopwords.words('english')\n",
    "df['text'] = df['text'].apply(lambda x: ' '.join([word for word in x.split() if word not in (stop_words)]))"
   ]
  },
  {
   "cell_type": "code",
   "execution_count": 6,
   "id": "a430c6b8",
   "metadata": {
    "_cell_guid": "b1076dfc-b9ad-4769-8c92-a6c4dae69d19",
    "_uuid": "8f2839f25d086af736a60e9eeb907d3b93b6e0e5",
    "execution": {
     "iopub.execute_input": "2022-09-29T12:25:09.581677Z",
     "iopub.status.busy": "2022-09-29T12:25:09.581354Z",
     "iopub.status.idle": "2022-09-29T12:25:09.586882Z",
     "shell.execute_reply": "2022-09-29T12:25:09.585994Z"
    },
    "papermill": {
     "duration": 0.015339,
     "end_time": "2022-09-29T12:25:09.589001",
     "exception": false,
     "start_time": "2022-09-29T12:25:09.573662",
     "status": "completed"
    },
    "tags": []
   },
   "outputs": [],
   "source": [
    "def text_to_words(text):\n",
    "# tokenize\n",
    "    words = text.split()\n",
    "    # remove stopwords\n",
    "    words = [w for w in words if w not in stopwords.words(\"english\")]\n",
    "    # apply stemming\n",
    "    words = [PorterStemmer().stem(w) for w in words]\n",
    "    # return list\n",
    "    return words"
   ]
  },
  {
   "cell_type": "code",
   "execution_count": 7,
   "id": "96bbf4ae",
   "metadata": {
    "execution": {
     "iopub.execute_input": "2022-09-29T12:25:09.602831Z",
     "iopub.status.busy": "2022-09-29T12:25:09.602554Z",
     "iopub.status.idle": "2022-09-29T12:25:42.776875Z",
     "shell.execute_reply": "2022-09-29T12:25:42.775919Z"
    },
    "papermill": {
     "duration": 33.188188,
     "end_time": "2022-09-29T12:25:42.783457",
     "exception": false,
     "start_time": "2022-09-29T12:25:09.595269",
     "status": "completed"
    },
    "tags": []
   },
   "outputs": [
    {
     "data": {
      "text/plain": [
       "21862"
      ]
     },
     "execution_count": 7,
     "metadata": {},
     "output_type": "execute_result"
    }
   ],
   "source": [
    "X = list(map(text_to_words, df['text']))\n",
    "len(X)"
   ]
  },
  {
   "cell_type": "code",
   "execution_count": 8,
   "id": "38bb8038",
   "metadata": {
    "execution": {
     "iopub.execute_input": "2022-09-29T12:25:42.799386Z",
     "iopub.status.busy": "2022-09-29T12:25:42.797707Z",
     "iopub.status.idle": "2022-09-29T12:25:42.805128Z",
     "shell.execute_reply": "2022-09-29T12:25:42.804305Z"
    },
    "papermill": {
     "duration": 0.017097,
     "end_time": "2022-09-29T12:25:42.807423",
     "exception": false,
     "start_time": "2022-09-29T12:25:42.790326",
     "status": "completed"
    },
    "tags": []
   },
   "outputs": [],
   "source": [
    "# Encode target labels\n",
    "le = LabelEncoder()\n",
    "Y = le.fit_transform(df['score'])"
   ]
  },
  {
   "cell_type": "code",
   "execution_count": 9,
   "id": "17bc6596",
   "metadata": {
    "execution": {
     "iopub.execute_input": "2022-09-29T12:25:42.822245Z",
     "iopub.status.busy": "2022-09-29T12:25:42.821426Z",
     "iopub.status.idle": "2022-09-29T12:25:42.844035Z",
     "shell.execute_reply": "2022-09-29T12:25:42.843232Z"
    },
    "papermill": {
     "duration": 0.032179,
     "end_time": "2022-09-29T12:25:42.846080",
     "exception": false,
     "start_time": "2022-09-29T12:25:42.813901",
     "status": "completed"
    },
    "tags": []
   },
   "outputs": [],
   "source": [
    "# Train and test split\n",
    "y = pd.get_dummies(df['score'])\n",
    "X_train, X_test, y_train, y_test = train_test_split(X, y,\n",
    "                                                    test_size=0.2, \n",
    "                                                    random_state=1)\n",
    "X_train, X_val, y_train, y_val = train_test_split(X_train, y_train, \n",
    "                                                  test_size=0.25, \n",
    "                                                  random_state=1)"
   ]
  },
  {
   "cell_type": "markdown",
   "id": "2b5a0459",
   "metadata": {
    "papermill": {
     "duration": 0.006293,
     "end_time": "2022-09-29T12:25:42.858722",
     "exception": false,
     "start_time": "2022-09-29T12:25:42.852429",
     "status": "completed"
    },
    "tags": []
   },
   "source": [
    "# Bag of words (BOW) feature extraction"
   ]
  },
  {
   "cell_type": "code",
   "execution_count": 10,
   "id": "d8f15a3a",
   "metadata": {
    "execution": {
     "iopub.execute_input": "2022-09-29T12:25:42.872989Z",
     "iopub.status.busy": "2022-09-29T12:25:42.872237Z",
     "iopub.status.idle": "2022-09-29T12:25:43.313157Z",
     "shell.execute_reply": "2022-09-29T12:25:43.312190Z"
    },
    "papermill": {
     "duration": 0.450517,
     "end_time": "2022-09-29T12:25:43.315613",
     "exception": false,
     "start_time": "2022-09-29T12:25:42.865096",
     "status": "completed"
    },
    "tags": []
   },
   "outputs": [],
   "source": [
    "vocabulary_size = len(X)\n",
    "\n",
    "count_vector = CountVectorizer(max_features=vocabulary_size,\n",
    "#                               ngram_range=(1,2),    # unigram and bigram\n",
    "                                preprocessor=lambda x: x,\n",
    "                               tokenizer=lambda x: x) \n",
    "\n",
    "# Fit the training data\n",
    "X_train = count_vector.fit_transform(X_train).toarray()\n",
    "\n",
    "# Transform testing data\n",
    "X_test = count_vector.transform(X_test).toarray()"
   ]
  },
  {
   "cell_type": "code",
   "execution_count": 11,
   "id": "83045e62",
   "metadata": {
    "execution": {
     "iopub.execute_input": "2022-09-29T12:25:43.330365Z",
     "iopub.status.busy": "2022-09-29T12:25:43.330075Z",
     "iopub.status.idle": "2022-09-29T12:25:43.525417Z",
     "shell.execute_reply": "2022-09-29T12:25:43.524601Z"
    },
    "papermill": {
     "duration": 0.204843,
     "end_time": "2022-09-29T12:25:43.527336",
     "exception": false,
     "start_time": "2022-09-29T12:25:43.322493",
     "status": "completed"
    },
    "tags": []
   },
   "outputs": [
    {
     "data": {
      "image/png": "[encoded data removed]",
      "text/plain": [
       "<Figure size 432x288 with 1 Axes>"
      ]
     },
     "metadata": {
      "needs_background": "light"
     },
     "output_type": "display_data"
    }
   ],
   "source": [
    "# Plot the BoW feature vector\n",
    "plt.plot(X_train[2,:])\n",
    "plt.xlabel('Word')\n",
    "plt.ylabel('Count')\n",
    "plt.show()"
   ]
  },
  {
   "cell_type": "code",
   "execution_count": 12,
   "id": "a74e1363",
   "metadata": {
    "execution": {
     "iopub.execute_input": "2022-09-29T12:25:43.542164Z",
     "iopub.status.busy": "2022-09-29T12:25:43.541347Z",
     "iopub.status.idle": "2022-09-29T12:25:43.546508Z",
     "shell.execute_reply": "2022-09-29T12:25:43.545540Z"
    },
    "papermill": {
     "duration": 0.015372,
     "end_time": "2022-09-29T12:25:43.549261",
     "exception": false,
     "start_time": "2022-09-29T12:25:43.533889",
     "status": "completed"
    },
    "tags": []
   },
   "outputs": [
    {
     "name": "stdout",
     "output_type": "stream",
     "text": [
      "2.6.4\n"
     ]
    }
   ],
   "source": [
    "import tensorflow as tf\n",
    "print(tf.__version__)"
   ]
  },
  {
   "cell_type": "code",
   "execution_count": 13,
   "id": "59414daa",
   "metadata": {
    "execution": {
     "iopub.execute_input": "2022-09-29T12:25:43.565068Z",
     "iopub.status.busy": "2022-09-29T12:25:43.564217Z",
     "iopub.status.idle": "2022-09-29T12:25:44.721728Z",
     "shell.execute_reply": "2022-09-29T12:25:44.719874Z"
    },
    "papermill": {
     "duration": 1.168647,
     "end_time": "2022-09-29T12:25:44.725383",
     "exception": false,
     "start_time": "2022-09-29T12:25:43.556736",
     "status": "completed"
    },
    "tags": []
   },
   "outputs": [
    {
     "name": "stdout",
     "output_type": "stream",
     "text": [
      "Before Tokenization & Padding \n",
      " top brokers recommend subscribe syngene international ipo\n",
      "After Tokenization & Padding \n",
      " [  72  812 1310 2239 5059  253  110    0    0    0    0    0    0    0\n",
      "    0    0    0    0    0    0    0    0    0    0    0    0    0    0\n",
      "    0    0    0    0]\n"
     ]
    }
   ],
   "source": [
    "from keras.preprocessing.text import Tokenizer\n",
    "from keras.preprocessing.sequence import pad_sequences\n",
    "\n",
    "max_words = 21862\n",
    "max_len=32\n",
    "\n",
    "def tokenize_pad_sequences(text):\n",
    "    '''\n",
    "    This function tokenize the input text into sequnences of intergers and then\n",
    "    pad each sequence to the same length\n",
    "    '''\n",
    "    # Text tokenization\n",
    "    tokenizer = Tokenizer(num_words=max_words, lower=True, split=' ')\n",
    "    tokenizer.fit_on_texts(text)\n",
    "    # Transforms text to a sequence of integers\n",
    "    X = tokenizer.texts_to_sequences(text)\n",
    "    # Pad sequences to the same length\n",
    "    X = pad_sequences(X, padding='post', maxlen=max_len)\n",
    "    # return sequences\n",
    "    return X, tokenizer\n",
    "\n",
    "print('Before Tokenization & Padding \\n', df['text'][1000])\n",
    "X, tokenizer = tokenize_pad_sequences(df['text'])\n",
    "print('After Tokenization & Padding \\n', X[1000])"
   ]
  },
  {
   "cell_type": "code",
   "execution_count": 14,
   "id": "29f73115",
   "metadata": {
    "execution": {
     "iopub.execute_input": "2022-09-29T12:25:44.743169Z",
     "iopub.status.busy": "2022-09-29T12:25:44.742745Z",
     "iopub.status.idle": "2022-09-29T12:25:44.771312Z",
     "shell.execute_reply": "2022-09-29T12:25:44.770458Z"
    },
    "papermill": {
     "duration": 0.039223,
     "end_time": "2022-09-29T12:25:44.773168",
     "exception": false,
     "start_time": "2022-09-29T12:25:44.733945",
     "status": "completed"
    },
    "tags": []
   },
   "outputs": [],
   "source": [
    "# saving\n",
    "with open('tokenizer.pickle', 'wb') as handle:\n",
    "    pickle.dump(tokenizer, handle, protocol=pickle.HIGHEST_PROTOCOL)\n",
    "\n",
    "# loading\n",
    "with open('tokenizer.pickle', 'rb') as handle:\n",
    "    tokenizer = pickle.load(handle)"
   ]
  },
  {
   "cell_type": "code",
   "execution_count": 15,
   "id": "8140b287",
   "metadata": {
    "execution": {
     "iopub.execute_input": "2022-09-29T12:25:44.788511Z",
     "iopub.status.busy": "2022-09-29T12:25:44.787667Z",
     "iopub.status.idle": "2022-09-29T12:25:44.814103Z",
     "shell.execute_reply": "2022-09-29T12:25:44.812967Z"
    },
    "papermill": {
     "duration": 0.036669,
     "end_time": "2022-09-29T12:25:44.816615",
     "exception": false,
     "start_time": "2022-09-29T12:25:44.779946",
     "status": "completed"
    },
    "tags": []
   },
   "outputs": [
    {
     "name": "stdout",
     "output_type": "stream",
     "text": [
      "Train Set -> (13991, 32) (13991, 3)\n",
      "Validation Set -> (3498, 32) (3498, 3)\n",
      "Test Set -> (4373, 32) (4373, 3)\n"
     ]
    }
   ],
   "source": [
    "## Traintest split\n",
    "\n",
    "y = pd.get_dummies(df['score'])\n",
    "X_train, X_test, y_train, y_test = train_test_split(X, y, test_size=0.2, random_state=123)\n",
    "X_train, X_val, y_train, y_val = train_test_split(X_train, y_train, test_size=0.2, random_state=123)\n",
    "print('Train Set ->', X_train.shape, y_train.shape)\n",
    "print('Validation Set ->', X_val.shape, y_val.shape)\n",
    "print('Test Set ->', X_test.shape, y_test.shape)"
   ]
  },
  {
   "cell_type": "code",
   "execution_count": 16,
   "id": "bb3c008e",
   "metadata": {
    "execution": {
     "iopub.execute_input": "2022-09-29T12:25:44.831619Z",
     "iopub.status.busy": "2022-09-29T12:25:44.831352Z",
     "iopub.status.idle": "2022-09-29T12:25:44.836118Z",
     "shell.execute_reply": "2022-09-29T12:25:44.835191Z"
    },
    "papermill": {
     "duration": 0.014286,
     "end_time": "2022-09-29T12:25:44.837962",
     "exception": false,
     "start_time": "2022-09-29T12:25:44.823676",
     "status": "completed"
    },
    "tags": []
   },
   "outputs": [],
   "source": [
    "import keras.backend as K\n",
    "\n",
    "def f1_score(precision, recall):\n",
    "    ''' Function to calculate f1 score '''\n",
    "    \n",
    "    f1_val = 2*(precision*recall)/(precision+recall+K.epsilon())\n",
    "    return f1_val"
   ]
  },
  {
   "cell_type": "markdown",
   "id": "99b5f843",
   "metadata": {
    "papermill": {
     "duration": 0.006575,
     "end_time": "2022-09-29T12:25:44.851284",
     "exception": false,
     "start_time": "2022-09-29T12:25:44.844709",
     "status": "completed"
    },
    "tags": []
   },
   "source": [
    "# Bidirectional LSTM"
   ]
  },
  {
   "cell_type": "code",
   "execution_count": 17,
   "id": "f601ce62",
   "metadata": {
    "execution": {
     "iopub.execute_input": "2022-09-29T12:25:44.866486Z",
     "iopub.status.busy": "2022-09-29T12:25:44.865723Z",
     "iopub.status.idle": "2022-09-29T12:25:49.397465Z",
     "shell.execute_reply": "2022-09-29T12:25:49.396353Z"
    },
    "papermill": {
     "duration": 4.541729,
     "end_time": "2022-09-29T12:25:49.399872",
     "exception": false,
     "start_time": "2022-09-29T12:25:44.858143",
     "status": "completed"
    },
    "tags": []
   },
   "outputs": [
    {
     "name": "stderr",
     "output_type": "stream",
     "text": [
      "2022-09-29 12:25:45.217804: I tensorflow/stream_executor/cuda/cuda_gpu_executor.cc:937] successful NUMA node read from SysFS had negative value (-1), but there must be at least one NUMA node, so returning NUMA node zero\n",
      "2022-09-29 12:25:45.315114: I tensorflow/stream_executor/cuda/cuda_gpu_executor.cc:937] successful NUMA node read from SysFS had negative value (-1), but there must be at least one NUMA node, so returning NUMA node zero\n",
      "2022-09-29 12:25:45.315885: I tensorflow/stream_executor/cuda/cuda_gpu_executor.cc:937] successful NUMA node read from SysFS had negative value (-1), but there must be at least one NUMA node, so returning NUMA node zero\n",
      "2022-09-29 12:25:45.317416: I tensorflow/core/platform/cpu_feature_guard.cc:142] This TensorFlow binary is optimized with oneAPI Deep Neural Network Library (oneDNN) to use the following CPU instructions in performance-critical operations:  AVX2 AVX512F FMA\n",
      "To enable them in other operations, rebuild TensorFlow with the appropriate compiler flags.\n",
      "2022-09-29 12:25:45.317733: I tensorflow/stream_executor/cuda/cuda_gpu_executor.cc:937] successful NUMA node read from SysFS had negative value (-1), but there must be at least one NUMA node, so returning NUMA node zero\n",
      "2022-09-29 12:25:45.318497: I tensorflow/stream_executor/cuda/cuda_gpu_executor.cc:937] successful NUMA node read from SysFS had negative value (-1), but there must be at least one NUMA node, so returning NUMA node zero\n",
      "2022-09-29 12:25:45.319176: I tensorflow/stream_executor/cuda/cuda_gpu_executor.cc:937] successful NUMA node read from SysFS had negative value (-1), but there must be at least one NUMA node, so returning NUMA node zero\n",
      "2022-09-29 12:25:47.446718: I tensorflow/stream_executor/cuda/cuda_gpu_executor.cc:937] successful NUMA node read from SysFS had negative value (-1), but there must be at least one NUMA node, so returning NUMA node zero\n",
      "2022-09-29 12:25:47.447607: I tensorflow/stream_executor/cuda/cuda_gpu_executor.cc:937] successful NUMA node read from SysFS had negative value (-1), but there must be at least one NUMA node, so returning NUMA node zero\n",
      "2022-09-29 12:25:47.448312: I tensorflow/stream_executor/cuda/cuda_gpu_executor.cc:937] successful NUMA node read from SysFS had negative value (-1), but there must be at least one NUMA node, so returning NUMA node zero\n",
      "2022-09-29 12:25:47.448898: I tensorflow/core/common_runtime/gpu/gpu_device.cc:1510] Created device /job:localhost/replica:0/task:0/device:GPU:0 with 15401 MB memory:  -> device: 0, name: Tesla P100-PCIE-16GB, pci bus id: 0000:00:04.0, compute capability: 6.0\n"
     ]
    },
    {
     "data": {
      "image/png": "[encoded data removed]",
      "text/plain": [
       "<IPython.core.display.Image object>"
      ]
     },
     "execution_count": 17,
     "metadata": {},
     "output_type": "execute_result"
    }
   ],
   "source": [
    "from keras.models import Sequential\n",
    "from keras.layers import Embedding, Conv1D, MaxPooling1D, Bidirectional, LSTM, Dense, Dropout\n",
    "from keras.metrics import Precision, Recall\n",
    "from tensorflow.keras.optimizers import SGD , RMSprop\n",
    "from keras import datasets\n",
    "\n",
    "from keras.callbacks import LearningRateScheduler\n",
    "from keras.callbacks import History\n",
    "\n",
    "from keras import losses\n",
    "\n",
    "vocab_size = len(X)\n",
    "embedding_size = 32\n",
    "epochs=500\n",
    "learning_rate = 0.01\n",
    "decay_rate = learning_rate / epochs\n",
    "momentum = 0.1\n",
    "\n",
    "sgd = SGD(lr=learning_rate, momentum=momentum, decay=decay_rate, nesterov=False)\n",
    "# Build model\n",
    "model= Sequential()\n",
    "model.add(Embedding(vocab_size, embedding_size, input_length=max_len))\n",
    "model.add(Conv1D(filters=32, kernel_size=3, padding='same', activation='relu'))\n",
    "model.add(MaxPooling1D(pool_size=2))\n",
    "model.add(Bidirectional(LSTM(16)))\n",
    "model.add(Dropout(0.1))\n",
    "model.add(Dense(3, activation='softmax'))\n",
    "\n",
    "\n",
    "tf.keras.utils.plot_model(model, show_shapes=True)\n",
    "\n",
    "\n",
    "#################################################################\n",
    "# #model.add(Conv1D(filters=32, kernel_size=3, padding='same', activation='relu'))\n",
    "# #model.add(MaxPooling1D(pool_size=2))\n",
    "# model.add(Bidirectional(LSTM(64)))\n",
    "# model.add(Dropout(0.2))\n",
    "# model.add(Bidirectional(LSTM(32)))\n",
    "# model.add(Dropout(0.2))\n",
    "# model.add(Dense(64, activation='relu'))\n",
    "# model.add(Dropout(0.1))\n",
    "# model.add(Dense(3, activation='softmax'))"
   ]
  },
  {
   "cell_type": "code",
   "execution_count": 18,
   "id": "f8d2c1c8",
   "metadata": {
    "execution": {
     "iopub.execute_input": "2022-09-29T12:25:49.417334Z",
     "iopub.status.busy": "2022-09-29T12:25:49.417020Z",
     "iopub.status.idle": "2022-09-29T12:25:49.423862Z",
     "shell.execute_reply": "2022-09-29T12:25:49.422914Z"
    },
    "papermill": {
     "duration": 0.018904,
     "end_time": "2022-09-29T12:25:49.426868",
     "exception": false,
     "start_time": "2022-09-29T12:25:49.407964",
     "status": "completed"
    },
    "tags": []
   },
   "outputs": [
    {
     "name": "stdout",
     "output_type": "stream",
     "text": [
      "Model: \"sequential\"\n",
      "_________________________________________________________________\n",
      "Layer (type)                 Output Shape              Param #   \n",
      "=================================================================\n",
      "embedding (Embedding)        (None, 32, 32)            699584    \n",
      "_________________________________________________________________\n",
      "conv1d (Conv1D)              (None, 32, 32)            3104      \n",
      "_________________________________________________________________\n",
      "max_pooling1d (MaxPooling1D) (None, 16, 32)            0         \n",
      "_________________________________________________________________\n",
      "bidirectional (Bidirectional (None, 32)                6272      \n",
      "_________________________________________________________________\n",
      "dropout (Dropout)            (None, 32)                0         \n",
      "_________________________________________________________________\n",
      "dense (Dense)                (None, 3)                 99        \n",
      "=================================================================\n",
      "Total params: 709,059\n",
      "Trainable params: 709,059\n",
      "Non-trainable params: 0\n",
      "_________________________________________________________________\n",
      "None\n"
     ]
    }
   ],
   "source": [
    "print(model.summary())"
   ]
  },
  {
   "cell_type": "markdown",
   "id": "68e4f016",
   "metadata": {
    "papermill": {
     "duration": 0.007605,
     "end_time": "2022-09-29T12:25:49.443483",
     "exception": false,
     "start_time": "2022-09-29T12:25:49.435878",
     "status": "completed"
    },
    "tags": []
   },
   "source": [
    "# Compile model"
   ]
  },
  {
   "cell_type": "code",
   "execution_count": 19,
   "id": "685a1f96",
   "metadata": {
    "execution": {
     "iopub.execute_input": "2022-09-29T12:25:49.460263Z",
     "iopub.status.busy": "2022-09-29T12:25:49.459984Z",
     "iopub.status.idle": "2022-09-29T12:25:49.478583Z",
     "shell.execute_reply": "2022-09-29T12:25:49.477755Z"
    },
    "papermill": {
     "duration": 0.029182,
     "end_time": "2022-09-29T12:25:49.480557",
     "exception": false,
     "start_time": "2022-09-29T12:25:49.451375",
     "status": "completed"
    },
    "tags": []
   },
   "outputs": [],
   "source": [
    "model.compile(loss='categorical_crossentropy', optimizer=sgd, \n",
    "               metrics=['accuracy', Precision(), Recall()])"
   ]
  },
  {
   "cell_type": "code",
   "execution_count": 20,
   "id": "ab92abb3",
   "metadata": {
    "execution": {
     "iopub.execute_input": "2022-09-29T12:25:49.498404Z",
     "iopub.status.busy": "2022-09-29T12:25:49.496999Z",
     "iopub.status.idle": "2022-09-29T12:25:49.501700Z",
     "shell.execute_reply": "2022-09-29T12:25:49.500812Z"
    },
    "papermill": {
     "duration": 0.015261,
     "end_time": "2022-09-29T12:25:49.503610",
     "exception": false,
     "start_time": "2022-09-29T12:25:49.488349",
     "status": "completed"
    },
    "tags": []
   },
   "outputs": [],
   "source": [
    "import warnings\n",
    "warnings.filterwarnings(\"ignore\")"
   ]
  },
  {
   "cell_type": "markdown",
   "id": "60863add",
   "metadata": {
    "papermill": {
     "duration": 0.00781,
     "end_time": "2022-09-29T12:25:49.519174",
     "exception": false,
     "start_time": "2022-09-29T12:25:49.511364",
     "status": "completed"
    },
    "tags": []
   },
   "source": [
    "# Training the model"
   ]
  },
  {
   "cell_type": "code",
   "execution_count": 21,
   "id": "a4e1697d",
   "metadata": {
    "execution": {
     "iopub.execute_input": "2022-09-29T12:25:49.536310Z",
     "iopub.status.busy": "2022-09-29T12:25:49.535538Z",
     "iopub.status.idle": "2022-09-29T13:29:20.624716Z",
     "shell.execute_reply": "2022-09-29T13:29:20.623763Z"
    },
    "papermill": {
     "duration": 3811.100032,
     "end_time": "2022-09-29T13:29:20.626993",
     "exception": false,
     "start_time": "2022-09-29T12:25:49.526961",
     "status": "completed"
    },
    "tags": []
   },
   "outputs": [
    {
     "name": "stderr",
     "output_type": "stream",
     "text": [
      "2022-09-29 12:25:49.593229: I tensorflow/compiler/mlir/mlir_graph_optimization_pass.cc:185] None of the MLIR Optimization Passes are enabled (registered 2)\n"
     ]
    },
    {
     "name": "stdout",
     "output_type": "stream",
     "text": [
      "Epoch 1/500\n"
     ]
    },
    {
     "name": "stderr",
     "output_type": "stream",
     "text": [
      "2022-09-29 12:25:53.294890: I tensorflow/stream_executor/cuda/cuda_dnn.cc:369] Loaded cuDNN version 8005\n"
     ]
    },
    {
     "name": "stdout",
     "output_type": "stream",
     "text": [
      "875/875 [==============================] - 18s 10ms/step - loss: 1.0590 - accuracy: 0.4543 - precision: 0.0000e+00 - recall: 0.0000e+00 - val_loss: 1.0577 - val_accuracy: 0.4434 - val_precision: 0.0000e+00 - val_recall: 0.0000e+00\n",
      "Epoch 2/500\n",
      "875/875 [==============================] - 7s 9ms/step - loss: 1.0560 - accuracy: 0.4546 - precision: 0.0000e+00 - recall: 0.0000e+00 - val_loss: 1.0568 - val_accuracy: 0.4434 - val_precision: 0.0000e+00 - val_recall: 0.0000e+00\n",
      "Epoch 3/500\n",
      "875/875 [==============================] - 7s 8ms/step - loss: 1.0550 - accuracy: 0.4546 - precision: 0.0000e+00 - recall: 0.0000e+00 - val_loss: 1.0567 - val_accuracy: 0.4434 - val_precision: 0.0000e+00 - val_recall: 0.0000e+00\n",
      "Epoch 4/500\n",
      "875/875 [==============================] - 7s 8ms/step - loss: 1.0541 - accuracy: 0.4546 - precision: 0.0000e+00 - recall: 0.0000e+00 - val_loss: 1.0561 - val_accuracy: 0.4434 - val_precision: 0.0000e+00 - val_recall: 0.0000e+00\n",
      "Epoch 5/500\n",
      "875/875 [==============================] - 7s 8ms/step - loss: 1.0534 - accuracy: 0.4546 - precision: 0.6000 - recall: 2.1442e-04 - val_loss: 1.0554 - val_accuracy: 0.4434 - val_precision: 0.0000e+00 - val_recall: 0.0000e+00\n",
      "Epoch 6/500\n",
      "875/875 [==============================] - 7s 9ms/step - loss: 1.0523 - accuracy: 0.4546 - precision: 0.0000e+00 - recall: 0.0000e+00 - val_loss: 1.0536 - val_accuracy: 0.4434 - val_precision: 0.0000e+00 - val_recall: 0.0000e+00\n",
      "Epoch 7/500\n",
      "875/875 [==============================] - 7s 8ms/step - loss: 1.0507 - accuracy: 0.4546 - precision: 0.5000 - recall: 1.4295e-04 - val_loss: 1.0512 - val_accuracy: 0.4434 - val_precision: 0.0000e+00 - val_recall: 0.0000e+00\n",
      "Epoch 8/500\n",
      "875/875 [==============================] - 7s 8ms/step - loss: 1.0481 - accuracy: 0.4548 - precision: 0.6316 - recall: 0.0051 - val_loss: 1.0475 - val_accuracy: 0.4434 - val_precision: 0.0000e+00 - val_recall: 0.0000e+00\n",
      "Epoch 9/500\n",
      "875/875 [==============================] - 7s 8ms/step - loss: 1.0434 - accuracy: 0.4555 - precision: 0.6532 - recall: 0.0267 - val_loss: 1.0427 - val_accuracy: 0.4500 - val_precision: 0.7955 - val_recall: 0.0100\n",
      "Epoch 10/500\n",
      "875/875 [==============================] - 8s 9ms/step - loss: 1.0355 - accuracy: 0.4649 - precision: 0.6554 - recall: 0.0748 - val_loss: 1.0330 - val_accuracy: 0.4548 - val_precision: 0.6398 - val_recall: 0.1452\n",
      "Epoch 11/500\n",
      "875/875 [==============================] - 7s 8ms/step - loss: 1.0205 - accuracy: 0.4865 - precision: 0.6571 - recall: 0.1397 - val_loss: 1.0122 - val_accuracy: 0.4866 - val_precision: 0.6555 - val_recall: 0.2073\n",
      "Epoch 12/500\n",
      "875/875 [==============================] - 7s 8ms/step - loss: 0.9941 - accuracy: 0.5116 - precision: 0.6660 - recall: 0.2256 - val_loss: 0.9761 - val_accuracy: 0.5197 - val_precision: 0.7399 - val_recall: 0.2610\n",
      "Epoch 13/500\n",
      "875/875 [==============================] - 7s 8ms/step - loss: 0.9586 - accuracy: 0.5368 - precision: 0.6770 - recall: 0.2900 - val_loss: 0.9358 - val_accuracy: 0.5437 - val_precision: 0.6759 - val_recall: 0.3631\n",
      "Epoch 14/500\n",
      "875/875 [==============================] - 8s 9ms/step - loss: 0.9126 - accuracy: 0.5684 - precision: 0.6972 - recall: 0.3437 - val_loss: 0.9006 - val_accuracy: 0.5892 - val_precision: 0.7974 - val_recall: 0.2644\n",
      "Epoch 15/500\n",
      "875/875 [==============================] - 7s 8ms/step - loss: 0.8634 - accuracy: 0.5910 - precision: 0.7140 - recall: 0.3943 - val_loss: 0.8929 - val_accuracy: 0.5923 - val_precision: 0.7755 - val_recall: 0.2736\n",
      "Epoch 16/500\n",
      "875/875 [==============================] - 7s 8ms/step - loss: 0.8153 - accuracy: 0.6164 - precision: 0.7172 - recall: 0.4418 - val_loss: 0.9257 - val_accuracy: 0.5589 - val_precision: 0.6100 - val_recall: 0.4628\n",
      "Epoch 17/500\n",
      "875/875 [==============================] - 8s 9ms/step - loss: 0.7688 - accuracy: 0.6387 - precision: 0.7224 - recall: 0.4890 - val_loss: 0.8040 - val_accuracy: 0.6218 - val_precision: 0.6637 - val_recall: 0.5297\n",
      "Epoch 18/500\n",
      "875/875 [==============================] - 7s 8ms/step - loss: 0.7235 - accuracy: 0.6599 - precision: 0.7234 - recall: 0.5396 - val_loss: 0.7515 - val_accuracy: 0.6527 - val_precision: 0.7241 - val_recall: 0.4906\n",
      "Epoch 19/500\n",
      "875/875 [==============================] - 8s 9ms/step - loss: 0.6868 - accuracy: 0.6750 - precision: 0.7320 - recall: 0.5754 - val_loss: 0.7768 - val_accuracy: 0.6621 - val_precision: 0.7644 - val_recall: 0.4703\n",
      "Epoch 20/500\n",
      "875/875 [==============================] - 7s 8ms/step - loss: 0.6537 - accuracy: 0.6862 - precision: 0.7329 - recall: 0.6020 - val_loss: 0.7133 - val_accuracy: 0.6698 - val_precision: 0.7024 - val_recall: 0.6018\n",
      "Epoch 21/500\n",
      "875/875 [==============================] - 7s 8ms/step - loss: 0.6223 - accuracy: 0.6995 - precision: 0.7426 - recall: 0.6273 - val_loss: 0.7245 - val_accuracy: 0.6632 - val_precision: 0.6982 - val_recall: 0.6118\n",
      "Epoch 22/500\n",
      "875/875 [==============================] - 7s 8ms/step - loss: 0.5944 - accuracy: 0.7132 - precision: 0.7514 - recall: 0.6523 - val_loss: 0.7094 - val_accuracy: 0.6812 - val_precision: 0.7301 - val_recall: 0.6069\n",
      "Epoch 23/500\n",
      "875/875 [==============================] - 8s 9ms/step - loss: 0.5684 - accuracy: 0.7246 - precision: 0.7585 - recall: 0.6704 - val_loss: 0.7304 - val_accuracy: 0.6595 - val_precision: 0.6883 - val_recall: 0.6286\n",
      "Epoch 24/500\n",
      "875/875 [==============================] - 7s 8ms/step - loss: 0.5497 - accuracy: 0.7346 - precision: 0.7646 - recall: 0.6887 - val_loss: 0.7201 - val_accuracy: 0.6744 - val_precision: 0.6892 - val_recall: 0.6472\n",
      "Epoch 25/500\n",
      "875/875 [==============================] - 7s 8ms/step - loss: 0.5296 - accuracy: 0.7466 - precision: 0.7711 - recall: 0.7046 - val_loss: 0.7186 - val_accuracy: 0.7044 - val_precision: 0.7298 - val_recall: 0.6601\n",
      "Epoch 26/500\n",
      "875/875 [==============================] - 7s 8ms/step - loss: 0.5081 - accuracy: 0.7600 - precision: 0.7799 - recall: 0.7243 - val_loss: 0.7807 - val_accuracy: 0.6861 - val_precision: 0.7010 - val_recall: 0.6601\n",
      "Epoch 27/500\n",
      "875/875 [==============================] - 7s 8ms/step - loss: 0.4880 - accuracy: 0.7707 - precision: 0.7868 - recall: 0.7422 - val_loss: 0.7263 - val_accuracy: 0.7070 - val_precision: 0.7229 - val_recall: 0.6755\n",
      "Epoch 28/500\n",
      "875/875 [==============================] - 8s 9ms/step - loss: 0.4754 - accuracy: 0.7827 - precision: 0.7964 - recall: 0.7571 - val_loss: 0.9274 - val_accuracy: 0.6547 - val_precision: 0.6718 - val_recall: 0.6344\n",
      "Epoch 29/500\n",
      "875/875 [==============================] - 8s 9ms/step - loss: 0.4561 - accuracy: 0.7966 - precision: 0.8094 - recall: 0.7755 - val_loss: 0.7204 - val_accuracy: 0.7258 - val_precision: 0.7394 - val_recall: 0.6998\n",
      "Epoch 30/500\n",
      "875/875 [==============================] - 7s 8ms/step - loss: 0.4331 - accuracy: 0.8114 - precision: 0.8229 - recall: 0.7959 - val_loss: 0.7223 - val_accuracy: 0.7338 - val_precision: 0.7417 - val_recall: 0.7247\n",
      "Epoch 31/500\n",
      "875/875 [==============================] - 7s 8ms/step - loss: 0.4125 - accuracy: 0.8242 - precision: 0.8327 - recall: 0.8115 - val_loss: 0.7357 - val_accuracy: 0.7353 - val_precision: 0.7411 - val_recall: 0.7267\n",
      "Epoch 32/500\n",
      "875/875 [==============================] - 8s 9ms/step - loss: 0.3934 - accuracy: 0.8375 - precision: 0.8446 - recall: 0.8260 - val_loss: 0.7331 - val_accuracy: 0.7433 - val_precision: 0.7520 - val_recall: 0.7264\n",
      "Epoch 33/500\n",
      "875/875 [==============================] - 7s 8ms/step - loss: 0.3728 - accuracy: 0.8520 - precision: 0.8595 - recall: 0.8431 - val_loss: 0.7476 - val_accuracy: 0.7267 - val_precision: 0.7387 - val_recall: 0.7136\n",
      "Epoch 34/500\n",
      "875/875 [==============================] - 7s 8ms/step - loss: 0.3456 - accuracy: 0.8689 - precision: 0.8746 - recall: 0.8611 - val_loss: 0.7367 - val_accuracy: 0.7507 - val_precision: 0.7580 - val_recall: 0.7433\n",
      "Epoch 35/500\n",
      "875/875 [==============================] - 7s 9ms/step - loss: 0.3226 - accuracy: 0.8766 - precision: 0.8823 - recall: 0.8698 - val_loss: 0.7333 - val_accuracy: 0.7667 - val_precision: 0.7709 - val_recall: 0.7619\n",
      "Epoch 36/500\n",
      "875/875 [==============================] - 8s 9ms/step - loss: 0.3026 - accuracy: 0.8880 - precision: 0.8935 - recall: 0.8827 - val_loss: 0.7337 - val_accuracy: 0.7699 - val_precision: 0.7755 - val_recall: 0.7633\n",
      "Epoch 37/500\n",
      "875/875 [==============================] - 7s 8ms/step - loss: 0.2776 - accuracy: 0.9031 - precision: 0.9081 - recall: 0.8981 - val_loss: 0.7813 - val_accuracy: 0.7316 - val_precision: 0.7490 - val_recall: 0.7158\n",
      "Epoch 38/500\n",
      "875/875 [==============================] - 7s 8ms/step - loss: 0.2576 - accuracy: 0.9090 - precision: 0.9137 - recall: 0.9039 - val_loss: 0.8206 - val_accuracy: 0.7556 - val_precision: 0.7589 - val_recall: 0.7513\n",
      "Epoch 39/500\n",
      "875/875 [==============================] - 7s 8ms/step - loss: 0.2335 - accuracy: 0.9211 - precision: 0.9254 - recall: 0.9162 - val_loss: 0.7321 - val_accuracy: 0.7844 - val_precision: 0.7916 - val_recall: 0.7787\n",
      "Epoch 40/500\n",
      "875/875 [==============================] - 8s 9ms/step - loss: 0.2175 - accuracy: 0.9265 - precision: 0.9307 - recall: 0.9218 - val_loss: 0.7892 - val_accuracy: 0.7830 - val_precision: 0.7862 - val_recall: 0.7802\n",
      "Epoch 41/500\n",
      "875/875 [==============================] - 7s 8ms/step - loss: 0.1937 - accuracy: 0.9389 - precision: 0.9430 - recall: 0.9346 - val_loss: 0.7356 - val_accuracy: 0.7987 - val_precision: 0.8024 - val_recall: 0.7962\n",
      "Epoch 42/500\n",
      "875/875 [==============================] - 7s 8ms/step - loss: 0.1787 - accuracy: 0.9445 - precision: 0.9480 - recall: 0.9412 - val_loss: 0.8072 - val_accuracy: 0.7890 - val_precision: 0.7941 - val_recall: 0.7830\n",
      "Epoch 43/500\n",
      "875/875 [==============================] - 8s 9ms/step - loss: 0.1699 - accuracy: 0.9478 - precision: 0.9508 - recall: 0.9442 - val_loss: 0.8641 - val_accuracy: 0.7467 - val_precision: 0.7548 - val_recall: 0.7358\n",
      "Epoch 44/500\n",
      "875/875 [==============================] - 8s 9ms/step - loss: 0.1510 - accuracy: 0.9538 - precision: 0.9572 - recall: 0.9501 - val_loss: 0.8877 - val_accuracy: 0.7824 - val_precision: 0.7868 - val_recall: 0.7799\n",
      "Epoch 45/500\n",
      "875/875 [==============================] - 7s 8ms/step - loss: 0.1441 - accuracy: 0.9559 - precision: 0.9585 - recall: 0.9520 - val_loss: 0.7728 - val_accuracy: 0.7999 - val_precision: 0.8031 - val_recall: 0.7973\n",
      "Epoch 46/500\n",
      "875/875 [==============================] - 7s 8ms/step - loss: 0.1391 - accuracy: 0.9588 - precision: 0.9613 - recall: 0.9561 - val_loss: 0.9452 - val_accuracy: 0.7390 - val_precision: 0.7469 - val_recall: 0.7333\n",
      "Epoch 47/500\n",
      "875/875 [==============================] - 7s 8ms/step - loss: 0.1208 - accuracy: 0.9657 - precision: 0.9683 - recall: 0.9635 - val_loss: 0.8719 - val_accuracy: 0.7682 - val_precision: 0.7733 - val_recall: 0.7653\n",
      "Epoch 48/500\n",
      "875/875 [==============================] - 7s 8ms/step - loss: 0.1124 - accuracy: 0.9686 - precision: 0.9699 - recall: 0.9663 - val_loss: 0.8127 - val_accuracy: 0.8036 - val_precision: 0.8081 - val_recall: 0.8007\n",
      "Epoch 49/500\n",
      "875/875 [==============================] - 8s 9ms/step - loss: 0.1134 - accuracy: 0.9701 - precision: 0.9716 - recall: 0.9674 - val_loss: 0.8011 - val_accuracy: 0.8085 - val_precision: 0.8134 - val_recall: 0.8062\n",
      "Epoch 50/500\n",
      "875/875 [==============================] - 7s 8ms/step - loss: 0.0986 - accuracy: 0.9734 - precision: 0.9746 - recall: 0.9717 - val_loss: 0.8159 - val_accuracy: 0.8053 - val_precision: 0.8096 - val_recall: 0.8033\n",
      "Epoch 51/500\n",
      "875/875 [==============================] - 7s 8ms/step - loss: 0.0925 - accuracy: 0.9743 - precision: 0.9758 - recall: 0.9723 - val_loss: 0.9459 - val_accuracy: 0.7967 - val_precision: 0.7998 - val_recall: 0.7950\n",
      "Epoch 52/500\n",
      "875/875 [==============================] - 7s 8ms/step - loss: 0.0953 - accuracy: 0.9723 - precision: 0.9739 - recall: 0.9708 - val_loss: 0.8483 - val_accuracy: 0.8070 - val_precision: 0.8127 - val_recall: 0.8036\n",
      "Epoch 53/500\n",
      "875/875 [==============================] - 8s 9ms/step - loss: 0.0826 - accuracy: 0.9780 - precision: 0.9797 - recall: 0.9765 - val_loss: 0.8431 - val_accuracy: 0.8065 - val_precision: 0.8097 - val_recall: 0.8042\n",
      "Epoch 54/500\n",
      "875/875 [==============================] - 7s 8ms/step - loss: 0.0780 - accuracy: 0.9796 - precision: 0.9809 - recall: 0.9787 - val_loss: 0.8917 - val_accuracy: 0.8033 - val_precision: 0.8069 - val_recall: 0.8016\n",
      "Epoch 55/500\n",
      "875/875 [==============================] - 7s 8ms/step - loss: 0.0744 - accuracy: 0.9808 - precision: 0.9815 - recall: 0.9798 - val_loss: 0.9160 - val_accuracy: 0.7893 - val_precision: 0.7924 - val_recall: 0.7844\n",
      "Epoch 56/500\n",
      "875/875 [==============================] - 7s 8ms/step - loss: 0.0730 - accuracy: 0.9813 - precision: 0.9822 - recall: 0.9802 - val_loss: 0.9789 - val_accuracy: 0.7682 - val_precision: 0.7721 - val_recall: 0.7653\n",
      "Epoch 57/500\n",
      "875/875 [==============================] - 8s 9ms/step - loss: 0.0620 - accuracy: 0.9853 - precision: 0.9860 - recall: 0.9843 - val_loss: 0.9328 - val_accuracy: 0.8062 - val_precision: 0.8103 - val_recall: 0.8036\n",
      "Epoch 58/500\n",
      "875/875 [==============================] - 7s 8ms/step - loss: 0.0609 - accuracy: 0.9858 - precision: 0.9863 - recall: 0.9854 - val_loss: 0.9104 - val_accuracy: 0.8107 - val_precision: 0.8126 - val_recall: 0.8105\n",
      "Epoch 59/500\n",
      "875/875 [==============================] - 8s 9ms/step - loss: 0.0586 - accuracy: 0.9857 - precision: 0.9862 - recall: 0.9853 - val_loss: 0.9700 - val_accuracy: 0.8047 - val_precision: 0.8072 - val_recall: 0.8033\n",
      "Epoch 60/500\n",
      "875/875 [==============================] - 7s 8ms/step - loss: 0.0547 - accuracy: 0.9861 - precision: 0.9868 - recall: 0.9858 - val_loss: 0.9294 - val_accuracy: 0.8085 - val_precision: 0.8105 - val_recall: 0.8047\n",
      "Epoch 61/500\n",
      "875/875 [==============================] - 7s 8ms/step - loss: 0.0566 - accuracy: 0.9859 - precision: 0.9868 - recall: 0.9853 - val_loss: 0.9314 - val_accuracy: 0.8110 - val_precision: 0.8131 - val_recall: 0.8096\n",
      "Epoch 62/500\n",
      "875/875 [==============================] - 8s 9ms/step - loss: 0.0509 - accuracy: 0.9878 - precision: 0.9881 - recall: 0.9874 - val_loss: 0.9616 - val_accuracy: 0.7976 - val_precision: 0.8007 - val_recall: 0.7959\n",
      "Epoch 63/500\n",
      "875/875 [==============================] - 8s 9ms/step - loss: 0.0484 - accuracy: 0.9879 - precision: 0.9883 - recall: 0.9875 - val_loss: 0.9789 - val_accuracy: 0.8019 - val_precision: 0.8041 - val_recall: 0.8002\n",
      "Epoch 64/500\n",
      "875/875 [==============================] - 7s 8ms/step - loss: 0.0473 - accuracy: 0.9885 - precision: 0.9885 - recall: 0.9881 - val_loss: 0.9660 - val_accuracy: 0.8047 - val_precision: 0.8067 - val_recall: 0.8039\n",
      "Epoch 65/500\n",
      "875/875 [==============================] - 8s 9ms/step - loss: 0.0476 - accuracy: 0.9884 - precision: 0.9887 - recall: 0.9878 - val_loss: 0.9598 - val_accuracy: 0.8065 - val_precision: 0.8090 - val_recall: 0.8050\n",
      "Epoch 66/500\n",
      "875/875 [==============================] - 8s 9ms/step - loss: 0.0427 - accuracy: 0.9895 - precision: 0.9896 - recall: 0.9892 - val_loss: 0.9677 - val_accuracy: 0.8065 - val_precision: 0.8095 - val_recall: 0.8053\n",
      "Epoch 67/500\n",
      "875/875 [==============================] - 7s 8ms/step - loss: 0.0390 - accuracy: 0.9916 - precision: 0.9918 - recall: 0.9911 - val_loss: 0.9864 - val_accuracy: 0.8128 - val_precision: 0.8144 - val_recall: 0.8102\n",
      "Epoch 68/500\n",
      "875/875 [==============================] - 8s 9ms/step - loss: 0.0391 - accuracy: 0.9909 - precision: 0.9912 - recall: 0.9906 - val_loss: 1.0067 - val_accuracy: 0.8010 - val_precision: 0.8032 - val_recall: 0.8005\n",
      "Epoch 69/500\n",
      "875/875 [==============================] - 7s 9ms/step - loss: 0.0365 - accuracy: 0.9916 - precision: 0.9916 - recall: 0.9916 - val_loss: 1.0153 - val_accuracy: 0.8019 - val_precision: 0.8037 - val_recall: 0.7973\n",
      "Epoch 70/500\n",
      "875/875 [==============================] - 8s 9ms/step - loss: 0.0351 - accuracy: 0.9918 - precision: 0.9921 - recall: 0.9916 - val_loss: 1.0400 - val_accuracy: 0.8062 - val_precision: 0.8083 - val_recall: 0.8053\n",
      "Epoch 71/500\n",
      "875/875 [==============================] - 7s 8ms/step - loss: 0.0333 - accuracy: 0.9928 - precision: 0.9929 - recall: 0.9926 - val_loss: 1.0200 - val_accuracy: 0.8053 - val_precision: 0.8061 - val_recall: 0.8045\n",
      "Epoch 72/500\n",
      "875/875 [==============================] - 7s 8ms/step - loss: 0.0349 - accuracy: 0.9916 - precision: 0.9918 - recall: 0.9913 - val_loss: 1.0135 - val_accuracy: 0.8065 - val_precision: 0.8094 - val_recall: 0.8062\n",
      "Epoch 73/500\n",
      "875/875 [==============================] - 7s 8ms/step - loss: 0.0338 - accuracy: 0.9921 - precision: 0.9924 - recall: 0.9921 - val_loss: 1.0107 - val_accuracy: 0.8070 - val_precision: 0.8090 - val_recall: 0.8062\n",
      "Epoch 74/500\n",
      "875/875 [==============================] - 8s 9ms/step - loss: 0.0311 - accuracy: 0.9926 - precision: 0.9928 - recall: 0.9924 - val_loss: 1.0318 - val_accuracy: 0.8027 - val_precision: 0.8048 - val_recall: 0.8016\n",
      "Epoch 75/500\n",
      "875/875 [==============================] - 7s 8ms/step - loss: 0.0310 - accuracy: 0.9934 - precision: 0.9936 - recall: 0.9931 - val_loss: 1.0474 - val_accuracy: 0.8067 - val_precision: 0.8081 - val_recall: 0.8053\n",
      "Epoch 76/500\n",
      "875/875 [==============================] - 7s 8ms/step - loss: 0.0304 - accuracy: 0.9929 - precision: 0.9930 - recall: 0.9926 - val_loss: 1.0282 - val_accuracy: 0.8039 - val_precision: 0.8053 - val_recall: 0.8027\n",
      "Epoch 77/500\n",
      "875/875 [==============================] - 7s 8ms/step - loss: 0.0273 - accuracy: 0.9944 - precision: 0.9944 - recall: 0.9941 - val_loss: 1.0494 - val_accuracy: 0.8107 - val_precision: 0.8123 - val_recall: 0.8102\n",
      "Epoch 78/500\n",
      "875/875 [==============================] - 8s 9ms/step - loss: 0.0267 - accuracy: 0.9939 - precision: 0.9941 - recall: 0.9939 - val_loss: 1.0566 - val_accuracy: 0.8062 - val_precision: 0.8068 - val_recall: 0.8045\n",
      "Epoch 79/500\n",
      "875/875 [==============================] - 8s 9ms/step - loss: 0.0286 - accuracy: 0.9937 - precision: 0.9939 - recall: 0.9934 - val_loss: 1.0587 - val_accuracy: 0.8062 - val_precision: 0.8076 - val_recall: 0.8050\n",
      "Epoch 80/500\n",
      "875/875 [==============================] - 7s 8ms/step - loss: 0.0243 - accuracy: 0.9949 - precision: 0.9951 - recall: 0.9949 - val_loss: 1.0681 - val_accuracy: 0.8076 - val_precision: 0.8083 - val_recall: 0.8062\n",
      "Epoch 81/500\n",
      "875/875 [==============================] - 7s 8ms/step - loss: 0.0264 - accuracy: 0.9936 - precision: 0.9938 - recall: 0.9936 - val_loss: 1.1032 - val_accuracy: 0.8039 - val_precision: 0.8055 - val_recall: 0.8027\n",
      "Epoch 82/500\n",
      "875/875 [==============================] - 7s 9ms/step - loss: 0.0248 - accuracy: 0.9946 - precision: 0.9949 - recall: 0.9944 - val_loss: 1.0771 - val_accuracy: 0.8085 - val_precision: 0.8100 - val_recall: 0.8079\n",
      "Epoch 83/500\n",
      "875/875 [==============================] - 8s 9ms/step - loss: 0.0247 - accuracy: 0.9934 - precision: 0.9935 - recall: 0.9933 - val_loss: 1.0831 - val_accuracy: 0.8093 - val_precision: 0.8103 - val_recall: 0.8082\n",
      "Epoch 84/500\n",
      "875/875 [==============================] - 8s 9ms/step - loss: 0.0235 - accuracy: 0.9940 - precision: 0.9941 - recall: 0.9939 - val_loss: 1.0886 - val_accuracy: 0.8042 - val_precision: 0.8054 - val_recall: 0.8033\n",
      "Epoch 85/500\n",
      "875/875 [==============================] - 7s 8ms/step - loss: 0.0237 - accuracy: 0.9945 - precision: 0.9946 - recall: 0.9944 - val_loss: 1.1349 - val_accuracy: 0.8016 - val_precision: 0.8025 - val_recall: 0.8005\n",
      "Epoch 86/500\n",
      "875/875 [==============================] - 7s 9ms/step - loss: 0.0233 - accuracy: 0.9946 - precision: 0.9946 - recall: 0.9944 - val_loss: 1.0949 - val_accuracy: 0.8090 - val_precision: 0.8097 - val_recall: 0.8076\n",
      "Epoch 87/500\n",
      "875/875 [==============================] - 8s 9ms/step - loss: 0.0212 - accuracy: 0.9954 - precision: 0.9954 - recall: 0.9952 - val_loss: 1.1045 - val_accuracy: 0.8079 - val_precision: 0.8092 - val_recall: 0.8073\n",
      "Epoch 88/500\n",
      "875/875 [==============================] - 7s 9ms/step - loss: 0.0217 - accuracy: 0.9944 - precision: 0.9945 - recall: 0.9944 - val_loss: 1.1048 - val_accuracy: 0.8036 - val_precision: 0.8049 - val_recall: 0.8033\n",
      "Epoch 89/500\n",
      "875/875 [==============================] - 7s 8ms/step - loss: 0.0223 - accuracy: 0.9944 - precision: 0.9944 - recall: 0.9941 - val_loss: 1.1277 - val_accuracy: 0.8085 - val_precision: 0.8091 - val_recall: 0.8067\n",
      "Epoch 90/500\n",
      "875/875 [==============================] - 8s 9ms/step - loss: 0.0217 - accuracy: 0.9944 - precision: 0.9944 - recall: 0.9944 - val_loss: 1.1109 - val_accuracy: 0.8062 - val_precision: 0.8072 - val_recall: 0.8045\n",
      "Epoch 91/500\n",
      "875/875 [==============================] - 8s 9ms/step - loss: 0.0193 - accuracy: 0.9955 - precision: 0.9955 - recall: 0.9954 - val_loss: 1.1378 - val_accuracy: 0.8036 - val_precision: 0.8049 - val_recall: 0.8030\n",
      "Epoch 92/500\n",
      "875/875 [==============================] - 7s 8ms/step - loss: 0.0200 - accuracy: 0.9957 - precision: 0.9958 - recall: 0.9957 - val_loss: 1.1324 - val_accuracy: 0.8050 - val_precision: 0.8064 - val_recall: 0.8036\n",
      "Epoch 93/500\n",
      "875/875 [==============================] - 7s 8ms/step - loss: 0.0213 - accuracy: 0.9946 - precision: 0.9948 - recall: 0.9944 - val_loss: 1.1405 - val_accuracy: 0.8090 - val_precision: 0.8100 - val_recall: 0.8082\n",
      "Epoch 94/500\n",
      "875/875 [==============================] - 8s 9ms/step - loss: 0.0186 - accuracy: 0.9958 - precision: 0.9959 - recall: 0.9957 - val_loss: 1.1442 - val_accuracy: 0.8053 - val_precision: 0.8075 - val_recall: 0.8045\n",
      "Epoch 95/500\n",
      "875/875 [==============================] - 7s 8ms/step - loss: 0.0180 - accuracy: 0.9960 - precision: 0.9961 - recall: 0.9958 - val_loss: 1.1404 - val_accuracy: 0.8056 - val_precision: 0.8071 - val_recall: 0.8050\n",
      "Epoch 96/500\n",
      "875/875 [==============================] - 8s 9ms/step - loss: 0.0182 - accuracy: 0.9957 - precision: 0.9959 - recall: 0.9957 - val_loss: 1.1528 - val_accuracy: 0.8076 - val_precision: 0.8084 - val_recall: 0.8059\n",
      "Epoch 97/500\n",
      "875/875 [==============================] - 7s 8ms/step - loss: 0.0177 - accuracy: 0.9959 - precision: 0.9960 - recall: 0.9957 - val_loss: 1.1641 - val_accuracy: 0.8073 - val_precision: 0.8080 - val_recall: 0.8070\n",
      "Epoch 98/500\n",
      "875/875 [==============================] - 7s 8ms/step - loss: 0.0177 - accuracy: 0.9956 - precision: 0.9956 - recall: 0.9956 - val_loss: 1.1756 - val_accuracy: 0.8085 - val_precision: 0.8089 - val_recall: 0.8070\n",
      "Epoch 99/500\n",
      "875/875 [==============================] - 8s 9ms/step - loss: 0.0177 - accuracy: 0.9958 - precision: 0.9958 - recall: 0.9956 - val_loss: 1.1684 - val_accuracy: 0.8070 - val_precision: 0.8081 - val_recall: 0.8065\n",
      "Epoch 100/500\n",
      "875/875 [==============================] - 8s 9ms/step - loss: 0.0175 - accuracy: 0.9960 - precision: 0.9961 - recall: 0.9960 - val_loss: 1.1852 - val_accuracy: 0.8085 - val_precision: 0.8093 - val_recall: 0.8079\n",
      "Epoch 101/500\n",
      "875/875 [==============================] - 7s 8ms/step - loss: 0.0167 - accuracy: 0.9959 - precision: 0.9959 - recall: 0.9957 - val_loss: 1.1960 - val_accuracy: 0.8010 - val_precision: 0.8018 - val_recall: 0.8002\n",
      "Epoch 102/500\n",
      "875/875 [==============================] - 7s 8ms/step - loss: 0.0171 - accuracy: 0.9954 - precision: 0.9956 - recall: 0.9954 - val_loss: 1.1786 - val_accuracy: 0.8070 - val_precision: 0.8100 - val_recall: 0.8067\n",
      "Epoch 103/500\n",
      "875/875 [==============================] - 8s 9ms/step - loss: 0.0175 - accuracy: 0.9958 - precision: 0.9959 - recall: 0.9956 - val_loss: 1.1893 - val_accuracy: 0.8059 - val_precision: 0.8072 - val_recall: 0.8053\n",
      "Epoch 104/500\n",
      "875/875 [==============================] - 8s 9ms/step - loss: 0.0169 - accuracy: 0.9951 - precision: 0.9951 - recall: 0.9950 - val_loss: 1.1990 - val_accuracy: 0.8070 - val_precision: 0.8085 - val_recall: 0.8065\n",
      "Epoch 105/500\n",
      "875/875 [==============================] - 7s 8ms/step - loss: 0.0154 - accuracy: 0.9964 - precision: 0.9964 - recall: 0.9963 - val_loss: 1.1925 - val_accuracy: 0.8059 - val_precision: 0.8068 - val_recall: 0.8056\n",
      "Epoch 106/500\n",
      "875/875 [==============================] - 7s 8ms/step - loss: 0.0151 - accuracy: 0.9961 - precision: 0.9961 - recall: 0.9960 - val_loss: 1.1878 - val_accuracy: 0.8073 - val_precision: 0.8098 - val_recall: 0.8070\n",
      "Epoch 107/500\n",
      "875/875 [==============================] - 8s 9ms/step - loss: 0.0161 - accuracy: 0.9953 - precision: 0.9954 - recall: 0.9952 - val_loss: 1.1884 - val_accuracy: 0.8036 - val_precision: 0.8048 - val_recall: 0.8027\n",
      "Epoch 108/500\n",
      "875/875 [==============================] - 8s 9ms/step - loss: 0.0145 - accuracy: 0.9967 - precision: 0.9967 - recall: 0.9967 - val_loss: 1.1969 - val_accuracy: 0.8062 - val_precision: 0.8069 - val_recall: 0.8050\n",
      "Epoch 109/500\n",
      "875/875 [==============================] - 7s 8ms/step - loss: 0.0147 - accuracy: 0.9966 - precision: 0.9966 - recall: 0.9965 - val_loss: 1.2185 - val_accuracy: 0.8036 - val_precision: 0.8049 - val_recall: 0.8030\n",
      "Epoch 110/500\n",
      "875/875 [==============================] - 7s 8ms/step - loss: 0.0160 - accuracy: 0.9955 - precision: 0.9956 - recall: 0.9954 - val_loss: 1.2016 - val_accuracy: 0.8096 - val_precision: 0.8102 - val_recall: 0.8093\n",
      "Epoch 111/500\n",
      "875/875 [==============================] - 8s 9ms/step - loss: 0.0140 - accuracy: 0.9960 - precision: 0.9961 - recall: 0.9959 - val_loss: 1.2095 - val_accuracy: 0.8030 - val_precision: 0.8040 - val_recall: 0.8022\n",
      "Epoch 112/500\n",
      "875/875 [==============================] - 8s 9ms/step - loss: 0.0136 - accuracy: 0.9964 - precision: 0.9964 - recall: 0.9963 - val_loss: 1.2121 - val_accuracy: 0.8085 - val_precision: 0.8089 - val_recall: 0.8085\n",
      "Epoch 113/500\n",
      "875/875 [==============================] - 8s 9ms/step - loss: 0.0133 - accuracy: 0.9970 - precision: 0.9970 - recall: 0.9969 - val_loss: 1.2243 - val_accuracy: 0.8093 - val_precision: 0.8101 - val_recall: 0.8087\n",
      "Epoch 114/500\n",
      "875/875 [==============================] - 7s 8ms/step - loss: 0.0142 - accuracy: 0.9965 - precision: 0.9967 - recall: 0.9964 - val_loss: 1.2317 - val_accuracy: 0.8067 - val_precision: 0.8080 - val_recall: 0.8062\n",
      "Epoch 115/500\n",
      "875/875 [==============================] - 8s 9ms/step - loss: 0.0141 - accuracy: 0.9961 - precision: 0.9961 - recall: 0.9961 - val_loss: 1.2182 - val_accuracy: 0.8053 - val_precision: 0.8065 - val_recall: 0.8042\n",
      "Epoch 116/500\n",
      "875/875 [==============================] - 7s 8ms/step - loss: 0.0133 - accuracy: 0.9961 - precision: 0.9962 - recall: 0.9961 - val_loss: 1.2345 - val_accuracy: 0.8050 - val_precision: 0.8060 - val_recall: 0.8050\n",
      "Epoch 117/500\n",
      "875/875 [==============================] - 8s 9ms/step - loss: 0.0132 - accuracy: 0.9961 - precision: 0.9961 - recall: 0.9961 - val_loss: 1.2221 - val_accuracy: 0.8050 - val_precision: 0.8059 - val_recall: 0.8047\n",
      "Epoch 118/500\n",
      "875/875 [==============================] - 7s 8ms/step - loss: 0.0125 - accuracy: 0.9966 - precision: 0.9966 - recall: 0.9965 - val_loss: 1.2526 - val_accuracy: 0.8056 - val_precision: 0.8067 - val_recall: 0.8042\n",
      "Epoch 119/500\n",
      "875/875 [==============================] - 7s 8ms/step - loss: 0.0132 - accuracy: 0.9963 - precision: 0.9964 - recall: 0.9963 - val_loss: 1.2360 - val_accuracy: 0.8062 - val_precision: 0.8073 - val_recall: 0.8062\n",
      "Epoch 120/500\n",
      "875/875 [==============================] - 8s 9ms/step - loss: 0.0139 - accuracy: 0.9961 - precision: 0.9961 - recall: 0.9960 - val_loss: 1.2362 - val_accuracy: 0.8073 - val_precision: 0.8075 - val_recall: 0.8070\n",
      "Epoch 121/500\n",
      "875/875 [==============================] - 8s 9ms/step - loss: 0.0137 - accuracy: 0.9957 - precision: 0.9957 - recall: 0.9956 - val_loss: 1.2426 - val_accuracy: 0.8079 - val_precision: 0.8084 - val_recall: 0.8070\n",
      "Epoch 122/500\n",
      "875/875 [==============================] - 7s 8ms/step - loss: 0.0116 - accuracy: 0.9969 - precision: 0.9971 - recall: 0.9969 - val_loss: 1.2441 - val_accuracy: 0.8065 - val_precision: 0.8073 - val_recall: 0.8059\n",
      "Epoch 123/500\n",
      "875/875 [==============================] - 7s 8ms/step - loss: 0.0112 - accuracy: 0.9972 - precision: 0.9973 - recall: 0.9972 - val_loss: 1.2780 - val_accuracy: 0.8027 - val_precision: 0.8046 - val_recall: 0.8027\n",
      "Epoch 124/500\n",
      "875/875 [==============================] - 8s 9ms/step - loss: 0.0110 - accuracy: 0.9971 - precision: 0.9971 - recall: 0.9970 - val_loss: 1.2690 - val_accuracy: 0.8062 - val_precision: 0.8069 - val_recall: 0.8053\n",
      "Epoch 125/500\n",
      "875/875 [==============================] - 8s 9ms/step - loss: 0.0126 - accuracy: 0.9963 - precision: 0.9963 - recall: 0.9963 - val_loss: 1.2464 - val_accuracy: 0.8019 - val_precision: 0.8032 - val_recall: 0.8013\n",
      "Epoch 126/500\n",
      "875/875 [==============================] - 7s 8ms/step - loss: 0.0109 - accuracy: 0.9967 - precision: 0.9969 - recall: 0.9967 - val_loss: 1.2633 - val_accuracy: 0.8059 - val_precision: 0.8066 - val_recall: 0.8059\n",
      "Epoch 127/500\n",
      "875/875 [==============================] - 7s 8ms/step - loss: 0.0109 - accuracy: 0.9970 - precision: 0.9970 - recall: 0.9969 - val_loss: 1.2607 - val_accuracy: 0.8082 - val_precision: 0.8089 - val_recall: 0.8070\n",
      "Epoch 128/500\n",
      "875/875 [==============================] - 8s 9ms/step - loss: 0.0113 - accuracy: 0.9971 - precision: 0.9971 - recall: 0.9971 - val_loss: 1.2833 - val_accuracy: 0.8033 - val_precision: 0.8036 - val_recall: 0.8025\n",
      "Epoch 129/500\n",
      "875/875 [==============================] - 8s 9ms/step - loss: 0.0109 - accuracy: 0.9971 - precision: 0.9972 - recall: 0.9971 - val_loss: 1.2712 - val_accuracy: 0.8047 - val_precision: 0.8052 - val_recall: 0.8036\n",
      "Epoch 130/500\n",
      "875/875 [==============================] - 7s 8ms/step - loss: 0.0115 - accuracy: 0.9969 - precision: 0.9969 - recall: 0.9967 - val_loss: 1.2772 - val_accuracy: 0.8065 - val_precision: 0.8073 - val_recall: 0.8062\n",
      "Epoch 131/500\n",
      "875/875 [==============================] - 7s 8ms/step - loss: 0.0123 - accuracy: 0.9963 - precision: 0.9963 - recall: 0.9962 - val_loss: 1.2678 - val_accuracy: 0.8076 - val_precision: 0.8091 - val_recall: 0.8067\n",
      "Epoch 132/500\n",
      "875/875 [==============================] - 8s 9ms/step - loss: 0.0107 - accuracy: 0.9974 - precision: 0.9974 - recall: 0.9974 - val_loss: 1.2820 - val_accuracy: 0.8065 - val_precision: 0.8078 - val_recall: 0.8062\n",
      "Epoch 133/500\n",
      "875/875 [==============================] - 7s 8ms/step - loss: 0.0105 - accuracy: 0.9974 - precision: 0.9974 - recall: 0.9973 - val_loss: 1.2795 - val_accuracy: 0.8073 - val_precision: 0.8072 - val_recall: 0.8067\n",
      "Epoch 134/500\n",
      "875/875 [==============================] - 8s 9ms/step - loss: 0.0112 - accuracy: 0.9968 - precision: 0.9969 - recall: 0.9967 - val_loss: 1.2938 - val_accuracy: 0.8019 - val_precision: 0.8042 - val_recall: 0.8007\n",
      "Epoch 135/500\n",
      "875/875 [==============================] - 8s 9ms/step - loss: 0.0116 - accuracy: 0.9966 - precision: 0.9966 - recall: 0.9966 - val_loss: 1.2810 - val_accuracy: 0.8007 - val_precision: 0.8024 - val_recall: 0.7999\n",
      "Epoch 136/500\n",
      "875/875 [==============================] - 8s 9ms/step - loss: 0.0111 - accuracy: 0.9970 - precision: 0.9971 - recall: 0.9970 - val_loss: 1.2678 - val_accuracy: 0.8062 - val_precision: 0.8070 - val_recall: 0.8056\n",
      "Epoch 137/500\n",
      "875/875 [==============================] - 7s 8ms/step - loss: 0.0095 - accuracy: 0.9977 - precision: 0.9977 - recall: 0.9977 - val_loss: 1.2923 - val_accuracy: 0.8056 - val_precision: 0.8060 - val_recall: 0.8042\n",
      "Epoch 138/500\n",
      "875/875 [==============================] - 8s 9ms/step - loss: 0.0113 - accuracy: 0.9969 - precision: 0.9969 - recall: 0.9968 - val_loss: 1.2960 - val_accuracy: 0.8042 - val_precision: 0.8054 - val_recall: 0.8036\n",
      "Epoch 139/500\n",
      "875/875 [==============================] - 7s 8ms/step - loss: 0.0101 - accuracy: 0.9973 - precision: 0.9973 - recall: 0.9973 - val_loss: 1.2973 - val_accuracy: 0.8082 - val_precision: 0.8085 - val_recall: 0.8076\n",
      "Epoch 140/500\n",
      "875/875 [==============================] - 7s 8ms/step - loss: 0.0121 - accuracy: 0.9967 - precision: 0.9967 - recall: 0.9967 - val_loss: 1.2749 - val_accuracy: 0.8085 - val_precision: 0.8098 - val_recall: 0.8082\n",
      "Epoch 141/500\n",
      "875/875 [==============================] - 8s 9ms/step - loss: 0.0111 - accuracy: 0.9970 - precision: 0.9970 - recall: 0.9969 - val_loss: 1.2757 - val_accuracy: 0.8082 - val_precision: 0.8092 - val_recall: 0.8073\n",
      "Epoch 142/500\n",
      "875/875 [==============================] - 8s 9ms/step - loss: 0.0098 - accuracy: 0.9973 - precision: 0.9974 - recall: 0.9973 - val_loss: 1.2772 - val_accuracy: 0.8073 - val_precision: 0.8081 - val_recall: 0.8065\n",
      "Epoch 143/500\n",
      "875/875 [==============================] - 7s 8ms/step - loss: 0.0097 - accuracy: 0.9974 - precision: 0.9974 - recall: 0.9974 - val_loss: 1.2957 - val_accuracy: 0.8067 - val_precision: 0.8080 - val_recall: 0.8059\n",
      "Epoch 144/500\n",
      "875/875 [==============================] - 7s 8ms/step - loss: 0.0101 - accuracy: 0.9975 - precision: 0.9975 - recall: 0.9975 - val_loss: 1.2941 - val_accuracy: 0.8067 - val_precision: 0.8073 - val_recall: 0.8062\n",
      "Epoch 145/500\n",
      "875/875 [==============================] - 8s 9ms/step - loss: 0.0086 - accuracy: 0.9980 - precision: 0.9980 - recall: 0.9980 - val_loss: 1.2958 - val_accuracy: 0.8027 - val_precision: 0.8030 - val_recall: 0.8007\n",
      "Epoch 146/500\n",
      "875/875 [==============================] - 8s 9ms/step - loss: 0.0103 - accuracy: 0.9976 - precision: 0.9976 - recall: 0.9976 - val_loss: 1.3078 - val_accuracy: 0.8053 - val_precision: 0.8064 - val_recall: 0.8050\n",
      "Epoch 147/500\n",
      "875/875 [==============================] - 7s 8ms/step - loss: 0.0099 - accuracy: 0.9974 - precision: 0.9974 - recall: 0.9974 - val_loss: 1.2936 - val_accuracy: 0.8039 - val_precision: 0.8047 - val_recall: 0.8033\n",
      "Epoch 148/500\n",
      "875/875 [==============================] - 7s 8ms/step - loss: 0.0092 - accuracy: 0.9974 - precision: 0.9974 - recall: 0.9974 - val_loss: 1.3088 - val_accuracy: 0.8056 - val_precision: 0.8062 - val_recall: 0.8053\n",
      "Epoch 149/500\n",
      "875/875 [==============================] - 8s 9ms/step - loss: 0.0101 - accuracy: 0.9973 - precision: 0.9973 - recall: 0.9972 - val_loss: 1.3076 - val_accuracy: 0.8053 - val_precision: 0.8054 - val_recall: 0.8033\n",
      "Epoch 150/500\n",
      "875/875 [==============================] - 8s 9ms/step - loss: 0.0086 - accuracy: 0.9976 - precision: 0.9976 - recall: 0.9976 - val_loss: 1.3131 - val_accuracy: 0.8047 - val_precision: 0.8051 - val_recall: 0.8042\n",
      "Epoch 151/500\n",
      "875/875 [==============================] - 7s 8ms/step - loss: 0.0101 - accuracy: 0.9974 - precision: 0.9974 - recall: 0.9974 - val_loss: 1.3132 - val_accuracy: 0.8047 - val_precision: 0.8063 - val_recall: 0.8045\n",
      "Epoch 152/500\n",
      "875/875 [==============================] - 7s 8ms/step - loss: 0.0094 - accuracy: 0.9972 - precision: 0.9972 - recall: 0.9972 - val_loss: 1.3024 - val_accuracy: 0.8073 - val_precision: 0.8081 - val_recall: 0.8067\n",
      "Epoch 153/500\n",
      "875/875 [==============================] - 8s 9ms/step - loss: 0.0095 - accuracy: 0.9971 - precision: 0.9971 - recall: 0.9971 - val_loss: 1.3116 - val_accuracy: 0.7982 - val_precision: 0.7985 - val_recall: 0.7965\n",
      "Epoch 154/500\n",
      "875/875 [==============================] - 8s 9ms/step - loss: 0.0090 - accuracy: 0.9979 - precision: 0.9979 - recall: 0.9979 - val_loss: 1.3100 - val_accuracy: 0.8036 - val_precision: 0.8050 - val_recall: 0.8027\n",
      "Epoch 155/500\n",
      "875/875 [==============================] - 7s 8ms/step - loss: 0.0094 - accuracy: 0.9975 - precision: 0.9976 - recall: 0.9975 - val_loss: 1.3098 - val_accuracy: 0.8042 - val_precision: 0.8054 - val_recall: 0.8036\n",
      "Epoch 156/500\n",
      "875/875 [==============================] - 7s 8ms/step - loss: 0.0106 - accuracy: 0.9971 - precision: 0.9971 - recall: 0.9971 - val_loss: 1.3205 - val_accuracy: 0.8085 - val_precision: 0.8085 - val_recall: 0.8073\n",
      "Epoch 157/500\n",
      "875/875 [==============================] - 7s 8ms/step - loss: 0.0094 - accuracy: 0.9971 - precision: 0.9971 - recall: 0.9971 - val_loss: 1.3355 - val_accuracy: 0.8070 - val_precision: 0.8077 - val_recall: 0.8059\n",
      "Epoch 158/500\n",
      "875/875 [==============================] - 8s 9ms/step - loss: 0.0090 - accuracy: 0.9975 - precision: 0.9976 - recall: 0.9975 - val_loss: 1.3303 - val_accuracy: 0.8030 - val_precision: 0.8037 - val_recall: 0.8030\n",
      "Epoch 159/500\n",
      "875/875 [==============================] - 8s 9ms/step - loss: 0.0088 - accuracy: 0.9974 - precision: 0.9976 - recall: 0.9974 - val_loss: 1.3484 - val_accuracy: 0.8079 - val_precision: 0.8080 - val_recall: 0.8070\n",
      "Epoch 160/500\n",
      "875/875 [==============================] - 7s 9ms/step - loss: 0.0095 - accuracy: 0.9969 - precision: 0.9969 - recall: 0.9969 - val_loss: 1.3350 - val_accuracy: 0.8050 - val_precision: 0.8057 - val_recall: 0.8047\n",
      "Epoch 161/500\n",
      "875/875 [==============================] - 7s 8ms/step - loss: 0.0084 - accuracy: 0.9977 - precision: 0.9977 - recall: 0.9977 - val_loss: 1.3337 - val_accuracy: 0.8067 - val_precision: 0.8071 - val_recall: 0.8062\n",
      "Epoch 162/500\n",
      "875/875 [==============================] - 8s 9ms/step - loss: 0.0083 - accuracy: 0.9982 - precision: 0.9982 - recall: 0.9981 - val_loss: 1.3392 - val_accuracy: 0.8065 - val_precision: 0.8073 - val_recall: 0.8059\n",
      "Epoch 163/500\n",
      "875/875 [==============================] - 8s 9ms/step - loss: 0.0086 - accuracy: 0.9976 - precision: 0.9976 - recall: 0.9976 - val_loss: 1.3526 - val_accuracy: 0.8073 - val_precision: 0.8074 - val_recall: 0.8065\n",
      "Epoch 164/500\n",
      "875/875 [==============================] - 7s 8ms/step - loss: 0.0086 - accuracy: 0.9976 - precision: 0.9976 - recall: 0.9976 - val_loss: 1.3527 - val_accuracy: 0.8045 - val_precision: 0.8056 - val_recall: 0.8045\n",
      "Epoch 165/500\n",
      "875/875 [==============================] - 7s 8ms/step - loss: 0.0095 - accuracy: 0.9973 - precision: 0.9973 - recall: 0.9972 - val_loss: 1.3582 - val_accuracy: 0.8039 - val_precision: 0.8045 - val_recall: 0.8033\n",
      "Epoch 166/500\n",
      "875/875 [==============================] - 8s 9ms/step - loss: 0.0101 - accuracy: 0.9974 - precision: 0.9974 - recall: 0.9974 - val_loss: 1.3406 - val_accuracy: 0.8045 - val_precision: 0.8052 - val_recall: 0.8036\n",
      "Epoch 167/500\n",
      "875/875 [==============================] - 8s 9ms/step - loss: 0.0090 - accuracy: 0.9974 - precision: 0.9974 - recall: 0.9974 - val_loss: 1.3501 - val_accuracy: 0.8073 - val_precision: 0.8077 - val_recall: 0.8067\n",
      "Epoch 168/500\n",
      "875/875 [==============================] - 7s 8ms/step - loss: 0.0090 - accuracy: 0.9974 - precision: 0.9974 - recall: 0.9973 - val_loss: 1.3478 - val_accuracy: 0.7993 - val_precision: 0.8009 - val_recall: 0.7993\n",
      "Epoch 169/500\n",
      "875/875 [==============================] - 7s 8ms/step - loss: 0.0084 - accuracy: 0.9976 - precision: 0.9976 - recall: 0.9976 - val_loss: 1.3501 - val_accuracy: 0.8067 - val_precision: 0.8069 - val_recall: 0.8062\n",
      "Epoch 170/500\n",
      "875/875 [==============================] - 7s 8ms/step - loss: 0.0086 - accuracy: 0.9976 - precision: 0.9976 - recall: 0.9976 - val_loss: 1.3731 - val_accuracy: 0.8016 - val_precision: 0.8037 - val_recall: 0.8007\n",
      "Epoch 171/500\n",
      "875/875 [==============================] - 8s 9ms/step - loss: 0.0092 - accuracy: 0.9976 - precision: 0.9976 - recall: 0.9976 - val_loss: 1.3699 - val_accuracy: 0.8047 - val_precision: 0.8059 - val_recall: 0.8036\n",
      "Epoch 172/500\n",
      "875/875 [==============================] - 7s 8ms/step - loss: 0.0091 - accuracy: 0.9976 - precision: 0.9976 - recall: 0.9976 - val_loss: 1.3598 - val_accuracy: 0.8059 - val_precision: 0.8062 - val_recall: 0.8053\n",
      "Epoch 173/500\n",
      "875/875 [==============================] - 7s 8ms/step - loss: 0.0079 - accuracy: 0.9976 - precision: 0.9976 - recall: 0.9976 - val_loss: 1.3576 - val_accuracy: 0.8053 - val_precision: 0.8054 - val_recall: 0.8047\n",
      "Epoch 174/500\n",
      "875/875 [==============================] - 7s 8ms/step - loss: 0.0093 - accuracy: 0.9975 - precision: 0.9976 - recall: 0.9975 - val_loss: 1.3610 - val_accuracy: 0.8036 - val_precision: 0.8045 - val_recall: 0.8033\n",
      "Epoch 175/500\n",
      "875/875 [==============================] - 9s 10ms/step - loss: 0.0086 - accuracy: 0.9974 - precision: 0.9974 - recall: 0.9974 - val_loss: 1.3759 - val_accuracy: 0.8065 - val_precision: 0.8069 - val_recall: 0.8062\n",
      "Epoch 176/500\n",
      "875/875 [==============================] - 7s 8ms/step - loss: 0.0079 - accuracy: 0.9976 - precision: 0.9976 - recall: 0.9976 - val_loss: 1.3600 - val_accuracy: 0.8047 - val_precision: 0.8056 - val_recall: 0.8045\n",
      "Epoch 177/500\n",
      "875/875 [==============================] - 7s 8ms/step - loss: 0.0079 - accuracy: 0.9973 - precision: 0.9973 - recall: 0.9973 - val_loss: 1.3650 - val_accuracy: 0.8013 - val_precision: 0.8027 - val_recall: 0.8002\n",
      "Epoch 178/500\n",
      "875/875 [==============================] - 7s 8ms/step - loss: 0.0089 - accuracy: 0.9974 - precision: 0.9974 - recall: 0.9974 - val_loss: 1.3704 - val_accuracy: 0.8016 - val_precision: 0.8017 - val_recall: 0.8010\n",
      "Epoch 179/500\n",
      "875/875 [==============================] - 8s 9ms/step - loss: 0.0085 - accuracy: 0.9974 - precision: 0.9974 - recall: 0.9974 - val_loss: 1.3714 - val_accuracy: 0.8045 - val_precision: 0.8050 - val_recall: 0.8039\n",
      "Epoch 180/500\n",
      "875/875 [==============================] - 8s 9ms/step - loss: 0.0069 - accuracy: 0.9985 - precision: 0.9985 - recall: 0.9985 - val_loss: 1.3701 - val_accuracy: 0.8056 - val_precision: 0.8060 - val_recall: 0.8053\n",
      "Epoch 181/500\n",
      "875/875 [==============================] - 7s 8ms/step - loss: 0.0085 - accuracy: 0.9974 - precision: 0.9974 - recall: 0.9974 - val_loss: 1.3696 - val_accuracy: 0.8007 - val_precision: 0.8022 - val_recall: 0.8002\n",
      "Epoch 182/500\n",
      "875/875 [==============================] - 7s 8ms/step - loss: 0.0078 - accuracy: 0.9979 - precision: 0.9979 - recall: 0.9979 - val_loss: 1.3870 - val_accuracy: 0.8036 - val_precision: 0.8045 - val_recall: 0.8036\n",
      "Epoch 183/500\n",
      "875/875 [==============================] - 7s 8ms/step - loss: 0.0075 - accuracy: 0.9981 - precision: 0.9981 - recall: 0.9981 - val_loss: 1.3733 - val_accuracy: 0.8053 - val_precision: 0.8059 - val_recall: 0.8047\n",
      "Epoch 184/500\n",
      "875/875 [==============================] - 9s 10ms/step - loss: 0.0081 - accuracy: 0.9977 - precision: 0.9977 - recall: 0.9976 - val_loss: 1.4050 - val_accuracy: 0.8027 - val_precision: 0.8044 - val_recall: 0.8027\n",
      "Epoch 185/500\n",
      "875/875 [==============================] - 7s 8ms/step - loss: 0.0074 - accuracy: 0.9976 - precision: 0.9976 - recall: 0.9976 - val_loss: 1.3834 - val_accuracy: 0.8050 - val_precision: 0.8050 - val_recall: 0.8050\n",
      "Epoch 186/500\n",
      "875/875 [==============================] - 7s 8ms/step - loss: 0.0078 - accuracy: 0.9976 - precision: 0.9976 - recall: 0.9976 - val_loss: 1.3881 - val_accuracy: 0.8042 - val_precision: 0.8045 - val_recall: 0.8033\n",
      "Epoch 187/500\n",
      "875/875 [==============================] - 7s 8ms/step - loss: 0.0079 - accuracy: 0.9976 - precision: 0.9976 - recall: 0.9976 - val_loss: 1.3832 - val_accuracy: 0.8010 - val_precision: 0.8018 - val_recall: 0.8002\n",
      "Epoch 188/500\n",
      "875/875 [==============================] - 9s 10ms/step - loss: 0.0086 - accuracy: 0.9973 - precision: 0.9973 - recall: 0.9973 - val_loss: 1.3743 - val_accuracy: 0.8065 - val_precision: 0.8068 - val_recall: 0.8056\n",
      "Epoch 189/500\n",
      "875/875 [==============================] - 7s 8ms/step - loss: 0.0075 - accuracy: 0.9973 - precision: 0.9974 - recall: 0.9973 - val_loss: 1.4056 - val_accuracy: 0.8045 - val_precision: 0.8056 - val_recall: 0.8042\n",
      "Epoch 190/500\n",
      "875/875 [==============================] - 7s 8ms/step - loss: 0.0082 - accuracy: 0.9974 - precision: 0.9974 - recall: 0.9974 - val_loss: 1.3952 - val_accuracy: 0.8062 - val_precision: 0.8066 - val_recall: 0.8059\n",
      "Epoch 191/500\n",
      "875/875 [==============================] - 7s 8ms/step - loss: 0.0075 - accuracy: 0.9976 - precision: 0.9976 - recall: 0.9976 - val_loss: 1.4018 - val_accuracy: 0.8042 - val_precision: 0.8049 - val_recall: 0.8042\n",
      "Epoch 192/500\n",
      "875/875 [==============================] - 8s 9ms/step - loss: 0.0077 - accuracy: 0.9975 - precision: 0.9975 - recall: 0.9975 - val_loss: 1.4019 - val_accuracy: 0.8059 - val_precision: 0.8058 - val_recall: 0.8053\n",
      "Epoch 193/500\n",
      "875/875 [==============================] - 7s 8ms/step - loss: 0.0074 - accuracy: 0.9977 - precision: 0.9977 - recall: 0.9977 - val_loss: 1.3906 - val_accuracy: 0.8053 - val_precision: 0.8056 - val_recall: 0.8042\n",
      "Epoch 194/500\n",
      "875/875 [==============================] - 7s 8ms/step - loss: 0.0073 - accuracy: 0.9979 - precision: 0.9979 - recall: 0.9979 - val_loss: 1.4035 - val_accuracy: 0.8067 - val_precision: 0.8073 - val_recall: 0.8059\n",
      "Epoch 195/500\n",
      "875/875 [==============================] - 7s 8ms/step - loss: 0.0068 - accuracy: 0.9983 - precision: 0.9983 - recall: 0.9983 - val_loss: 1.4027 - val_accuracy: 0.8025 - val_precision: 0.8031 - val_recall: 0.8025\n",
      "Epoch 196/500\n",
      "875/875 [==============================] - 8s 9ms/step - loss: 0.0078 - accuracy: 0.9976 - precision: 0.9976 - recall: 0.9976 - val_loss: 1.4100 - val_accuracy: 0.8039 - val_precision: 0.8045 - val_recall: 0.8036\n",
      "Epoch 197/500\n",
      "875/875 [==============================] - 8s 10ms/step - loss: 0.0077 - accuracy: 0.9977 - precision: 0.9977 - recall: 0.9977 - val_loss: 1.4041 - val_accuracy: 0.8027 - val_precision: 0.8040 - val_recall: 0.8022\n",
      "Epoch 198/500\n",
      "875/875 [==============================] - 7s 8ms/step - loss: 0.0081 - accuracy: 0.9976 - precision: 0.9976 - recall: 0.9976 - val_loss: 1.3887 - val_accuracy: 0.8062 - val_precision: 0.8063 - val_recall: 0.8056\n",
      "Epoch 199/500\n",
      "875/875 [==============================] - 7s 8ms/step - loss: 0.0075 - accuracy: 0.9977 - precision: 0.9977 - recall: 0.9976 - val_loss: 1.3976 - val_accuracy: 0.8033 - val_precision: 0.8042 - val_recall: 0.8033\n",
      "Epoch 200/500\n",
      "875/875 [==============================] - 7s 8ms/step - loss: 0.0076 - accuracy: 0.9976 - precision: 0.9976 - recall: 0.9976 - val_loss: 1.4049 - val_accuracy: 0.8053 - val_precision: 0.8055 - val_recall: 0.8039\n",
      "Epoch 201/500\n",
      "875/875 [==============================] - 9s 10ms/step - loss: 0.0077 - accuracy: 0.9979 - precision: 0.9980 - recall: 0.9979 - val_loss: 1.3941 - val_accuracy: 0.8019 - val_precision: 0.8023 - val_recall: 0.8016\n",
      "Epoch 202/500\n",
      "875/875 [==============================] - 7s 9ms/step - loss: 0.0072 - accuracy: 0.9979 - precision: 0.9979 - recall: 0.9979 - val_loss: 1.4134 - val_accuracy: 0.8047 - val_precision: 0.8047 - val_recall: 0.8045\n",
      "Epoch 203/500\n",
      "875/875 [==============================] - 7s 8ms/step - loss: 0.0075 - accuracy: 0.9978 - precision: 0.9979 - recall: 0.9977 - val_loss: 1.4146 - val_accuracy: 0.8042 - val_precision: 0.8046 - val_recall: 0.8042\n",
      "Epoch 204/500\n",
      "875/875 [==============================] - 7s 8ms/step - loss: 0.0076 - accuracy: 0.9976 - precision: 0.9976 - recall: 0.9976 - val_loss: 1.4104 - val_accuracy: 0.8047 - val_precision: 0.8052 - val_recall: 0.8047\n",
      "Epoch 205/500\n",
      "875/875 [==============================] - 8s 9ms/step - loss: 0.0071 - accuracy: 0.9979 - precision: 0.9979 - recall: 0.9979 - val_loss: 1.4072 - val_accuracy: 0.8027 - val_precision: 0.8037 - val_recall: 0.8027\n",
      "Epoch 206/500\n",
      "875/875 [==============================] - 8s 9ms/step - loss: 0.0074 - accuracy: 0.9978 - precision: 0.9979 - recall: 0.9978 - val_loss: 1.4060 - val_accuracy: 0.8033 - val_precision: 0.8037 - val_recall: 0.8030\n",
      "Epoch 207/500\n",
      "875/875 [==============================] - 7s 9ms/step - loss: 0.0070 - accuracy: 0.9981 - precision: 0.9982 - recall: 0.9981 - val_loss: 1.4025 - val_accuracy: 0.8053 - val_precision: 0.8062 - val_recall: 0.8050\n",
      "Epoch 208/500\n",
      "875/875 [==============================] - 7s 8ms/step - loss: 0.0073 - accuracy: 0.9978 - precision: 0.9978 - recall: 0.9978 - val_loss: 1.4174 - val_accuracy: 0.8027 - val_precision: 0.8034 - val_recall: 0.8025\n",
      "Epoch 209/500\n",
      "875/875 [==============================] - 8s 9ms/step - loss: 0.0072 - accuracy: 0.9978 - precision: 0.9978 - recall: 0.9978 - val_loss: 1.4042 - val_accuracy: 0.8022 - val_precision: 0.8034 - val_recall: 0.8013\n",
      "Epoch 210/500\n",
      "875/875 [==============================] - 8s 9ms/step - loss: 0.0079 - accuracy: 0.9974 - precision: 0.9974 - recall: 0.9974 - val_loss: 1.4051 - val_accuracy: 0.8062 - val_precision: 0.8062 - val_recall: 0.8062\n",
      "Epoch 211/500\n",
      "875/875 [==============================] - 7s 8ms/step - loss: 0.0075 - accuracy: 0.9978 - precision: 0.9978 - recall: 0.9978 - val_loss: 1.4073 - val_accuracy: 0.8027 - val_precision: 0.8031 - val_recall: 0.8025\n",
      "Epoch 212/500\n",
      "875/875 [==============================] - 7s 8ms/step - loss: 0.0075 - accuracy: 0.9978 - precision: 0.9978 - recall: 0.9977 - val_loss: 1.4067 - val_accuracy: 0.8056 - val_precision: 0.8060 - val_recall: 0.8050\n",
      "Epoch 213/500\n",
      "875/875 [==============================] - 8s 9ms/step - loss: 0.0070 - accuracy: 0.9981 - precision: 0.9981 - recall: 0.9979 - val_loss: 1.4215 - val_accuracy: 0.8050 - val_precision: 0.8051 - val_recall: 0.8042\n",
      "Epoch 214/500\n",
      "875/875 [==============================] - 8s 10ms/step - loss: 0.0078 - accuracy: 0.9976 - precision: 0.9976 - recall: 0.9976 - val_loss: 1.4174 - val_accuracy: 0.8039 - val_precision: 0.8048 - val_recall: 0.8039\n",
      "Epoch 215/500\n",
      "875/875 [==============================] - 7s 8ms/step - loss: 0.0063 - accuracy: 0.9980 - precision: 0.9980 - recall: 0.9980 - val_loss: 1.4230 - val_accuracy: 0.8033 - val_precision: 0.8035 - val_recall: 0.8033\n",
      "Epoch 216/500\n",
      "875/875 [==============================] - 7s 8ms/step - loss: 0.0070 - accuracy: 0.9979 - precision: 0.9979 - recall: 0.9978 - val_loss: 1.4224 - val_accuracy: 0.8033 - val_precision: 0.8035 - val_recall: 0.8033\n",
      "Epoch 217/500\n",
      "875/875 [==============================] - 8s 9ms/step - loss: 0.0068 - accuracy: 0.9981 - precision: 0.9981 - recall: 0.9980 - val_loss: 1.4268 - val_accuracy: 0.8007 - val_precision: 0.8017 - val_recall: 0.7999\n",
      "Epoch 218/500\n",
      "875/875 [==============================] - 7s 8ms/step - loss: 0.0076 - accuracy: 0.9977 - precision: 0.9979 - recall: 0.9977 - val_loss: 1.4161 - val_accuracy: 0.8050 - val_precision: 0.8054 - val_recall: 0.8045\n",
      "Epoch 219/500\n",
      "875/875 [==============================] - 8s 9ms/step - loss: 0.0064 - accuracy: 0.9983 - precision: 0.9983 - recall: 0.9983 - val_loss: 1.4235 - val_accuracy: 0.8059 - val_precision: 0.8061 - val_recall: 0.8059\n",
      "Epoch 220/500\n",
      "875/875 [==============================] - 7s 8ms/step - loss: 0.0074 - accuracy: 0.9977 - precision: 0.9977 - recall: 0.9977 - val_loss: 1.4398 - val_accuracy: 0.8027 - val_precision: 0.8039 - val_recall: 0.8027\n",
      "Epoch 221/500\n",
      "875/875 [==============================] - 9s 10ms/step - loss: 0.0061 - accuracy: 0.9986 - precision: 0.9986 - recall: 0.9986 - val_loss: 1.4265 - val_accuracy: 0.8030 - val_precision: 0.8036 - val_recall: 0.8025\n",
      "Epoch 222/500\n",
      "875/875 [==============================] - 7s 8ms/step - loss: 0.0065 - accuracy: 0.9979 - precision: 0.9979 - recall: 0.9979 - val_loss: 1.4314 - val_accuracy: 0.8042 - val_precision: 0.8044 - val_recall: 0.8042\n",
      "Epoch 223/500\n",
      "875/875 [==============================] - 8s 9ms/step - loss: 0.0067 - accuracy: 0.9978 - precision: 0.9978 - recall: 0.9978 - val_loss: 1.4377 - val_accuracy: 0.8036 - val_precision: 0.8045 - val_recall: 0.8036\n",
      "Epoch 224/500\n",
      "875/875 [==============================] - 7s 8ms/step - loss: 0.0069 - accuracy: 0.9980 - precision: 0.9980 - recall: 0.9980 - val_loss: 1.4257 - val_accuracy: 0.8050 - val_precision: 0.8060 - val_recall: 0.8050\n",
      "Epoch 225/500\n",
      "875/875 [==============================] - 7s 8ms/step - loss: 0.0070 - accuracy: 0.9981 - precision: 0.9981 - recall: 0.9981 - val_loss: 1.4252 - val_accuracy: 0.8016 - val_precision: 0.8028 - val_recall: 0.8005\n",
      "Epoch 226/500\n",
      "875/875 [==============================] - 8s 9ms/step - loss: 0.0070 - accuracy: 0.9982 - precision: 0.9982 - recall: 0.9982 - val_loss: 1.4419 - val_accuracy: 0.8022 - val_precision: 0.8029 - val_recall: 0.8022\n",
      "Epoch 227/500\n",
      "875/875 [==============================] - 8s 9ms/step - loss: 0.0070 - accuracy: 0.9981 - precision: 0.9981 - recall: 0.9980 - val_loss: 1.4338 - val_accuracy: 0.8030 - val_precision: 0.8031 - val_recall: 0.8025\n",
      "Epoch 228/500\n",
      "875/875 [==============================] - 7s 8ms/step - loss: 0.0068 - accuracy: 0.9981 - precision: 0.9982 - recall: 0.9981 - val_loss: 1.4314 - val_accuracy: 0.8022 - val_precision: 0.8029 - val_recall: 0.8022\n",
      "Epoch 229/500\n",
      "875/875 [==============================] - 7s 8ms/step - loss: 0.0060 - accuracy: 0.9984 - precision: 0.9984 - recall: 0.9984 - val_loss: 1.4428 - val_accuracy: 0.8045 - val_precision: 0.8046 - val_recall: 0.8042\n",
      "Epoch 230/500\n",
      "875/875 [==============================] - 8s 9ms/step - loss: 0.0080 - accuracy: 0.9973 - precision: 0.9973 - recall: 0.9973 - val_loss: 1.4417 - val_accuracy: 0.8030 - val_precision: 0.8033 - val_recall: 0.8030\n",
      "Epoch 231/500\n",
      "875/875 [==============================] - 7s 8ms/step - loss: 0.0072 - accuracy: 0.9979 - precision: 0.9979 - recall: 0.9979 - val_loss: 1.4357 - val_accuracy: 0.8042 - val_precision: 0.8050 - val_recall: 0.8039\n",
      "Epoch 232/500\n",
      "875/875 [==============================] - 8s 9ms/step - loss: 0.0067 - accuracy: 0.9982 - precision: 0.9984 - recall: 0.9982 - val_loss: 1.4340 - val_accuracy: 0.8062 - val_precision: 0.8065 - val_recall: 0.8056\n",
      "Epoch 233/500\n",
      "875/875 [==============================] - 7s 8ms/step - loss: 0.0064 - accuracy: 0.9979 - precision: 0.9979 - recall: 0.9979 - val_loss: 1.4394 - val_accuracy: 0.8039 - val_precision: 0.8039 - val_recall: 0.8039\n",
      "Epoch 234/500\n",
      "875/875 [==============================] - 8s 9ms/step - loss: 0.0066 - accuracy: 0.9979 - precision: 0.9979 - recall: 0.9979 - val_loss: 1.4490 - val_accuracy: 0.8076 - val_precision: 0.8078 - val_recall: 0.8073\n",
      "Epoch 235/500\n",
      "875/875 [==============================] - 7s 8ms/step - loss: 0.0064 - accuracy: 0.9983 - precision: 0.9983 - recall: 0.9983 - val_loss: 1.4579 - val_accuracy: 0.8030 - val_precision: 0.8035 - val_recall: 0.8030\n",
      "Epoch 236/500\n",
      "875/875 [==============================] - 8s 9ms/step - loss: 0.0064 - accuracy: 0.9981 - precision: 0.9982 - recall: 0.9981 - val_loss: 1.4604 - val_accuracy: 0.8033 - val_precision: 0.8040 - val_recall: 0.8033\n",
      "Epoch 237/500\n",
      "875/875 [==============================] - 7s 8ms/step - loss: 0.0061 - accuracy: 0.9981 - precision: 0.9981 - recall: 0.9981 - val_loss: 1.4443 - val_accuracy: 0.8016 - val_precision: 0.8024 - val_recall: 0.8010\n",
      "Epoch 238/500\n",
      "875/875 [==============================] - 7s 9ms/step - loss: 0.0062 - accuracy: 0.9985 - precision: 0.9985 - recall: 0.9984 - val_loss: 1.4417 - val_accuracy: 0.8047 - val_precision: 0.8056 - val_recall: 0.8045\n",
      "Epoch 239/500\n",
      "875/875 [==============================] - 7s 8ms/step - loss: 0.0068 - accuracy: 0.9978 - precision: 0.9979 - recall: 0.9978 - val_loss: 1.4476 - val_accuracy: 0.8042 - val_precision: 0.8044 - val_recall: 0.8042\n",
      "Epoch 240/500\n",
      "875/875 [==============================] - 8s 9ms/step - loss: 0.0064 - accuracy: 0.9982 - precision: 0.9982 - recall: 0.9981 - val_loss: 1.4519 - val_accuracy: 0.8019 - val_precision: 0.8027 - val_recall: 0.8016\n",
      "Epoch 241/500\n",
      "875/875 [==============================] - 7s 8ms/step - loss: 0.0062 - accuracy: 0.9981 - precision: 0.9981 - recall: 0.9981 - val_loss: 1.4483 - val_accuracy: 0.8016 - val_precision: 0.8022 - val_recall: 0.8013\n",
      "Epoch 242/500\n",
      "875/875 [==============================] - 8s 9ms/step - loss: 0.0065 - accuracy: 0.9981 - precision: 0.9981 - recall: 0.9981 - val_loss: 1.4615 - val_accuracy: 0.8027 - val_precision: 0.8038 - val_recall: 0.8025\n",
      "Epoch 243/500\n",
      "875/875 [==============================] - 7s 9ms/step - loss: 0.0066 - accuracy: 0.9979 - precision: 0.9979 - recall: 0.9979 - val_loss: 1.4592 - val_accuracy: 0.8056 - val_precision: 0.8057 - val_recall: 0.8050\n",
      "Epoch 244/500\n",
      "875/875 [==============================] - 7s 8ms/step - loss: 0.0062 - accuracy: 0.9978 - precision: 0.9978 - recall: 0.9978 - val_loss: 1.4411 - val_accuracy: 0.8042 - val_precision: 0.8046 - val_recall: 0.8042\n",
      "Epoch 245/500\n",
      "875/875 [==============================] - 8s 9ms/step - loss: 0.0063 - accuracy: 0.9981 - precision: 0.9981 - recall: 0.9981 - val_loss: 1.4591 - val_accuracy: 0.8047 - val_precision: 0.8054 - val_recall: 0.8045\n",
      "Epoch 246/500\n",
      "875/875 [==============================] - 8s 9ms/step - loss: 0.0064 - accuracy: 0.9980 - precision: 0.9980 - recall: 0.9980 - val_loss: 1.4613 - val_accuracy: 0.8056 - val_precision: 0.8060 - val_recall: 0.8050\n",
      "Epoch 247/500\n",
      "875/875 [==============================] - 7s 8ms/step - loss: 0.0062 - accuracy: 0.9984 - precision: 0.9984 - recall: 0.9984 - val_loss: 1.4504 - val_accuracy: 0.8030 - val_precision: 0.8039 - val_recall: 0.8030\n",
      "Epoch 248/500\n",
      "875/875 [==============================] - 7s 8ms/step - loss: 0.0065 - accuracy: 0.9982 - precision: 0.9983 - recall: 0.9982 - val_loss: 1.4545 - val_accuracy: 0.8013 - val_precision: 0.8025 - val_recall: 0.8013\n",
      "Epoch 249/500\n",
      "875/875 [==============================] - 8s 10ms/step - loss: 0.0066 - accuracy: 0.9982 - precision: 0.9982 - recall: 0.9982 - val_loss: 1.4670 - val_accuracy: 0.8056 - val_precision: 0.8065 - val_recall: 0.8053\n",
      "Epoch 250/500\n",
      "875/875 [==============================] - 8s 9ms/step - loss: 0.0061 - accuracy: 0.9979 - precision: 0.9979 - recall: 0.9979 - val_loss: 1.4574 - val_accuracy: 0.8042 - val_precision: 0.8048 - val_recall: 0.8036\n",
      "Epoch 251/500\n",
      "875/875 [==============================] - 7s 8ms/step - loss: 0.0070 - accuracy: 0.9978 - precision: 0.9978 - recall: 0.9978 - val_loss: 1.4518 - val_accuracy: 0.8050 - val_precision: 0.8053 - val_recall: 0.8050\n",
      "Epoch 252/500\n",
      "875/875 [==============================] - 7s 8ms/step - loss: 0.0057 - accuracy: 0.9983 - precision: 0.9983 - recall: 0.9981 - val_loss: 1.4546 - val_accuracy: 0.8013 - val_precision: 0.8023 - val_recall: 0.8007\n",
      "Epoch 253/500\n",
      "875/875 [==============================] - 8s 9ms/step - loss: 0.0059 - accuracy: 0.9984 - precision: 0.9984 - recall: 0.9984 - val_loss: 1.4647 - val_accuracy: 0.8039 - val_precision: 0.8048 - val_recall: 0.8039\n",
      "Epoch 254/500\n",
      "875/875 [==============================] - 7s 8ms/step - loss: 0.0061 - accuracy: 0.9981 - precision: 0.9981 - recall: 0.9981 - val_loss: 1.4584 - val_accuracy: 0.8067 - val_precision: 0.8070 - val_recall: 0.8067\n",
      "Epoch 255/500\n",
      "875/875 [==============================] - 8s 9ms/step - loss: 0.0057 - accuracy: 0.9985 - precision: 0.9985 - recall: 0.9985 - val_loss: 1.4640 - val_accuracy: 0.8002 - val_precision: 0.8008 - val_recall: 0.7999\n",
      "Epoch 256/500\n",
      "875/875 [==============================] - 7s 8ms/step - loss: 0.0064 - accuracy: 0.9979 - precision: 0.9979 - recall: 0.9979 - val_loss: 1.4632 - val_accuracy: 0.8036 - val_precision: 0.8047 - val_recall: 0.8033\n",
      "Epoch 257/500\n",
      "875/875 [==============================] - 7s 8ms/step - loss: 0.0068 - accuracy: 0.9977 - precision: 0.9978 - recall: 0.9977 - val_loss: 1.4611 - val_accuracy: 0.8013 - val_precision: 0.8019 - val_recall: 0.8010\n",
      "Epoch 258/500\n",
      "875/875 [==============================] - 8s 10ms/step - loss: 0.0060 - accuracy: 0.9980 - precision: 0.9980 - recall: 0.9980 - val_loss: 1.4745 - val_accuracy: 0.8042 - val_precision: 0.8048 - val_recall: 0.8036\n",
      "Epoch 259/500\n",
      "875/875 [==============================] - 8s 9ms/step - loss: 0.0064 - accuracy: 0.9980 - precision: 0.9980 - recall: 0.9980 - val_loss: 1.4920 - val_accuracy: 0.8045 - val_precision: 0.8051 - val_recall: 0.8042\n",
      "Epoch 260/500\n",
      "875/875 [==============================] - 7s 8ms/step - loss: 0.0063 - accuracy: 0.9982 - precision: 0.9982 - recall: 0.9982 - val_loss: 1.4720 - val_accuracy: 0.8056 - val_precision: 0.8058 - val_recall: 0.8056\n",
      "Epoch 261/500\n",
      "875/875 [==============================] - 7s 8ms/step - loss: 0.0060 - accuracy: 0.9984 - precision: 0.9984 - recall: 0.9984 - val_loss: 1.4813 - val_accuracy: 0.8005 - val_precision: 0.8008 - val_recall: 0.7999\n",
      "Epoch 262/500\n",
      "875/875 [==============================] - 8s 9ms/step - loss: 0.0060 - accuracy: 0.9980 - precision: 0.9980 - recall: 0.9980 - val_loss: 1.4813 - val_accuracy: 0.8033 - val_precision: 0.8039 - val_recall: 0.8030\n",
      "Epoch 263/500\n",
      "875/875 [==============================] - 8s 9ms/step - loss: 0.0057 - accuracy: 0.9981 - precision: 0.9981 - recall: 0.9981 - val_loss: 1.4781 - val_accuracy: 0.8016 - val_precision: 0.8027 - val_recall: 0.8016\n",
      "Epoch 264/500\n",
      "875/875 [==============================] - 7s 8ms/step - loss: 0.0061 - accuracy: 0.9983 - precision: 0.9983 - recall: 0.9982 - val_loss: 1.4714 - val_accuracy: 0.8045 - val_precision: 0.8045 - val_recall: 0.8045\n",
      "Epoch 265/500\n",
      "875/875 [==============================] - 7s 8ms/step - loss: 0.0061 - accuracy: 0.9979 - precision: 0.9979 - recall: 0.9979 - val_loss: 1.4753 - val_accuracy: 0.8010 - val_precision: 0.8022 - val_recall: 0.8010\n",
      "Epoch 266/500\n",
      "875/875 [==============================] - 7s 8ms/step - loss: 0.0064 - accuracy: 0.9982 - precision: 0.9982 - recall: 0.9981 - val_loss: 1.4778 - val_accuracy: 0.8027 - val_precision: 0.8034 - val_recall: 0.8027\n",
      "Epoch 267/500\n",
      "875/875 [==============================] - 9s 10ms/step - loss: 0.0063 - accuracy: 0.9984 - precision: 0.9984 - recall: 0.9983 - val_loss: 1.4822 - val_accuracy: 0.8047 - val_precision: 0.8052 - val_recall: 0.8047\n",
      "Epoch 268/500\n",
      "875/875 [==============================] - 7s 8ms/step - loss: 0.0059 - accuracy: 0.9983 - precision: 0.9983 - recall: 0.9982 - val_loss: 1.4720 - val_accuracy: 0.8042 - val_precision: 0.8045 - val_recall: 0.8036\n",
      "Epoch 269/500\n",
      "875/875 [==============================] - 7s 8ms/step - loss: 0.0064 - accuracy: 0.9980 - precision: 0.9980 - recall: 0.9980 - val_loss: 1.4821 - val_accuracy: 0.8016 - val_precision: 0.8023 - val_recall: 0.8016\n",
      "Epoch 270/500\n",
      "875/875 [==============================] - 7s 8ms/step - loss: 0.0069 - accuracy: 0.9981 - precision: 0.9981 - recall: 0.9981 - val_loss: 1.4745 - val_accuracy: 0.8025 - val_precision: 0.8033 - val_recall: 0.8019\n",
      "Epoch 271/500\n",
      "875/875 [==============================] - 9s 10ms/step - loss: 0.0554 - accuracy: 0.9906 - precision: 0.9906 - recall: 0.9905 - val_loss: 1.3910 - val_accuracy: 0.8073 - val_precision: 0.8082 - val_recall: 0.8073\n",
      "Epoch 272/500\n",
      "875/875 [==============================] - 7s 8ms/step - loss: 0.0107 - accuracy: 0.9974 - precision: 0.9974 - recall: 0.9974 - val_loss: 1.3975 - val_accuracy: 0.8082 - val_precision: 0.8081 - val_recall: 0.8079\n",
      "Epoch 273/500\n",
      "875/875 [==============================] - 7s 8ms/step - loss: 0.0112 - accuracy: 0.9969 - precision: 0.9969 - recall: 0.9968 - val_loss: 1.3843 - val_accuracy: 0.8087 - val_precision: 0.8088 - val_recall: 0.8079\n",
      "Epoch 274/500\n",
      "875/875 [==============================] - 7s 8ms/step - loss: 0.0081 - accuracy: 0.9979 - precision: 0.9979 - recall: 0.9978 - val_loss: 1.3853 - val_accuracy: 0.8036 - val_precision: 0.8052 - val_recall: 0.8033\n",
      "Epoch 275/500\n",
      "875/875 [==============================] - 7s 8ms/step - loss: 0.0072 - accuracy: 0.9982 - precision: 0.9982 - recall: 0.9982 - val_loss: 1.3979 - val_accuracy: 0.8087 - val_precision: 0.8094 - val_recall: 0.8085\n",
      "Epoch 276/500\n",
      "875/875 [==============================] - 9s 10ms/step - loss: 0.0060 - accuracy: 0.9982 - precision: 0.9982 - recall: 0.9982 - val_loss: 1.4070 - val_accuracy: 0.8085 - val_precision: 0.8090 - val_recall: 0.8079\n",
      "Epoch 277/500\n",
      "875/875 [==============================] - 7s 8ms/step - loss: 0.0063 - accuracy: 0.9979 - precision: 0.9980 - recall: 0.9979 - val_loss: 1.4157 - val_accuracy: 0.8076 - val_precision: 0.8080 - val_recall: 0.8070\n",
      "Epoch 278/500\n",
      "875/875 [==============================] - 7s 8ms/step - loss: 0.0068 - accuracy: 0.9976 - precision: 0.9976 - recall: 0.9976 - val_loss: 1.4081 - val_accuracy: 0.8062 - val_precision: 0.8066 - val_recall: 0.8062\n",
      "Epoch 279/500\n",
      "875/875 [==============================] - 7s 8ms/step - loss: 0.0060 - accuracy: 0.9979 - precision: 0.9979 - recall: 0.9979 - val_loss: 1.4215 - val_accuracy: 0.8056 - val_precision: 0.8068 - val_recall: 0.8056\n",
      "Epoch 280/500\n",
      "875/875 [==============================] - 8s 10ms/step - loss: 0.0064 - accuracy: 0.9979 - precision: 0.9979 - recall: 0.9978 - val_loss: 1.4184 - val_accuracy: 0.8053 - val_precision: 0.8057 - val_recall: 0.8047\n",
      "Epoch 281/500\n",
      "875/875 [==============================] - 7s 8ms/step - loss: 0.0061 - accuracy: 0.9985 - precision: 0.9985 - recall: 0.9985 - val_loss: 1.4183 - val_accuracy: 0.8073 - val_precision: 0.8077 - val_recall: 0.8067\n",
      "Epoch 282/500\n",
      "875/875 [==============================] - 7s 8ms/step - loss: 0.0060 - accuracy: 0.9983 - precision: 0.9983 - recall: 0.9983 - val_loss: 1.4298 - val_accuracy: 0.8062 - val_precision: 0.8064 - val_recall: 0.8059\n",
      "Epoch 283/500\n",
      "875/875 [==============================] - 7s 8ms/step - loss: 0.0056 - accuracy: 0.9980 - precision: 0.9981 - recall: 0.9980 - val_loss: 1.4295 - val_accuracy: 0.8042 - val_precision: 0.8048 - val_recall: 0.8039\n",
      "Epoch 284/500\n",
      "875/875 [==============================] - 8s 9ms/step - loss: 0.0059 - accuracy: 0.9982 - precision: 0.9982 - recall: 0.9981 - val_loss: 1.4331 - val_accuracy: 0.8045 - val_precision: 0.8044 - val_recall: 0.8042\n",
      "Epoch 285/500\n",
      "875/875 [==============================] - 8s 9ms/step - loss: 0.0056 - accuracy: 0.9985 - precision: 0.9985 - recall: 0.9985 - val_loss: 1.4371 - val_accuracy: 0.8065 - val_precision: 0.8063 - val_recall: 0.8056\n",
      "Epoch 286/500\n",
      "875/875 [==============================] - 7s 8ms/step - loss: 0.0063 - accuracy: 0.9981 - precision: 0.9981 - recall: 0.9981 - val_loss: 1.4398 - val_accuracy: 0.8047 - val_precision: 0.8049 - val_recall: 0.8045\n",
      "Epoch 287/500\n",
      "875/875 [==============================] - 7s 8ms/step - loss: 0.0062 - accuracy: 0.9984 - precision: 0.9984 - recall: 0.9984 - val_loss: 1.4413 - val_accuracy: 0.8096 - val_precision: 0.8100 - val_recall: 0.8093\n",
      "Epoch 288/500\n",
      "875/875 [==============================] - 8s 9ms/step - loss: 0.0057 - accuracy: 0.9984 - precision: 0.9984 - recall: 0.9984 - val_loss: 1.4332 - val_accuracy: 0.8042 - val_precision: 0.8046 - val_recall: 0.8039\n",
      "Epoch 289/500\n",
      "875/875 [==============================] - 8s 10ms/step - loss: 0.0063 - accuracy: 0.9982 - precision: 0.9982 - recall: 0.9981 - val_loss: 1.4484 - val_accuracy: 0.8042 - val_precision: 0.8048 - val_recall: 0.8039\n",
      "Epoch 290/500\n",
      "875/875 [==============================] - 7s 8ms/step - loss: 0.0058 - accuracy: 0.9980 - precision: 0.9980 - recall: 0.9980 - val_loss: 1.4468 - val_accuracy: 0.8016 - val_precision: 0.8023 - val_recall: 0.8016\n",
      "Epoch 291/500\n",
      "875/875 [==============================] - 7s 8ms/step - loss: 0.0063 - accuracy: 0.9982 - precision: 0.9982 - recall: 0.9982 - val_loss: 1.4410 - val_accuracy: 0.8065 - val_precision: 0.8066 - val_recall: 0.8062\n",
      "Epoch 292/500\n",
      "875/875 [==============================] - 8s 9ms/step - loss: 0.0066 - accuracy: 0.9979 - precision: 0.9979 - recall: 0.9979 - val_loss: 1.4450 - val_accuracy: 0.8033 - val_precision: 0.8035 - val_recall: 0.8030\n",
      "Epoch 293/500\n",
      "875/875 [==============================] - 8s 9ms/step - loss: 0.0063 - accuracy: 0.9982 - precision: 0.9982 - recall: 0.9982 - val_loss: 1.4452 - val_accuracy: 0.8053 - val_precision: 0.8055 - val_recall: 0.8050\n",
      "Epoch 294/500\n",
      "875/875 [==============================] - 7s 8ms/step - loss: 0.0060 - accuracy: 0.9987 - precision: 0.9987 - recall: 0.9986 - val_loss: 1.4486 - val_accuracy: 0.8053 - val_precision: 0.8053 - val_recall: 0.8050\n",
      "Epoch 295/500\n",
      "875/875 [==============================] - 7s 8ms/step - loss: 0.0061 - accuracy: 0.9982 - precision: 0.9982 - recall: 0.9982 - val_loss: 1.4538 - val_accuracy: 0.8039 - val_precision: 0.8038 - val_recall: 0.8033\n",
      "Epoch 296/500\n",
      "875/875 [==============================] - 8s 9ms/step - loss: 0.0056 - accuracy: 0.9984 - precision: 0.9984 - recall: 0.9983 - val_loss: 1.4497 - val_accuracy: 0.8085 - val_precision: 0.8085 - val_recall: 0.8073\n",
      "Epoch 297/500\n",
      "875/875 [==============================] - 7s 8ms/step - loss: 0.0055 - accuracy: 0.9985 - precision: 0.9985 - recall: 0.9985 - val_loss: 1.4599 - val_accuracy: 0.8025 - val_precision: 0.8029 - val_recall: 0.8025\n",
      "Epoch 298/500\n",
      "875/875 [==============================] - 8s 10ms/step - loss: 0.0060 - accuracy: 0.9981 - precision: 0.9981 - recall: 0.9981 - val_loss: 1.4986 - val_accuracy: 0.7976 - val_precision: 0.7980 - val_recall: 0.7973\n",
      "Epoch 299/500\n",
      "875/875 [==============================] - 7s 8ms/step - loss: 0.0065 - accuracy: 0.9980 - precision: 0.9980 - recall: 0.9980 - val_loss: 1.4525 - val_accuracy: 0.8059 - val_precision: 0.8061 - val_recall: 0.8056\n",
      "Epoch 300/500\n",
      "875/875 [==============================] - 8s 9ms/step - loss: 0.0063 - accuracy: 0.9978 - precision: 0.9978 - recall: 0.9978 - val_loss: 1.4613 - val_accuracy: 0.8030 - val_precision: 0.8035 - val_recall: 0.8030\n",
      "Epoch 301/500\n",
      "875/875 [==============================] - 7s 8ms/step - loss: 0.0062 - accuracy: 0.9980 - precision: 0.9980 - recall: 0.9980 - val_loss: 1.4699 - val_accuracy: 0.8059 - val_precision: 0.8058 - val_recall: 0.8053\n",
      "Epoch 302/500\n",
      "875/875 [==============================] - 9s 10ms/step - loss: 0.0058 - accuracy: 0.9981 - precision: 0.9982 - recall: 0.9981 - val_loss: 1.4654 - val_accuracy: 0.8065 - val_precision: 0.8067 - val_recall: 0.8065\n",
      "Epoch 303/500\n",
      "875/875 [==============================] - 7s 8ms/step - loss: 0.0058 - accuracy: 0.9984 - precision: 0.9984 - recall: 0.9984 - val_loss: 1.4621 - val_accuracy: 0.8039 - val_precision: 0.8043 - val_recall: 0.8036\n",
      "Epoch 304/500\n",
      "875/875 [==============================] - 8s 9ms/step - loss: 0.0061 - accuracy: 0.9980 - precision: 0.9980 - recall: 0.9980 - val_loss: 1.4567 - val_accuracy: 0.8033 - val_precision: 0.8042 - val_recall: 0.8033\n",
      "Epoch 305/500\n",
      "875/875 [==============================] - 7s 8ms/step - loss: 0.0058 - accuracy: 0.9983 - precision: 0.9984 - recall: 0.9983 - val_loss: 1.4858 - val_accuracy: 0.8047 - val_precision: 0.8053 - val_recall: 0.8042\n",
      "Epoch 306/500\n",
      "875/875 [==============================] - 7s 8ms/step - loss: 0.0061 - accuracy: 0.9979 - precision: 0.9979 - recall: 0.9979 - val_loss: 1.4778 - val_accuracy: 0.8033 - val_precision: 0.8040 - val_recall: 0.8033\n",
      "Epoch 307/500\n",
      "875/875 [==============================] - 9s 10ms/step - loss: 0.0064 - accuracy: 0.9981 - precision: 0.9981 - recall: 0.9981 - val_loss: 1.4658 - val_accuracy: 0.8070 - val_precision: 0.8073 - val_recall: 0.8062\n",
      "Epoch 308/500\n",
      "875/875 [==============================] - 8s 9ms/step - loss: 0.0056 - accuracy: 0.9983 - precision: 0.9983 - recall: 0.9983 - val_loss: 1.4688 - val_accuracy: 0.8053 - val_precision: 0.8052 - val_recall: 0.8047\n",
      "Epoch 309/500\n",
      "875/875 [==============================] - 7s 8ms/step - loss: 0.0059 - accuracy: 0.9982 - precision: 0.9982 - recall: 0.9982 - val_loss: 1.4625 - val_accuracy: 0.8039 - val_precision: 0.8043 - val_recall: 0.8039\n",
      "Epoch 310/500\n",
      "875/875 [==============================] - 7s 8ms/step - loss: 0.0058 - accuracy: 0.9981 - precision: 0.9981 - recall: 0.9981 - val_loss: 1.4775 - val_accuracy: 0.8036 - val_precision: 0.8038 - val_recall: 0.8033\n",
      "Epoch 311/500\n",
      "875/875 [==============================] - 9s 10ms/step - loss: 0.0059 - accuracy: 0.9983 - precision: 0.9983 - recall: 0.9983 - val_loss: 1.4673 - val_accuracy: 0.8033 - val_precision: 0.8035 - val_recall: 0.8030\n",
      "Epoch 312/500\n",
      "875/875 [==============================] - 7s 8ms/step - loss: 0.0054 - accuracy: 0.9981 - precision: 0.9982 - recall: 0.9981 - val_loss: 1.4749 - val_accuracy: 0.8047 - val_precision: 0.8049 - val_recall: 0.8042\n",
      "Epoch 313/500\n",
      "875/875 [==============================] - 7s 9ms/step - loss: 0.0057 - accuracy: 0.9982 - precision: 0.9982 - recall: 0.9981 - val_loss: 1.4665 - val_accuracy: 0.8022 - val_precision: 0.8027 - val_recall: 0.8016\n",
      "Epoch 314/500\n",
      "875/875 [==============================] - 7s 8ms/step - loss: 0.0062 - accuracy: 0.9979 - precision: 0.9980 - recall: 0.9979 - val_loss: 1.4744 - val_accuracy: 0.8070 - val_precision: 0.8072 - val_recall: 0.8065\n",
      "Epoch 315/500\n",
      "875/875 [==============================] - 7s 8ms/step - loss: 0.0058 - accuracy: 0.9982 - precision: 0.9982 - recall: 0.9982 - val_loss: 1.4761 - val_accuracy: 0.8065 - val_precision: 0.8066 - val_recall: 0.8062\n",
      "Epoch 316/500\n",
      "875/875 [==============================] - 8s 10ms/step - loss: 0.0055 - accuracy: 0.9981 - precision: 0.9981 - recall: 0.9981 - val_loss: 1.4795 - val_accuracy: 0.8033 - val_precision: 0.8040 - val_recall: 0.8033\n",
      "Epoch 317/500\n",
      "875/875 [==============================] - 8s 9ms/step - loss: 0.0054 - accuracy: 0.9980 - precision: 0.9980 - recall: 0.9980 - val_loss: 1.4819 - val_accuracy: 0.8045 - val_precision: 0.8049 - val_recall: 0.8042\n",
      "Epoch 318/500\n",
      "875/875 [==============================] - 7s 8ms/step - loss: 0.0052 - accuracy: 0.9981 - precision: 0.9981 - recall: 0.9981 - val_loss: 1.4813 - val_accuracy: 0.8085 - val_precision: 0.8086 - val_recall: 0.8079\n",
      "Epoch 319/500\n",
      "875/875 [==============================] - 7s 8ms/step - loss: 0.0056 - accuracy: 0.9984 - precision: 0.9984 - recall: 0.9984 - val_loss: 1.4794 - val_accuracy: 0.8045 - val_precision: 0.8047 - val_recall: 0.8045\n",
      "Epoch 320/500\n",
      "875/875 [==============================] - 8s 9ms/step - loss: 0.0054 - accuracy: 0.9985 - precision: 0.9985 - recall: 0.9985 - val_loss: 1.4769 - val_accuracy: 0.8039 - val_precision: 0.8039 - val_recall: 0.8039\n",
      "Epoch 321/500\n",
      "875/875 [==============================] - 8s 9ms/step - loss: 0.0055 - accuracy: 0.9984 - precision: 0.9984 - recall: 0.9984 - val_loss: 1.4853 - val_accuracy: 0.8042 - val_precision: 0.8041 - val_recall: 0.8039\n",
      "Epoch 322/500\n",
      "875/875 [==============================] - 7s 8ms/step - loss: 0.0057 - accuracy: 0.9978 - precision: 0.9978 - recall: 0.9978 - val_loss: 1.4819 - val_accuracy: 0.8062 - val_precision: 0.8068 - val_recall: 0.8059\n",
      "Epoch 323/500\n",
      "875/875 [==============================] - 7s 8ms/step - loss: 0.0054 - accuracy: 0.9981 - precision: 0.9981 - recall: 0.9981 - val_loss: 1.4797 - val_accuracy: 0.8065 - val_precision: 0.8064 - val_recall: 0.8059\n",
      "Epoch 324/500\n",
      "875/875 [==============================] - 8s 9ms/step - loss: 0.0053 - accuracy: 0.9984 - precision: 0.9984 - recall: 0.9984 - val_loss: 1.4837 - val_accuracy: 0.8039 - val_precision: 0.8041 - val_recall: 0.8039\n",
      "Epoch 325/500\n",
      "875/875 [==============================] - 9s 10ms/step - loss: 0.0049 - accuracy: 0.9983 - precision: 0.9983 - recall: 0.9983 - val_loss: 1.4806 - val_accuracy: 0.8065 - val_precision: 0.8071 - val_recall: 0.8062\n",
      "Epoch 326/500\n",
      "875/875 [==============================] - 7s 8ms/step - loss: 0.0048 - accuracy: 0.9983 - precision: 0.9983 - recall: 0.9983 - val_loss: 1.4875 - val_accuracy: 0.8047 - val_precision: 0.8047 - val_recall: 0.8045\n",
      "Epoch 327/500\n",
      "875/875 [==============================] - 7s 8ms/step - loss: 0.0054 - accuracy: 0.9983 - precision: 0.9984 - recall: 0.9983 - val_loss: 1.4916 - val_accuracy: 0.8033 - val_precision: 0.8035 - val_recall: 0.8033\n",
      "Epoch 328/500\n",
      "875/875 [==============================] - 7s 8ms/step - loss: 0.0051 - accuracy: 0.9981 - precision: 0.9981 - recall: 0.9981 - val_loss: 1.4840 - val_accuracy: 0.8073 - val_precision: 0.8075 - val_recall: 0.8070\n",
      "Epoch 329/500\n",
      "875/875 [==============================] - 9s 10ms/step - loss: 0.0051 - accuracy: 0.9979 - precision: 0.9979 - recall: 0.9979 - val_loss: 1.4950 - val_accuracy: 0.8042 - val_precision: 0.8043 - val_recall: 0.8036\n",
      "Epoch 330/500\n",
      "875/875 [==============================] - 7s 8ms/step - loss: 0.0054 - accuracy: 0.9984 - precision: 0.9984 - recall: 0.9984 - val_loss: 1.4885 - val_accuracy: 0.8070 - val_precision: 0.8070 - val_recall: 0.8070\n",
      "Epoch 331/500\n",
      "875/875 [==============================] - 7s 8ms/step - loss: 0.0051 - accuracy: 0.9981 - precision: 0.9981 - recall: 0.9981 - val_loss: 1.4853 - val_accuracy: 0.8042 - val_precision: 0.8046 - val_recall: 0.8042\n",
      "Epoch 332/500\n",
      "875/875 [==============================] - 7s 8ms/step - loss: 0.0059 - accuracy: 0.9981 - precision: 0.9982 - recall: 0.9981 - val_loss: 1.4870 - val_accuracy: 0.8073 - val_precision: 0.8080 - val_recall: 0.8070\n",
      "Epoch 333/500\n",
      "875/875 [==============================] - 8s 9ms/step - loss: 0.0053 - accuracy: 0.9979 - precision: 0.9979 - recall: 0.9979 - val_loss: 1.4877 - val_accuracy: 0.8067 - val_precision: 0.8067 - val_recall: 0.8065\n",
      "Epoch 334/500\n",
      "875/875 [==============================] - 9s 10ms/step - loss: 0.0047 - accuracy: 0.9984 - precision: 0.9984 - recall: 0.9984 - val_loss: 1.4868 - val_accuracy: 0.8059 - val_precision: 0.8060 - val_recall: 0.8050\n",
      "Epoch 335/500\n",
      "875/875 [==============================] - 7s 8ms/step - loss: 0.0049 - accuracy: 0.9982 - precision: 0.9982 - recall: 0.9982 - val_loss: 1.4946 - val_accuracy: 0.8056 - val_precision: 0.8060 - val_recall: 0.8053\n",
      "Epoch 336/500\n",
      "875/875 [==============================] - 7s 8ms/step - loss: 0.0050 - accuracy: 0.9982 - precision: 0.9982 - recall: 0.9981 - val_loss: 1.5014 - val_accuracy: 0.8036 - val_precision: 0.8040 - val_recall: 0.8033\n",
      "Epoch 337/500\n",
      "875/875 [==============================] - 7s 9ms/step - loss: 0.0049 - accuracy: 0.9983 - precision: 0.9983 - recall: 0.9983 - val_loss: 1.5009 - val_accuracy: 0.8025 - val_precision: 0.8026 - val_recall: 0.8022\n",
      "Epoch 338/500\n",
      "875/875 [==============================] - 9s 10ms/step - loss: 0.0046 - accuracy: 0.9984 - precision: 0.9984 - recall: 0.9984 - val_loss: 1.4957 - val_accuracy: 0.8053 - val_precision: 0.8052 - val_recall: 0.8045\n",
      "Epoch 339/500\n",
      "875/875 [==============================] - 7s 8ms/step - loss: 0.0047 - accuracy: 0.9985 - precision: 0.9985 - recall: 0.9985 - val_loss: 1.5009 - val_accuracy: 0.8070 - val_precision: 0.8072 - val_recall: 0.8067\n",
      "Epoch 340/500\n",
      "875/875 [==============================] - 7s 8ms/step - loss: 0.0051 - accuracy: 0.9984 - precision: 0.9984 - recall: 0.9984 - val_loss: 1.5054 - val_accuracy: 0.8033 - val_precision: 0.8037 - val_recall: 0.8030\n",
      "Epoch 341/500\n",
      "875/875 [==============================] - 7s 8ms/step - loss: 0.0052 - accuracy: 0.9980 - precision: 0.9980 - recall: 0.9980 - val_loss: 1.5021 - val_accuracy: 0.8047 - val_precision: 0.8050 - val_recall: 0.8047\n",
      "Epoch 342/500\n",
      "875/875 [==============================] - 8s 9ms/step - loss: 0.0048 - accuracy: 0.9984 - precision: 0.9984 - recall: 0.9984 - val_loss: 1.5016 - val_accuracy: 0.8036 - val_precision: 0.8043 - val_recall: 0.8036\n",
      "Epoch 343/500\n",
      "875/875 [==============================] - 9s 10ms/step - loss: 0.0050 - accuracy: 0.9981 - precision: 0.9981 - recall: 0.9981 - val_loss: 1.5000 - val_accuracy: 0.8030 - val_precision: 0.8036 - val_recall: 0.8025\n",
      "Epoch 344/500\n",
      "875/875 [==============================] - 7s 8ms/step - loss: 0.0046 - accuracy: 0.9986 - precision: 0.9986 - recall: 0.9986 - val_loss: 1.4989 - val_accuracy: 0.8022 - val_precision: 0.8028 - val_recall: 0.8019\n",
      "Epoch 345/500\n",
      "875/875 [==============================] - 7s 8ms/step - loss: 0.0056 - accuracy: 0.9979 - precision: 0.9979 - recall: 0.9979 - val_loss: 1.5047 - val_accuracy: 0.8027 - val_precision: 0.8027 - val_recall: 0.8027\n",
      "Epoch 346/500\n",
      "875/875 [==============================] - 8s 9ms/step - loss: 0.0046 - accuracy: 0.9983 - precision: 0.9983 - recall: 0.9983 - val_loss: 1.5093 - val_accuracy: 0.8033 - val_precision: 0.8034 - val_recall: 0.8027\n",
      "Epoch 347/500\n",
      "875/875 [==============================] - 9s 10ms/step - loss: 0.0050 - accuracy: 0.9984 - precision: 0.9984 - recall: 0.9984 - val_loss: 1.5081 - val_accuracy: 0.8025 - val_precision: 0.8031 - val_recall: 0.8025\n",
      "Epoch 348/500\n",
      "875/875 [==============================] - 7s 8ms/step - loss: 0.0046 - accuracy: 0.9986 - precision: 0.9986 - recall: 0.9986 - val_loss: 1.4985 - val_accuracy: 0.8033 - val_precision: 0.8038 - val_recall: 0.8033\n",
      "Epoch 349/500\n",
      "875/875 [==============================] - 7s 8ms/step - loss: 0.0049 - accuracy: 0.9984 - precision: 0.9984 - recall: 0.9984 - val_loss: 1.5101 - val_accuracy: 0.8013 - val_precision: 0.8013 - val_recall: 0.8013\n",
      "Epoch 350/500\n",
      "875/875 [==============================] - 8s 9ms/step - loss: 0.0047 - accuracy: 0.9987 - precision: 0.9987 - recall: 0.9987 - val_loss: 1.5093 - val_accuracy: 0.8047 - val_precision: 0.8050 - val_recall: 0.8047\n",
      "Epoch 351/500\n",
      "875/875 [==============================] - 7s 8ms/step - loss: 0.0045 - accuracy: 0.9987 - precision: 0.9987 - recall: 0.9987 - val_loss: 1.5001 - val_accuracy: 0.8039 - val_precision: 0.8048 - val_recall: 0.8039\n",
      "Epoch 352/500\n",
      "875/875 [==============================] - 9s 10ms/step - loss: 0.0046 - accuracy: 0.9984 - precision: 0.9984 - recall: 0.9984 - val_loss: 1.5091 - val_accuracy: 0.8013 - val_precision: 0.8015 - val_recall: 0.8013\n",
      "Epoch 353/500\n",
      "875/875 [==============================] - 7s 8ms/step - loss: 0.0047 - accuracy: 0.9985 - precision: 0.9985 - recall: 0.9985 - val_loss: 1.5249 - val_accuracy: 0.8019 - val_precision: 0.8023 - val_recall: 0.8016\n",
      "Epoch 354/500\n",
      "875/875 [==============================] - 8s 9ms/step - loss: 0.0056 - accuracy: 0.9980 - precision: 0.9980 - recall: 0.9980 - val_loss: 1.5236 - val_accuracy: 0.8019 - val_precision: 0.8020 - val_recall: 0.8013\n",
      "Epoch 355/500\n",
      "875/875 [==============================] - 7s 8ms/step - loss: 0.0048 - accuracy: 0.9986 - precision: 0.9986 - recall: 0.9986 - val_loss: 1.5211 - val_accuracy: 0.8033 - val_precision: 0.8034 - val_recall: 0.8027\n",
      "Epoch 356/500\n",
      "875/875 [==============================] - 9s 10ms/step - loss: 0.0047 - accuracy: 0.9983 - precision: 0.9983 - recall: 0.9983 - val_loss: 1.5117 - val_accuracy: 0.8019 - val_precision: 0.8023 - val_recall: 0.8019\n",
      "Epoch 357/500\n",
      "875/875 [==============================] - 7s 8ms/step - loss: 0.0057 - accuracy: 0.9978 - precision: 0.9978 - recall: 0.9978 - val_loss: 1.5135 - val_accuracy: 0.8036 - val_precision: 0.8038 - val_recall: 0.8036\n",
      "Epoch 358/500\n",
      "875/875 [==============================] - 8s 9ms/step - loss: 0.0053 - accuracy: 0.9981 - precision: 0.9981 - recall: 0.9981 - val_loss: 1.5202 - val_accuracy: 0.8036 - val_precision: 0.8039 - val_recall: 0.8030\n",
      "Epoch 359/500\n",
      "875/875 [==============================] - 7s 8ms/step - loss: 0.0043 - accuracy: 0.9984 - precision: 0.9984 - recall: 0.9984 - val_loss: 1.5179 - val_accuracy: 0.8036 - val_precision: 0.8035 - val_recall: 0.8030\n",
      "Epoch 360/500\n",
      "875/875 [==============================] - 7s 8ms/step - loss: 0.0041 - accuracy: 0.9988 - precision: 0.9988 - recall: 0.9988 - val_loss: 1.5073 - val_accuracy: 0.8025 - val_precision: 0.8029 - val_recall: 0.8025\n",
      "Epoch 361/500\n",
      "875/875 [==============================] - 9s 10ms/step - loss: 0.0046 - accuracy: 0.9984 - precision: 0.9984 - recall: 0.9984 - val_loss: 1.5077 - val_accuracy: 0.8042 - val_precision: 0.8046 - val_recall: 0.8039\n",
      "Epoch 362/500\n",
      "875/875 [==============================] - 8s 9ms/step - loss: 0.0045 - accuracy: 0.9984 - precision: 0.9984 - recall: 0.9984 - val_loss: 1.5134 - val_accuracy: 0.8016 - val_precision: 0.8018 - val_recall: 0.8016\n",
      "Epoch 363/500\n",
      "875/875 [==============================] - 7s 8ms/step - loss: 0.0049 - accuracy: 0.9979 - precision: 0.9979 - recall: 0.9979 - val_loss: 1.5132 - val_accuracy: 0.8027 - val_precision: 0.8031 - val_recall: 0.8025\n",
      "Epoch 364/500\n",
      "875/875 [==============================] - 7s 9ms/step - loss: 0.0052 - accuracy: 0.9984 - precision: 0.9984 - recall: 0.9983 - val_loss: 1.5172 - val_accuracy: 0.8065 - val_precision: 0.8071 - val_recall: 0.8062\n",
      "Epoch 365/500\n",
      "875/875 [==============================] - 9s 10ms/step - loss: 0.0049 - accuracy: 0.9980 - precision: 0.9980 - recall: 0.9980 - val_loss: 1.5123 - val_accuracy: 0.8033 - val_precision: 0.8035 - val_recall: 0.8033\n",
      "Epoch 366/500\n",
      "875/875 [==============================] - 8s 9ms/step - loss: 0.0046 - accuracy: 0.9986 - precision: 0.9986 - recall: 0.9986 - val_loss: 1.5185 - val_accuracy: 0.8013 - val_precision: 0.8018 - val_recall: 0.8013\n",
      "Epoch 367/500\n",
      "875/875 [==============================] - 8s 9ms/step - loss: 0.0050 - accuracy: 0.9984 - precision: 0.9984 - recall: 0.9983 - val_loss: 1.5255 - val_accuracy: 0.8030 - val_precision: 0.8034 - val_recall: 0.8025\n",
      "Epoch 368/500\n",
      "875/875 [==============================] - 7s 8ms/step - loss: 0.0056 - accuracy: 0.9979 - precision: 0.9979 - recall: 0.9979 - val_loss: 1.5214 - val_accuracy: 0.8010 - val_precision: 0.8017 - val_recall: 0.8010\n",
      "Epoch 369/500\n",
      "875/875 [==============================] - 7s 8ms/step - loss: 0.0042 - accuracy: 0.9986 - precision: 0.9986 - recall: 0.9986 - val_loss: 1.5222 - val_accuracy: 0.8042 - val_precision: 0.8046 - val_recall: 0.8042\n",
      "Epoch 370/500\n",
      "875/875 [==============================] - 9s 10ms/step - loss: 0.0046 - accuracy: 0.9986 - precision: 0.9986 - recall: 0.9986 - val_loss: 1.5317 - val_accuracy: 0.8027 - val_precision: 0.8029 - val_recall: 0.8025\n",
      "Epoch 371/500\n",
      "875/875 [==============================] - 7s 8ms/step - loss: 0.0051 - accuracy: 0.9983 - precision: 0.9984 - recall: 0.9981 - val_loss: 1.5167 - val_accuracy: 0.8030 - val_precision: 0.8033 - val_recall: 0.8030\n",
      "Epoch 372/500\n",
      "875/875 [==============================] - 7s 8ms/step - loss: 0.0046 - accuracy: 0.9985 - precision: 0.9985 - recall: 0.9985 - val_loss: 1.5347 - val_accuracy: 0.8025 - val_precision: 0.8029 - val_recall: 0.8022\n",
      "Epoch 373/500\n",
      "875/875 [==============================] - 7s 8ms/step - loss: 0.0045 - accuracy: 0.9982 - precision: 0.9982 - recall: 0.9982 - val_loss: 1.5282 - val_accuracy: 0.8045 - val_precision: 0.8044 - val_recall: 0.8042\n",
      "Epoch 374/500\n",
      "875/875 [==============================] - 9s 10ms/step - loss: 0.0048 - accuracy: 0.9984 - precision: 0.9984 - recall: 0.9984 - val_loss: 1.5234 - val_accuracy: 0.8053 - val_precision: 0.8055 - val_recall: 0.8053\n",
      "Epoch 375/500\n",
      "875/875 [==============================] - 8s 9ms/step - loss: 0.0047 - accuracy: 0.9984 - precision: 0.9984 - recall: 0.9984 - val_loss: 1.5300 - val_accuracy: 0.8056 - val_precision: 0.8056 - val_recall: 0.8056\n",
      "Epoch 376/500\n",
      "875/875 [==============================] - 7s 8ms/step - loss: 0.0047 - accuracy: 0.9981 - precision: 0.9981 - recall: 0.9981 - val_loss: 1.5352 - val_accuracy: 0.8022 - val_precision: 0.8029 - val_recall: 0.8022\n",
      "Epoch 377/500\n",
      "875/875 [==============================] - 7s 9ms/step - loss: 0.0051 - accuracy: 0.9981 - precision: 0.9981 - recall: 0.9981 - val_loss: 1.5285 - val_accuracy: 0.8002 - val_precision: 0.8006 - val_recall: 0.8002\n",
      "Epoch 378/500\n",
      "875/875 [==============================] - 7s 8ms/step - loss: 0.0057 - accuracy: 0.9980 - precision: 0.9980 - recall: 0.9980 - val_loss: 1.5226 - val_accuracy: 0.8027 - val_precision: 0.8031 - val_recall: 0.8025\n",
      "Epoch 379/500\n",
      "875/875 [==============================] - 9s 10ms/step - loss: 0.0049 - accuracy: 0.9984 - precision: 0.9984 - recall: 0.9984 - val_loss: 1.5257 - val_accuracy: 0.8019 - val_precision: 0.8023 - val_recall: 0.8019\n",
      "Epoch 380/500\n",
      "875/875 [==============================] - 7s 8ms/step - loss: 0.0047 - accuracy: 0.9981 - precision: 0.9981 - recall: 0.9981 - val_loss: 1.5320 - val_accuracy: 0.8045 - val_precision: 0.8046 - val_recall: 0.8042\n",
      "Epoch 381/500\n",
      "875/875 [==============================] - 7s 8ms/step - loss: 0.0054 - accuracy: 0.9984 - precision: 0.9984 - recall: 0.9984 - val_loss: 1.5261 - val_accuracy: 0.8059 - val_precision: 0.8061 - val_recall: 0.8059\n",
      "Epoch 382/500\n",
      "875/875 [==============================] - 8s 9ms/step - loss: 0.0046 - accuracy: 0.9985 - precision: 0.9985 - recall: 0.9985 - val_loss: 1.5284 - val_accuracy: 0.8027 - val_precision: 0.8029 - val_recall: 0.8025\n",
      "Epoch 383/500\n",
      "875/875 [==============================] - 9s 10ms/step - loss: 0.0049 - accuracy: 0.9986 - precision: 0.9986 - recall: 0.9986 - val_loss: 1.5222 - val_accuracy: 0.8022 - val_precision: 0.8029 - val_recall: 0.8022\n",
      "Epoch 384/500\n",
      "875/875 [==============================] - 8s 9ms/step - loss: 0.0047 - accuracy: 0.9986 - precision: 0.9986 - recall: 0.9986 - val_loss: 1.5255 - val_accuracy: 0.8070 - val_precision: 0.8072 - val_recall: 0.8067\n",
      "Epoch 385/500\n",
      "875/875 [==============================] - 7s 8ms/step - loss: 0.0043 - accuracy: 0.9986 - precision: 0.9986 - recall: 0.9986 - val_loss: 1.5280 - val_accuracy: 0.8016 - val_precision: 0.8021 - val_recall: 0.8016\n",
      "Epoch 386/500\n",
      "875/875 [==============================] - 7s 8ms/step - loss: 0.0047 - accuracy: 0.9983 - precision: 0.9983 - recall: 0.9983 - val_loss: 1.5235 - val_accuracy: 0.8030 - val_precision: 0.8033 - val_recall: 0.8030\n",
      "Epoch 387/500\n",
      "875/875 [==============================] - 8s 9ms/step - loss: 0.0051 - accuracy: 0.9981 - precision: 0.9982 - recall: 0.9981 - val_loss: 1.5370 - val_accuracy: 0.8039 - val_precision: 0.8043 - val_recall: 0.8036\n",
      "Epoch 388/500\n",
      "875/875 [==============================] - 9s 10ms/step - loss: 0.0049 - accuracy: 0.9980 - precision: 0.9980 - recall: 0.9980 - val_loss: 1.5363 - val_accuracy: 0.8033 - val_precision: 0.8037 - val_recall: 0.8030\n",
      "Epoch 389/500\n",
      "875/875 [==============================] - 7s 8ms/step - loss: 0.0046 - accuracy: 0.9982 - precision: 0.9982 - recall: 0.9982 - val_loss: 1.5294 - val_accuracy: 0.8013 - val_precision: 0.8018 - val_recall: 0.8013\n",
      "Epoch 390/500\n",
      "875/875 [==============================] - 7s 8ms/step - loss: 0.0050 - accuracy: 0.9984 - precision: 0.9984 - recall: 0.9984 - val_loss: 1.5403 - val_accuracy: 0.8019 - val_precision: 0.8023 - val_recall: 0.8019\n",
      "Epoch 391/500\n",
      "875/875 [==============================] - 8s 9ms/step - loss: 0.0042 - accuracy: 0.9989 - precision: 0.9989 - recall: 0.9989 - val_loss: 1.5365 - val_accuracy: 0.8045 - val_precision: 0.8049 - val_recall: 0.8045\n",
      "Epoch 392/500\n",
      "875/875 [==============================] - 8s 9ms/step - loss: 0.0056 - accuracy: 0.9979 - precision: 0.9979 - recall: 0.9979 - val_loss: 1.5284 - val_accuracy: 0.8019 - val_precision: 0.8022 - val_recall: 0.8013\n",
      "Epoch 393/500\n",
      "875/875 [==============================] - 8s 9ms/step - loss: 0.0050 - accuracy: 0.9983 - precision: 0.9983 - recall: 0.9983 - val_loss: 1.5410 - val_accuracy: 0.8025 - val_precision: 0.8029 - val_recall: 0.8022\n",
      "Epoch 394/500\n",
      "875/875 [==============================] - 7s 8ms/step - loss: 0.0043 - accuracy: 0.9984 - precision: 0.9984 - recall: 0.9984 - val_loss: 1.5352 - val_accuracy: 0.8030 - val_precision: 0.8033 - val_recall: 0.8030\n",
      "Epoch 395/500\n",
      "875/875 [==============================] - 8s 9ms/step - loss: 0.0048 - accuracy: 0.9980 - precision: 0.9980 - recall: 0.9980 - val_loss: 1.5402 - val_accuracy: 0.8019 - val_precision: 0.8021 - val_recall: 0.8016\n",
      "Epoch 396/500\n",
      "875/875 [==============================] - 7s 8ms/step - loss: 0.0049 - accuracy: 0.9983 - precision: 0.9983 - recall: 0.9982 - val_loss: 1.5434 - val_accuracy: 0.8036 - val_precision: 0.8038 - val_recall: 0.8036\n",
      "Epoch 397/500\n",
      "875/875 [==============================] - 9s 10ms/step - loss: 0.0044 - accuracy: 0.9984 - precision: 0.9984 - recall: 0.9984 - val_loss: 1.5403 - val_accuracy: 0.8033 - val_precision: 0.8037 - val_recall: 0.8030\n",
      "Epoch 398/500\n",
      "875/875 [==============================] - 7s 8ms/step - loss: 0.0046 - accuracy: 0.9985 - precision: 0.9985 - recall: 0.9985 - val_loss: 1.5439 - val_accuracy: 0.8030 - val_precision: 0.8037 - val_recall: 0.8030\n",
      "Epoch 399/500\n",
      "875/875 [==============================] - 8s 9ms/step - loss: 0.0046 - accuracy: 0.9984 - precision: 0.9984 - recall: 0.9984 - val_loss: 1.5396 - val_accuracy: 0.8022 - val_precision: 0.8024 - val_recall: 0.8022\n",
      "Epoch 400/500\n",
      "875/875 [==============================] - 7s 9ms/step - loss: 0.0045 - accuracy: 0.9985 - precision: 0.9985 - recall: 0.9985 - val_loss: 1.5414 - val_accuracy: 0.8050 - val_precision: 0.8055 - val_recall: 0.8050\n",
      "Epoch 401/500\n",
      "875/875 [==============================] - 8s 9ms/step - loss: 0.0047 - accuracy: 0.9984 - precision: 0.9984 - recall: 0.9984 - val_loss: 1.5413 - val_accuracy: 0.8056 - val_precision: 0.8060 - val_recall: 0.8053\n",
      "Epoch 402/500\n",
      "875/875 [==============================] - 8s 9ms/step - loss: 0.0052 - accuracy: 0.9979 - precision: 0.9979 - recall: 0.9979 - val_loss: 1.5488 - val_accuracy: 0.8022 - val_precision: 0.8026 - val_recall: 0.8022\n",
      "Epoch 403/500\n",
      "875/875 [==============================] - 8s 9ms/step - loss: 0.0038 - accuracy: 0.9986 - precision: 0.9986 - recall: 0.9985 - val_loss: 1.5452 - val_accuracy: 0.8019 - val_precision: 0.8026 - val_recall: 0.8019\n",
      "Epoch 404/500\n",
      "875/875 [==============================] - 7s 8ms/step - loss: 0.0048 - accuracy: 0.9981 - precision: 0.9981 - recall: 0.9981 - val_loss: 1.5388 - val_accuracy: 0.8079 - val_precision: 0.8078 - val_recall: 0.8076\n",
      "Epoch 405/500\n",
      "875/875 [==============================] - 7s 8ms/step - loss: 0.0050 - accuracy: 0.9983 - precision: 0.9983 - recall: 0.9983 - val_loss: 1.5485 - val_accuracy: 0.8022 - val_precision: 0.8023 - val_recall: 0.8019\n",
      "Epoch 406/500\n",
      "875/875 [==============================] - 9s 10ms/step - loss: 0.0044 - accuracy: 0.9984 - precision: 0.9984 - recall: 0.9984 - val_loss: 1.5365 - val_accuracy: 0.8002 - val_precision: 0.8005 - val_recall: 0.7996\n",
      "Epoch 407/500\n",
      "875/875 [==============================] - 8s 9ms/step - loss: 0.0046 - accuracy: 0.9986 - precision: 0.9986 - recall: 0.9986 - val_loss: 1.5357 - val_accuracy: 0.8030 - val_precision: 0.8037 - val_recall: 0.8027\n",
      "Epoch 408/500\n",
      "875/875 [==============================] - 7s 8ms/step - loss: 0.0046 - accuracy: 0.9981 - precision: 0.9981 - recall: 0.9981 - val_loss: 1.5371 - val_accuracy: 0.8010 - val_precision: 0.8012 - val_recall: 0.8007\n",
      "Epoch 409/500\n",
      "875/875 [==============================] - 7s 8ms/step - loss: 0.0052 - accuracy: 0.9979 - precision: 0.9979 - recall: 0.9979 - val_loss: 1.5494 - val_accuracy: 0.8036 - val_precision: 0.8041 - val_recall: 0.8036\n",
      "Epoch 410/500\n",
      "875/875 [==============================] - 7s 8ms/step - loss: 0.0043 - accuracy: 0.9986 - precision: 0.9986 - recall: 0.9986 - val_loss: 1.5430 - val_accuracy: 0.8025 - val_precision: 0.8028 - val_recall: 0.8019\n",
      "Epoch 411/500\n",
      "875/875 [==============================] - 10s 11ms/step - loss: 0.0048 - accuracy: 0.9982 - precision: 0.9982 - recall: 0.9982 - val_loss: 1.5455 - val_accuracy: 0.8002 - val_precision: 0.8008 - val_recall: 0.7999\n",
      "Epoch 412/500\n",
      "875/875 [==============================] - 7s 8ms/step - loss: 0.0046 - accuracy: 0.9984 - precision: 0.9984 - recall: 0.9984 - val_loss: 1.5501 - val_accuracy: 0.8025 - val_precision: 0.8027 - val_recall: 0.8025\n",
      "Epoch 413/500\n",
      "875/875 [==============================] - 7s 8ms/step - loss: 0.0040 - accuracy: 0.9986 - precision: 0.9986 - recall: 0.9986 - val_loss: 1.5459 - val_accuracy: 0.8042 - val_precision: 0.8046 - val_recall: 0.8039\n",
      "Epoch 414/500\n",
      "875/875 [==============================] - 7s 8ms/step - loss: 0.0040 - accuracy: 0.9985 - precision: 0.9985 - recall: 0.9985 - val_loss: 1.5539 - val_accuracy: 0.8019 - val_precision: 0.8026 - val_recall: 0.8019\n",
      "Epoch 415/500\n",
      "875/875 [==============================] - 8s 10ms/step - loss: 0.0044 - accuracy: 0.9984 - precision: 0.9984 - recall: 0.9984 - val_loss: 1.5505 - val_accuracy: 0.8022 - val_precision: 0.8026 - val_recall: 0.8019\n",
      "Epoch 416/500\n",
      "875/875 [==============================] - 8s 9ms/step - loss: 0.0041 - accuracy: 0.9984 - precision: 0.9984 - recall: 0.9984 - val_loss: 1.5455 - val_accuracy: 0.8036 - val_precision: 0.8037 - val_recall: 0.8030\n",
      "Epoch 417/500\n",
      "875/875 [==============================] - 7s 8ms/step - loss: 0.0047 - accuracy: 0.9981 - precision: 0.9981 - recall: 0.9981 - val_loss: 1.5616 - val_accuracy: 0.8019 - val_precision: 0.8023 - val_recall: 0.8016\n",
      "Epoch 418/500\n",
      "875/875 [==============================] - 8s 9ms/step - loss: 0.0038 - accuracy: 0.9985 - precision: 0.9985 - recall: 0.9985 - val_loss: 1.5553 - val_accuracy: 0.8033 - val_precision: 0.8037 - val_recall: 0.8030\n",
      "Epoch 419/500\n",
      "875/875 [==============================] - 8s 9ms/step - loss: 0.0042 - accuracy: 0.9987 - precision: 0.9987 - recall: 0.9986 - val_loss: 1.5489 - val_accuracy: 0.8047 - val_precision: 0.8052 - val_recall: 0.8045\n",
      "Epoch 420/500\n",
      "875/875 [==============================] - 9s 10ms/step - loss: 0.0043 - accuracy: 0.9984 - precision: 0.9984 - recall: 0.9984 - val_loss: 1.5460 - val_accuracy: 0.8045 - val_precision: 0.8048 - val_recall: 0.8036\n",
      "Epoch 421/500\n",
      "875/875 [==============================] - 7s 8ms/step - loss: 0.0046 - accuracy: 0.9981 - precision: 0.9981 - recall: 0.9981 - val_loss: 1.5451 - val_accuracy: 0.8010 - val_precision: 0.8019 - val_recall: 0.8007\n",
      "Epoch 422/500\n",
      "875/875 [==============================] - 7s 8ms/step - loss: 0.0043 - accuracy: 0.9987 - precision: 0.9987 - recall: 0.9987 - val_loss: 1.5650 - val_accuracy: 0.8019 - val_precision: 0.8018 - val_recall: 0.8013\n",
      "Epoch 423/500\n",
      "875/875 [==============================] - 8s 9ms/step - loss: 0.0040 - accuracy: 0.9988 - precision: 0.9988 - recall: 0.9988 - val_loss: 1.5511 - val_accuracy: 0.8065 - val_precision: 0.8069 - val_recall: 0.8062\n",
      "Epoch 424/500\n",
      "875/875 [==============================] - 7s 8ms/step - loss: 0.0045 - accuracy: 0.9986 - precision: 0.9986 - recall: 0.9986 - val_loss: 1.5533 - val_accuracy: 0.8033 - val_precision: 0.8037 - val_recall: 0.8030\n",
      "Epoch 425/500\n",
      "875/875 [==============================] - 9s 10ms/step - loss: 0.0050 - accuracy: 0.9983 - precision: 0.9983 - recall: 0.9983 - val_loss: 1.5560 - val_accuracy: 0.8025 - val_precision: 0.8028 - val_recall: 0.8019\n",
      "Epoch 426/500\n",
      "875/875 [==============================] - 7s 8ms/step - loss: 0.0049 - accuracy: 0.9981 - precision: 0.9981 - recall: 0.9981 - val_loss: 1.5680 - val_accuracy: 0.8019 - val_precision: 0.8023 - val_recall: 0.8016\n",
      "Epoch 427/500\n",
      "875/875 [==============================] - 8s 9ms/step - loss: 0.0047 - accuracy: 0.9981 - precision: 0.9981 - recall: 0.9981 - val_loss: 1.5588 - val_accuracy: 0.8025 - val_precision: 0.8031 - val_recall: 0.8025\n",
      "Epoch 428/500\n",
      "875/875 [==============================] - 7s 8ms/step - loss: 0.0045 - accuracy: 0.9979 - precision: 0.9979 - recall: 0.9979 - val_loss: 1.5614 - val_accuracy: 0.8030 - val_precision: 0.8037 - val_recall: 0.8027\n",
      "Epoch 429/500\n",
      "875/875 [==============================] - 8s 9ms/step - loss: 0.0045 - accuracy: 0.9984 - precision: 0.9984 - recall: 0.9984 - val_loss: 1.5609 - val_accuracy: 0.8025 - val_precision: 0.8029 - val_recall: 0.8022\n",
      "Epoch 430/500\n",
      "875/875 [==============================] - 8s 9ms/step - loss: 0.0046 - accuracy: 0.9981 - precision: 0.9981 - recall: 0.9981 - val_loss: 1.5589 - val_accuracy: 0.8042 - val_precision: 0.8046 - val_recall: 0.8039\n",
      "Epoch 431/500\n",
      "875/875 [==============================] - 8s 9ms/step - loss: 0.0045 - accuracy: 0.9984 - precision: 0.9984 - recall: 0.9984 - val_loss: 1.5587 - val_accuracy: 0.8022 - val_precision: 0.8023 - val_recall: 0.8019\n",
      "Epoch 432/500\n",
      "875/875 [==============================] - 7s 8ms/step - loss: 0.0046 - accuracy: 0.9984 - precision: 0.9984 - recall: 0.9984 - val_loss: 1.5553 - val_accuracy: 0.8013 - val_precision: 0.8022 - val_recall: 0.8013\n",
      "Epoch 433/500\n",
      "875/875 [==============================] - 7s 9ms/step - loss: 0.0048 - accuracy: 0.9981 - precision: 0.9981 - recall: 0.9981 - val_loss: 1.5529 - val_accuracy: 0.8016 - val_precision: 0.8020 - val_recall: 0.8013\n",
      "Epoch 434/500\n",
      "875/875 [==============================] - 9s 10ms/step - loss: 0.0045 - accuracy: 0.9979 - precision: 0.9979 - recall: 0.9979 - val_loss: 1.5663 - val_accuracy: 0.8030 - val_precision: 0.8033 - val_recall: 0.8030\n",
      "Epoch 435/500\n",
      "875/875 [==============================] - 8s 9ms/step - loss: 0.0046 - accuracy: 0.9984 - precision: 0.9984 - recall: 0.9984 - val_loss: 1.5692 - val_accuracy: 0.8019 - val_precision: 0.8027 - val_recall: 0.8016\n",
      "Epoch 436/500\n",
      "875/875 [==============================] - 7s 8ms/step - loss: 0.0044 - accuracy: 0.9987 - precision: 0.9987 - recall: 0.9987 - val_loss: 1.5602 - val_accuracy: 0.8005 - val_precision: 0.8006 - val_recall: 0.8002\n",
      "Epoch 437/500\n",
      "875/875 [==============================] - 7s 8ms/step - loss: 0.0046 - accuracy: 0.9985 - precision: 0.9985 - recall: 0.9984 - val_loss: 1.5658 - val_accuracy: 0.8025 - val_precision: 0.8029 - val_recall: 0.8025\n",
      "Epoch 438/500\n",
      "875/875 [==============================] - 8s 9ms/step - loss: 0.0039 - accuracy: 0.9986 - precision: 0.9986 - recall: 0.9986 - val_loss: 1.5593 - val_accuracy: 0.8045 - val_precision: 0.8049 - val_recall: 0.8045\n",
      "Epoch 439/500\n",
      "875/875 [==============================] - 10s 11ms/step - loss: 0.0048 - accuracy: 0.9983 - precision: 0.9984 - recall: 0.9982 - val_loss: 1.5536 - val_accuracy: 0.8016 - val_precision: 0.8019 - val_recall: 0.8010\n",
      "Epoch 440/500\n",
      "875/875 [==============================] - 7s 8ms/step - loss: 0.0045 - accuracy: 0.9983 - precision: 0.9983 - recall: 0.9983 - val_loss: 1.5537 - val_accuracy: 0.7999 - val_precision: 0.8007 - val_recall: 0.7996\n",
      "Epoch 441/500\n",
      "875/875 [==============================] - 7s 8ms/step - loss: 0.0051 - accuracy: 0.9983 - precision: 0.9983 - recall: 0.9983 - val_loss: 1.5584 - val_accuracy: 0.8053 - val_precision: 0.8062 - val_recall: 0.8050\n",
      "Epoch 442/500\n",
      "875/875 [==============================] - 7s 8ms/step - loss: 0.0046 - accuracy: 0.9985 - precision: 0.9985 - recall: 0.9985 - val_loss: 1.5506 - val_accuracy: 0.8033 - val_precision: 0.8038 - val_recall: 0.8033\n",
      "Epoch 443/500\n",
      "875/875 [==============================] - 9s 11ms/step - loss: 0.0048 - accuracy: 0.9981 - precision: 0.9981 - recall: 0.9981 - val_loss: 1.5620 - val_accuracy: 0.8025 - val_precision: 0.8024 - val_recall: 0.8022\n",
      "Epoch 444/500\n",
      "875/875 [==============================] - 8s 9ms/step - loss: 0.0047 - accuracy: 0.9984 - precision: 0.9984 - recall: 0.9984 - val_loss: 1.5671 - val_accuracy: 0.8039 - val_precision: 0.8038 - val_recall: 0.8036\n",
      "Epoch 445/500\n",
      "875/875 [==============================] - 7s 8ms/step - loss: 0.0042 - accuracy: 0.9984 - precision: 0.9984 - recall: 0.9984 - val_loss: 1.5650 - val_accuracy: 0.8033 - val_precision: 0.8032 - val_recall: 0.8027\n",
      "Epoch 446/500\n",
      "875/875 [==============================] - 8s 9ms/step - loss: 0.0041 - accuracy: 0.9983 - precision: 0.9983 - recall: 0.9983 - val_loss: 1.5519 - val_accuracy: 0.8022 - val_precision: 0.8030 - val_recall: 0.8019\n",
      "Epoch 447/500\n",
      "875/875 [==============================] - 7s 8ms/step - loss: 0.0041 - accuracy: 0.9987 - precision: 0.9987 - recall: 0.9987 - val_loss: 1.5718 - val_accuracy: 0.8022 - val_precision: 0.8026 - val_recall: 0.8022\n",
      "Epoch 448/500\n",
      "875/875 [==============================] - 10s 11ms/step - loss: 0.0040 - accuracy: 0.9986 - precision: 0.9986 - recall: 0.9986 - val_loss: 1.5528 - val_accuracy: 0.8010 - val_precision: 0.8017 - val_recall: 0.8007\n",
      "Epoch 449/500\n",
      "875/875 [==============================] - 7s 8ms/step - loss: 0.0043 - accuracy: 0.9984 - precision: 0.9984 - recall: 0.9984 - val_loss: 1.5674 - val_accuracy: 0.8047 - val_precision: 0.8050 - val_recall: 0.8047\n",
      "Epoch 450/500\n",
      "875/875 [==============================] - 7s 8ms/step - loss: 0.0041 - accuracy: 0.9986 - precision: 0.9986 - recall: 0.9986 - val_loss: 1.5600 - val_accuracy: 0.8019 - val_precision: 0.8026 - val_recall: 0.8019\n",
      "Epoch 451/500\n",
      "875/875 [==============================] - 7s 8ms/step - loss: 0.0046 - accuracy: 0.9983 - precision: 0.9983 - recall: 0.9983 - val_loss: 1.5689 - val_accuracy: 0.8036 - val_precision: 0.8036 - val_recall: 0.8036\n",
      "Epoch 452/500\n",
      "875/875 [==============================] - 9s 10ms/step - loss: 0.0043 - accuracy: 0.9985 - precision: 0.9985 - recall: 0.9984 - val_loss: 1.5736 - val_accuracy: 0.8022 - val_precision: 0.8024 - val_recall: 0.8022\n",
      "Epoch 453/500\n",
      "875/875 [==============================] - 9s 10ms/step - loss: 0.0046 - accuracy: 0.9983 - precision: 0.9983 - recall: 0.9983 - val_loss: 1.5615 - val_accuracy: 0.8019 - val_precision: 0.8021 - val_recall: 0.8019\n",
      "Epoch 454/500\n",
      "875/875 [==============================] - 7s 8ms/step - loss: 0.0043 - accuracy: 0.9981 - precision: 0.9981 - recall: 0.9981 - val_loss: 1.5624 - val_accuracy: 0.8016 - val_precision: 0.8017 - val_recall: 0.8007\n",
      "Epoch 455/500\n",
      "875/875 [==============================] - 7s 8ms/step - loss: 0.0045 - accuracy: 0.9984 - precision: 0.9984 - recall: 0.9984 - val_loss: 1.5645 - val_accuracy: 0.8030 - val_precision: 0.8037 - val_recall: 0.8027\n",
      "Epoch 456/500\n",
      "875/875 [==============================] - 8s 9ms/step - loss: 0.0048 - accuracy: 0.9984 - precision: 0.9984 - recall: 0.9984 - val_loss: 1.5682 - val_accuracy: 0.8025 - val_precision: 0.8031 - val_recall: 0.8025\n",
      "Epoch 457/500\n",
      "875/875 [==============================] - 9s 10ms/step - loss: 0.0042 - accuracy: 0.9986 - precision: 0.9986 - recall: 0.9986 - val_loss: 1.5769 - val_accuracy: 0.8025 - val_precision: 0.8027 - val_recall: 0.8025\n",
      "Epoch 458/500\n",
      "875/875 [==============================] - 7s 8ms/step - loss: 0.0043 - accuracy: 0.9983 - precision: 0.9983 - recall: 0.9983 - val_loss: 1.5698 - val_accuracy: 0.8039 - val_precision: 0.8041 - val_recall: 0.8036\n",
      "Epoch 459/500\n",
      "875/875 [==============================] - 7s 8ms/step - loss: 0.0039 - accuracy: 0.9985 - precision: 0.9985 - recall: 0.9985 - val_loss: 1.5694 - val_accuracy: 0.8025 - val_precision: 0.8029 - val_recall: 0.8022\n",
      "Epoch 460/500\n",
      "875/875 [==============================] - 8s 9ms/step - loss: 0.0041 - accuracy: 0.9982 - precision: 0.9982 - recall: 0.9981 - val_loss: 1.5709 - val_accuracy: 0.8033 - val_precision: 0.8038 - val_recall: 0.8033\n",
      "Epoch 461/500\n",
      "875/875 [==============================] - 7s 8ms/step - loss: 0.0044 - accuracy: 0.9985 - precision: 0.9985 - recall: 0.9985 - val_loss: 1.5668 - val_accuracy: 0.8027 - val_precision: 0.8029 - val_recall: 0.8025\n",
      "Epoch 462/500\n",
      "875/875 [==============================] - 9s 11ms/step - loss: 0.0039 - accuracy: 0.9989 - precision: 0.9989 - recall: 0.9989 - val_loss: 1.5678 - val_accuracy: 0.7993 - val_precision: 0.7998 - val_recall: 0.7993\n",
      "Epoch 463/500\n",
      "875/875 [==============================] - 7s 8ms/step - loss: 0.0047 - accuracy: 0.9983 - precision: 0.9983 - recall: 0.9983 - val_loss: 1.5638 - val_accuracy: 0.8013 - val_precision: 0.8015 - val_recall: 0.8010\n",
      "Epoch 464/500\n",
      "875/875 [==============================] - 8s 9ms/step - loss: 0.0048 - accuracy: 0.9982 - precision: 0.9982 - recall: 0.9982 - val_loss: 1.5772 - val_accuracy: 0.8027 - val_precision: 0.8026 - val_recall: 0.8022\n",
      "Epoch 465/500\n",
      "875/875 [==============================] - 7s 9ms/step - loss: 0.0040 - accuracy: 0.9985 - precision: 0.9985 - recall: 0.9985 - val_loss: 1.5695 - val_accuracy: 0.8002 - val_precision: 0.8006 - val_recall: 0.7999\n",
      "Epoch 466/500\n",
      "875/875 [==============================] - 8s 9ms/step - loss: 0.0039 - accuracy: 0.9987 - precision: 0.9988 - recall: 0.9987 - val_loss: 1.5792 - val_accuracy: 0.8013 - val_precision: 0.8017 - val_recall: 0.8010\n",
      "Epoch 467/500\n",
      "875/875 [==============================] - 8s 9ms/step - loss: 0.0040 - accuracy: 0.9985 - precision: 0.9985 - recall: 0.9985 - val_loss: 1.5688 - val_accuracy: 0.8002 - val_precision: 0.8008 - val_recall: 0.7999\n",
      "Epoch 468/500\n",
      "875/875 [==============================] - 7s 8ms/step - loss: 0.0040 - accuracy: 0.9986 - precision: 0.9986 - recall: 0.9986 - val_loss: 1.5756 - val_accuracy: 0.8019 - val_precision: 0.8023 - val_recall: 0.8019\n",
      "Epoch 469/500\n",
      "875/875 [==============================] - 7s 8ms/step - loss: 0.0048 - accuracy: 0.9982 - precision: 0.9983 - recall: 0.9982 - val_loss: 1.5689 - val_accuracy: 0.8016 - val_precision: 0.8018 - val_recall: 0.8013\n",
      "Epoch 470/500\n",
      "875/875 [==============================] - 7s 8ms/step - loss: 0.0041 - accuracy: 0.9983 - precision: 0.9983 - recall: 0.9983 - val_loss: 1.5741 - val_accuracy: 0.8030 - val_precision: 0.8035 - val_recall: 0.8030\n",
      "Epoch 471/500\n",
      "875/875 [==============================] - 9s 10ms/step - loss: 0.0046 - accuracy: 0.9982 - precision: 0.9982 - recall: 0.9982 - val_loss: 1.5779 - val_accuracy: 0.8013 - val_precision: 0.8019 - val_recall: 0.8010\n",
      "Epoch 472/500\n",
      "875/875 [==============================] - 8s 9ms/step - loss: 0.0048 - accuracy: 0.9981 - precision: 0.9981 - recall: 0.9981 - val_loss: 1.5781 - val_accuracy: 0.8027 - val_precision: 0.8032 - val_recall: 0.8027\n",
      "Epoch 473/500\n",
      "875/875 [==============================] - 7s 8ms/step - loss: 0.0042 - accuracy: 0.9984 - precision: 0.9984 - recall: 0.9984 - val_loss: 1.5752 - val_accuracy: 0.8013 - val_precision: 0.8022 - val_recall: 0.8013\n",
      "Epoch 474/500\n",
      "875/875 [==============================] - 7s 8ms/step - loss: 0.0045 - accuracy: 0.9981 - precision: 0.9981 - recall: 0.9981 - val_loss: 1.5748 - val_accuracy: 0.8036 - val_precision: 0.8040 - val_recall: 0.8033\n",
      "Epoch 475/500\n",
      "875/875 [==============================] - 7s 8ms/step - loss: 0.0040 - accuracy: 0.9984 - precision: 0.9984 - recall: 0.9984 - val_loss: 1.5729 - val_accuracy: 0.8002 - val_precision: 0.8006 - val_recall: 0.7999\n",
      "Epoch 476/500\n",
      "875/875 [==============================] - 10s 11ms/step - loss: 0.0046 - accuracy: 0.9979 - precision: 0.9979 - recall: 0.9979 - val_loss: 1.5708 - val_accuracy: 0.7996 - val_precision: 0.7999 - val_recall: 0.7990\n",
      "Epoch 477/500\n",
      "875/875 [==============================] - 7s 8ms/step - loss: 0.0041 - accuracy: 0.9986 - precision: 0.9986 - recall: 0.9986 - val_loss: 1.5725 - val_accuracy: 0.7999 - val_precision: 0.8003 - val_recall: 0.7999\n",
      "Epoch 478/500\n",
      "875/875 [==============================] - 7s 8ms/step - loss: 0.0045 - accuracy: 0.9982 - precision: 0.9982 - recall: 0.9982 - val_loss: 1.5741 - val_accuracy: 0.8025 - val_precision: 0.8026 - val_recall: 0.8022\n",
      "Epoch 479/500\n",
      "875/875 [==============================] - 7s 8ms/step - loss: 0.0042 - accuracy: 0.9985 - precision: 0.9985 - recall: 0.9985 - val_loss: 1.5764 - val_accuracy: 0.7999 - val_precision: 0.8001 - val_recall: 0.7999\n",
      "Epoch 480/500\n",
      "875/875 [==============================] - 9s 10ms/step - loss: 0.0037 - accuracy: 0.9988 - precision: 0.9988 - recall: 0.9988 - val_loss: 1.5847 - val_accuracy: 0.8025 - val_precision: 0.8029 - val_recall: 0.8025\n",
      "Epoch 481/500\n",
      "875/875 [==============================] - 8s 10ms/step - loss: 0.0046 - accuracy: 0.9982 - precision: 0.9982 - recall: 0.9982 - val_loss: 1.5774 - val_accuracy: 0.8025 - val_precision: 0.8031 - val_recall: 0.8025\n",
      "Epoch 482/500\n",
      "875/875 [==============================] - 7s 8ms/step - loss: 0.0044 - accuracy: 0.9986 - precision: 0.9986 - recall: 0.9986 - val_loss: 1.5883 - val_accuracy: 0.7996 - val_precision: 0.7998 - val_recall: 0.7996\n",
      "Epoch 483/500\n",
      "875/875 [==============================] - 7s 8ms/step - loss: 0.0045 - accuracy: 0.9981 - precision: 0.9981 - recall: 0.9981 - val_loss: 1.5771 - val_accuracy: 0.8002 - val_precision: 0.8004 - val_recall: 0.8002\n",
      "Epoch 484/500\n",
      "875/875 [==============================] - 8s 9ms/step - loss: 0.0045 - accuracy: 0.9984 - precision: 0.9984 - recall: 0.9984 - val_loss: 1.5772 - val_accuracy: 0.8016 - val_precision: 0.8022 - val_recall: 0.8013\n",
      "Epoch 485/500\n",
      "875/875 [==============================] - 9s 10ms/step - loss: 0.0037 - accuracy: 0.9988 - precision: 0.9988 - recall: 0.9988 - val_loss: 1.5706 - val_accuracy: 0.8007 - val_precision: 0.8014 - val_recall: 0.8005\n",
      "Epoch 486/500\n",
      "875/875 [==============================] - 8s 9ms/step - loss: 0.0045 - accuracy: 0.9984 - precision: 0.9984 - recall: 0.9984 - val_loss: 1.5845 - val_accuracy: 0.8010 - val_precision: 0.8012 - val_recall: 0.8007\n",
      "Epoch 487/500\n",
      "875/875 [==============================] - 7s 8ms/step - loss: 0.0045 - accuracy: 0.9984 - precision: 0.9984 - recall: 0.9984 - val_loss: 1.5813 - val_accuracy: 0.8036 - val_precision: 0.8035 - val_recall: 0.8033\n",
      "Epoch 488/500\n",
      "875/875 [==============================] - 8s 9ms/step - loss: 0.0044 - accuracy: 0.9985 - precision: 0.9985 - recall: 0.9985 - val_loss: 1.5857 - val_accuracy: 0.8030 - val_precision: 0.8030 - val_recall: 0.8030\n",
      "Epoch 489/500\n",
      "875/875 [==============================] - 7s 8ms/step - loss: 0.0042 - accuracy: 0.9986 - precision: 0.9986 - recall: 0.9986 - val_loss: 1.5817 - val_accuracy: 0.8002 - val_precision: 0.8007 - val_recall: 0.7996\n",
      "Epoch 490/500\n",
      "875/875 [==============================] - 10s 11ms/step - loss: 0.0047 - accuracy: 0.9979 - precision: 0.9979 - recall: 0.9979 - val_loss: 1.5829 - val_accuracy: 0.8005 - val_precision: 0.8009 - val_recall: 0.8005\n",
      "Epoch 491/500\n",
      "875/875 [==============================] - 7s 8ms/step - loss: 0.0039 - accuracy: 0.9984 - precision: 0.9984 - recall: 0.9984 - val_loss: 1.5774 - val_accuracy: 0.8030 - val_precision: 0.8034 - val_recall: 0.8027\n",
      "Epoch 492/500\n",
      "875/875 [==============================] - 7s 9ms/step - loss: 0.0048 - accuracy: 0.9982 - precision: 0.9982 - recall: 0.9982 - val_loss: 1.5798 - val_accuracy: 0.8019 - val_precision: 0.8025 - val_recall: 0.8016\n",
      "Epoch 493/500\n",
      "875/875 [==============================] - 7s 8ms/step - loss: 0.0042 - accuracy: 0.9984 - precision: 0.9985 - recall: 0.9984 - val_loss: 1.5868 - val_accuracy: 0.8010 - val_precision: 0.8017 - val_recall: 0.8007\n",
      "Epoch 494/500\n",
      "875/875 [==============================] - 8s 9ms/step - loss: 0.0039 - accuracy: 0.9986 - precision: 0.9986 - recall: 0.9986 - val_loss: 1.5857 - val_accuracy: 0.8013 - val_precision: 0.8015 - val_recall: 0.8010\n",
      "Epoch 495/500\n",
      "875/875 [==============================] - 9s 10ms/step - loss: 0.0047 - accuracy: 0.9983 - precision: 0.9983 - recall: 0.9983 - val_loss: 1.5826 - val_accuracy: 0.8016 - val_precision: 0.8015 - val_recall: 0.8013\n",
      "Epoch 496/500\n",
      "875/875 [==============================] - 8s 9ms/step - loss: 0.0044 - accuracy: 0.9986 - precision: 0.9986 - recall: 0.9986 - val_loss: 1.5835 - val_accuracy: 0.8025 - val_precision: 0.8026 - val_recall: 0.8019\n",
      "Epoch 497/500\n",
      "875/875 [==============================] - 7s 8ms/step - loss: 0.0041 - accuracy: 0.9987 - precision: 0.9987 - recall: 0.9987 - val_loss: 1.5881 - val_accuracy: 0.8016 - val_precision: 0.8018 - val_recall: 0.8016\n",
      "Epoch 498/500\n",
      "875/875 [==============================] - 7s 8ms/step - loss: 0.0042 - accuracy: 0.9984 - precision: 0.9984 - recall: 0.9984 - val_loss: 1.5824 - val_accuracy: 0.8030 - val_precision: 0.8037 - val_recall: 0.8030\n",
      "Epoch 499/500\n",
      "875/875 [==============================] - 8s 9ms/step - loss: 0.0042 - accuracy: 0.9984 - precision: 0.9984 - recall: 0.9984 - val_loss: 1.5816 - val_accuracy: 0.8030 - val_precision: 0.8039 - val_recall: 0.8030\n",
      "Epoch 500/500\n",
      "875/875 [==============================] - 8s 10ms/step - loss: 0.0041 - accuracy: 0.9984 - precision: 0.9984 - recall: 0.9984 - val_loss: 1.5840 - val_accuracy: 0.8030 - val_precision: 0.8037 - val_recall: 0.8030\n"
     ]
    }
   ],
   "source": [
    "batch_size = 16\n",
    "history = model.fit(X_train, y_train,\n",
    "                      validation_data=(X_val, y_val),\n",
    "                      batch_size=batch_size, epochs=epochs, verbose=1)"
   ]
  },
  {
   "cell_type": "markdown",
   "id": "2c2f8e71",
   "metadata": {
    "papermill": {
     "duration": 3.744299,
     "end_time": "2022-09-29T13:29:27.862720",
     "exception": false,
     "start_time": "2022-09-29T13:29:24.118421",
     "status": "completed"
    },
    "tags": []
   },
   "source": [
    "# Evaluate model on the test set"
   ]
  },
  {
   "cell_type": "code",
   "execution_count": 22,
   "id": "40066cc4",
   "metadata": {
    "execution": {
     "iopub.execute_input": "2022-09-29T13:29:35.001661Z",
     "iopub.status.busy": "2022-09-29T13:29:35.001299Z",
     "iopub.status.idle": "2022-09-29T13:29:35.558847Z",
     "shell.execute_reply": "2022-09-29T13:29:35.557647Z"
    },
    "papermill": {
     "duration": 4.137499,
     "end_time": "2022-09-29T13:29:35.561850",
     "exception": false,
     "start_time": "2022-09-29T13:29:31.424351",
     "status": "completed"
    },
    "tags": []
   },
   "outputs": [
    {
     "name": "stdout",
     "output_type": "stream",
     "text": [
      "\n",
      "Accuracy  : 0.7960\n",
      "Precision : 0.7966\n",
      "Recall    : 0.7960\n",
      "F1 Score  : 0.7963\n"
     ]
    }
   ],
   "source": [
    "\n",
    "loss, accuracy, precision, recall = model.evaluate(X_test, y_test, verbose=0)\n",
    "# Print metrics\n",
    "print('')\n",
    "print('Accuracy  : {:.4f}'.format(accuracy))\n",
    "print('Precision : {:.4f}'.format(precision))\n",
    "print('Recall    : {:.4f}'.format(recall))\n",
    "print('F1 Score  : {:.4f}'.format(f1_score(precision, recall)))"
   ]
  },
  {
   "cell_type": "markdown",
   "id": "41c1d3f5",
   "metadata": {
    "papermill": {
     "duration": 3.496804,
     "end_time": "2022-09-29T13:29:42.699942",
     "exception": false,
     "start_time": "2022-09-29T13:29:39.203138",
     "status": "completed"
    },
    "tags": []
   },
   "source": [
    "# Save the model architecture & the weights"
   ]
  },
  {
   "cell_type": "code",
   "execution_count": 23,
   "id": "0d870cbd",
   "metadata": {
    "execution": {
     "iopub.execute_input": "2022-09-29T13:29:50.434892Z",
     "iopub.status.busy": "2022-09-29T13:29:50.434519Z",
     "iopub.status.idle": "2022-09-29T13:29:50.477961Z",
     "shell.execute_reply": "2022-09-29T13:29:50.477014Z"
    },
    "papermill": {
     "duration": 4.366134,
     "end_time": "2022-09-29T13:29:50.480066",
     "exception": false,
     "start_time": "2022-09-29T13:29:46.113932",
     "status": "completed"
    },
    "tags": []
   },
   "outputs": [
    {
     "name": "stdout",
     "output_type": "stream",
     "text": [
      "Model saved\n"
     ]
    }
   ],
   "source": [
    "model.save('model.h5')\n",
    "print('Model saved')"
   ]
  },
  {
   "cell_type": "markdown",
   "id": "cabaca26",
   "metadata": {
    "execution": {
     "iopub.execute_input": "2022-09-29T12:19:03.401918Z",
     "iopub.status.busy": "2022-09-29T12:19:03.401281Z",
     "iopub.status.idle": "2022-09-29T12:19:03.407190Z",
     "shell.execute_reply": "2022-09-29T12:19:03.405546Z",
     "shell.execute_reply.started": "2022-09-29T12:19:03.401883Z"
    },
    "papermill": {
     "duration": 3.490039,
     "end_time": "2022-09-29T13:29:57.565908",
     "exception": false,
     "start_time": "2022-09-29T13:29:54.075869",
     "status": "completed"
    },
    "tags": []
   },
   "source": [
    "# Loaing the model"
   ]
  },
  {
   "cell_type": "code",
   "execution_count": 2,
   "id": "81fec0b1",
   "metadata": {
    "execution": {
     "iopub.execute_input": "2022-09-29T13:30:04.808528Z",
     "iopub.status.busy": "2022-09-29T13:30:04.808171Z",
     "iopub.status.idle": "2022-09-29T13:30:05.266801Z",
     "shell.execute_reply": "2022-09-29T13:30:05.265905Z"
    },
    "papermill": {
     "duration": 3.846595,
     "end_time": "2022-09-29T13:30:05.268964",
     "exception": false,
     "start_time": "2022-09-29T13:30:01.422369",
     "status": "completed"
    },
    "tags": []
   },
   "outputs": [],
   "source": [
    "from keras.models import load_model\n",
    "\n",
    "# Load model\n",
    "model = load_model('model.h5')\n",
    "\n",
    "def predict_class(text):\n",
    "    '''Function to predict sentiment class of the passed text'''\n",
    "    \n",
    "    sentiment_classes = [-1, 0, 1]\n",
    "    max_len=64\n",
    "    \n",
    "    # Transforms text to a sequence of integers using a tokenizer object\n",
    "    xt = tokenizer.texts_to_sequences(text)\n",
    "    # Pad sequences to the same length\n",
    "    xt = pad_sequences(xt, padding='post', maxlen=max_len)\n",
    "    # Do the prediction using the loaded model\n",
    "    yt = model.predict(xt).argmax(axis=1)\n",
    "    # Print the predicted sentiment\n",
    "    print('The predicted sentiment is', sentiment_classes[yt[0]])"
   ]
  },
  {
   "cell_type": "code",
   "execution_count": 4,
   "id": "277451a6",
   "metadata": {
    "execution": {
     "iopub.execute_input": "2022-09-29T13:30:12.418617Z",
     "iopub.status.busy": "2022-09-29T13:30:12.418266Z",
     "iopub.status.idle": "2022-09-29T13:30:13.005352Z",
     "shell.execute_reply": "2022-09-29T13:30:13.003539Z"
    },
    "papermill": {
     "duration": 4.21332,
     "end_time": "2022-09-29T13:30:13.007536",
     "exception": false,
     "start_time": "2022-09-29T13:30:08.794216",
     "status": "completed"
    },
    "tags": []
   },
   "outputs": [],
   "source": [
    "#predict_class(['government stop crypto trading, future of crypto is in trouble'])"
   ]
  }
 ],
 "metadata": {
  "kernelspec": {
   "display_name": "Python 3 (ipykernel)",
   "language": "python",
   "name": "python3"
  },
  "language_info": {
   "codemirror_mode": {
    "name": "ipython",
    "version": 3
   },
   "file_extension": ".py",
   "mimetype": "text/x-python",
   "name": "python",
   "nbconvert_exporter": "python",
   "pygments_lexer": "ipython3",
   "version": "3.9.7"
  },
  "papermill": {
   "default_parameters": {},
   "duration": 3943.281769,
   "end_time": "2022-09-29T13:30:27.567586",
   "environment_variables": {},
   "exception": null,
   "input_path": "__notebook__.ipynb",
   "output_path": "__notebook__.ipynb",
   "parameters": {},
   "start_time": "2022-09-29T12:24:44.285817",
   "version": "2.3.4"
  }
 },
 "nbformat": 4,
 "nbformat_minor": 5
}
