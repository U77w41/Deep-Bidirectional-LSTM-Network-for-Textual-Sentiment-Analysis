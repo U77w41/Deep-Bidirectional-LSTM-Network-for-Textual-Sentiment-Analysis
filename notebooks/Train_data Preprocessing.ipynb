{
 "cells": [
  {
   "cell_type": "markdown",
   "id": "7c76b76e",
   "metadata": {},
   "source": [
    "## Data Sources:"
   ]
  },
  {
   "cell_type": "markdown",
   "id": "79622827",
   "metadata": {},
   "source": [
    "##### 1. SEntFiN 1.0: Entity-aware sentiment analysis for financial news\n",
    "Ankur Sinha,Satishwar Kedas,Rishu Kumar,Pekka Malo\n",
    "\n",
    "First published: 08 March 2022 https://doi.org/10.1002/asi.24634\n",
    "\n",
    "Funding information: India Gold Policy Centre, Grant/Award Number: 9209100:1815012\n",
    "\n",
    "##### 2. Stock Market TWEETS Data -Sentiment Analysis\n",
    "***Acknowledgements:***\n",
    "Citation Author(s): BrunoTaborda Instituto Universitário de Lisboa (ISCTE-IUL), Lisbon, Portugal & Instituto Universitário de Lisboa (ISCTE-IUL), ISTAR, Lisbon, Portugal & CISUC - Center for Informatics and Systems of the University of Coimbra, Coimbra, PortugalAnade AlmeidaInstituto Universitário de Lisboa (ISCTE-IUL), Lisbon, Portugal & Instituto Universitário de Lisboa (ISCTE-IUL), ISTAR, Lisbon, Portugal & CISUC - Center for Informatics and Systems of the University of Coimbra, Coimbra, PortugalJoséCarlos DiasInstituto Universitário de Lisboa (ISCTE-IUL), Lisbon, Portugal & Business Research Unit (BRU-IUL), Lisbon, Portugal Fernando BatistaInstituto Universitário de Lisboa (ISCTE-IUL), Lisbon, Portugal & INESC-ID, Lisbon, PortugalRicardoRibeiroInstituto Universitário de Lisboa (ISCTE-IUL), Lisbon, Portugal & INESC-ID, Lisbon, Portugal.\n",
    "\n",
    "##### 3. FinancialPhraseBank-v1.0\n",
    "***Acknowledgements:***\n",
    "Malo, P., Sinha, A., Takala, P., Korhonen, P. and Wallenius, J. (2013): “Good debt or bad debt: Detecting semantic orientations in economic texts.” Journal of the American Society for Information Science and Technology(Year 2014; Volume 65). (https://www.researchgate.net/publication/251231364_FinancialPhraseBank-v10)"
   ]
  },
  {
   "cell_type": "markdown",
   "id": "33ce014a",
   "metadata": {},
   "source": [
    "## Importing necessary libraries"
   ]
  },
  {
   "cell_type": "code",
   "execution_count": 1,
   "id": "0f86ff4b",
   "metadata": {},
   "outputs": [],
   "source": [
    "import re\n",
    "import pandas as pd\n",
    "import numpy as np\n",
    "import json"
   ]
  },
  {
   "cell_type": "markdown",
   "id": "934f5118",
   "metadata": {},
   "source": [
    "## Reading the datasets"
   ]
  },
  {
   "cell_type": "markdown",
   "id": "25e73041",
   "metadata": {},
   "source": [
    "### SEntFiN 1.0"
   ]
  },
  {
   "cell_type": "code",
   "execution_count": 157,
   "id": "51dad696",
   "metadata": {},
   "outputs": [],
   "source": [
    "snt_fn = pd.read_csv('C:/Users/Ujjwa/OneDrive/Desktop/Train Data/Aspect based Sentiment Analysis for Financial News/SEntFiN-v1.1.csv')"
   ]
  },
  {
   "cell_type": "markdown",
   "id": "864fe095",
   "metadata": {},
   "source": [
    "### Stock Market TWEETS Data -Sentiment Analysis"
   ]
  },
  {
   "cell_type": "code",
   "execution_count": 255,
   "id": "d2a39962",
   "metadata": {},
   "outputs": [],
   "source": [
    "sm_twt = pd.read_csv('C:/Users/Ujjwa/OneDrive/Desktop/Train Data/Stock Market TWEETS Data-NLP-2021/tweets/tweets_labelled_09042020_16072020.csv',\n",
    "                    sep=';')"
   ]
  },
  {
   "cell_type": "markdown",
   "id": "34857c81",
   "metadata": {},
   "source": [
    "### FinancialPhraseBank-v1.0"
   ]
  },
  {
   "cell_type": "code",
   "execution_count": 284,
   "id": "0e781bfe",
   "metadata": {},
   "outputs": [],
   "source": [
    "colnames=['text','sentiment'] \n",
    "text1 = pd.read_csv(r'C:\\Users\\Ujjwa\\OneDrive\\Desktop\\Train Data\\FinancialPhraseBank-v1.0\\FinancialPhraseBank-v1.0\\Sentences_AllAgree.txt',\n",
    "                    sep='\\n', \n",
    "                    encoding= 'ISO-8859-1',\n",
    "                    names= colnames,\n",
    "                    header=None)\n",
    "text2 = pd.read_csv(r'C:\\Users\\Ujjwa\\OneDrive\\Desktop\\Train Data\\FinancialPhraseBank-v1.0\\FinancialPhraseBank-v1.0\\Sentences_75Agree.txt',sep='\\n', encoding= 'ISO-8859-1',names= colnames,header=None)\n",
    "text3 = pd.read_csv(r'C:\\Users\\Ujjwa\\OneDrive\\Desktop\\Train Data\\FinancialPhraseBank-v1.0\\FinancialPhraseBank-v1.0\\Sentences_66Agree.txt',sep='\\n', encoding= 'ISO-8859-1',names= colnames,header=None)"
   ]
  },
  {
   "cell_type": "markdown",
   "id": "8ba0b348",
   "metadata": {},
   "source": [
    "## Preprocessing"
   ]
  },
  {
   "cell_type": "markdown",
   "id": "952066cc",
   "metadata": {},
   "source": [
    "#### SEntFiN 1.0"
   ]
  },
  {
   "cell_type": "code",
   "execution_count": 160,
   "id": "d6226502",
   "metadata": {
    "scrolled": true
   },
   "outputs": [
    {
     "name": "stderr",
     "output_type": "stream",
     "text": [
      "C:\\Users\\Ujjwa\\AppData\\Local\\Temp/ipykernel_2768/824568964.py:1: FutureWarning: The default value of regex will change from True to False in a future version.\n",
      "  snt_fn[\"Decisions\"] = snt_fn[\"Decisions\"].str.replace(\"[^A-Za-z]\",\" \")\n"
     ]
    }
   ],
   "source": [
    "snt_fn[\"Decisions\"] = snt_fn[\"Decisions\"].str.replace(\"[^A-Za-z]\",\" \")"
   ]
  },
  {
   "cell_type": "code",
   "execution_count": 161,
   "id": "60cc4f9d",
   "metadata": {
    "scrolled": true
   },
   "outputs": [
    {
     "data": {
      "text/plain": [
       "44"
      ]
     },
     "execution_count": 161,
     "metadata": {},
     "output_type": "execute_result"
    }
   ],
   "source": [
    "sntmt= [\"negative\",\"positive\",\"neutral\"]\n",
    "snt_fn['sentiment'] = [' '.join(ch for ch in i.split() if ch in sntmt) for i in snt_fn['Decisions']]\n",
    "#snt_fn.sentiment.nunique()"
   ]
  },
  {
   "cell_type": "code",
   "execution_count": 162,
   "id": "32ce2ca8",
   "metadata": {
    "scrolled": true
   },
   "outputs": [
    {
     "name": "stderr",
     "output_type": "stream",
     "text": [
      "C:\\Users\\Ujjwa\\AppData\\Local\\Temp/ipykernel_2768/3018929471.py:1: FutureWarning: Using the level keyword in DataFrame and Series aggregations is deprecated and will be removed in a future version. Use groupby instead. df.sum(level=1) should use df.groupby(level=1).sum().\n",
      "  gd_f = pd.get_dummies(pd.DataFrame(snt_fn['sentiment'].str.split().tolist()).stack()).sum(level=0) ## Correct one\n"
     ]
    }
   ],
   "source": [
    "gd_f = pd.get_dummies(pd.DataFrame(snt_fn['sentiment'].str.split().tolist()).stack()).sum(level=0) ## Correct one"
   ]
  },
  {
   "cell_type": "code",
   "execution_count": 164,
   "id": "a5346628",
   "metadata": {
    "scrolled": true
   },
   "outputs": [
    {
     "data": {
      "text/html": [
       "<div>\n",
       "<style scoped>\n",
       "    .dataframe tbody tr th:only-of-type {\n",
       "        vertical-align: middle;\n",
       "    }\n",
       "\n",
       "    .dataframe tbody tr th {\n",
       "        vertical-align: top;\n",
       "    }\n",
       "\n",
       "    .dataframe thead th {\n",
       "        text-align: right;\n",
       "    }\n",
       "</style>\n",
       "<table border=\"1\" class=\"dataframe\">\n",
       "  <thead>\n",
       "    <tr style=\"text-align: right;\">\n",
       "      <th></th>\n",
       "      <th>S No.</th>\n",
       "      <th>Title</th>\n",
       "      <th>Decisions</th>\n",
       "      <th>Words</th>\n",
       "      <th>sentiment</th>\n",
       "      <th>negative</th>\n",
       "      <th>neutral</th>\n",
       "      <th>positive</th>\n",
       "    </tr>\n",
       "  </thead>\n",
       "  <tbody>\n",
       "    <tr>\n",
       "      <th>0</th>\n",
       "      <td>1</td>\n",
       "      <td>SpiceJet to issue 6.4 crore warrants to promoters</td>\n",
       "      <td>SpiceJet    neutral</td>\n",
       "      <td>8</td>\n",
       "      <td>neutral</td>\n",
       "      <td>0</td>\n",
       "      <td>1</td>\n",
       "      <td>0</td>\n",
       "    </tr>\n",
       "    <tr>\n",
       "      <th>1</th>\n",
       "      <td>2</td>\n",
       "      <td>MMTC Q2 net loss at Rs 10.4 crore</td>\n",
       "      <td>MMTC    neutral</td>\n",
       "      <td>8</td>\n",
       "      <td>neutral</td>\n",
       "      <td>0</td>\n",
       "      <td>1</td>\n",
       "      <td>0</td>\n",
       "    </tr>\n",
       "    <tr>\n",
       "      <th>2</th>\n",
       "      <td>3</td>\n",
       "      <td>Mid-cap funds can deliver more, stay put: Experts</td>\n",
       "      <td>Mid cap funds    positive</td>\n",
       "      <td>8</td>\n",
       "      <td>positive</td>\n",
       "      <td>0</td>\n",
       "      <td>0</td>\n",
       "      <td>1</td>\n",
       "    </tr>\n",
       "    <tr>\n",
       "      <th>3</th>\n",
       "      <td>4</td>\n",
       "      <td>Mid caps now turn into market darlings</td>\n",
       "      <td>Mid caps    positive</td>\n",
       "      <td>7</td>\n",
       "      <td>positive</td>\n",
       "      <td>0</td>\n",
       "      <td>0</td>\n",
       "      <td>1</td>\n",
       "    </tr>\n",
       "    <tr>\n",
       "      <th>4</th>\n",
       "      <td>5</td>\n",
       "      <td>Market seeing patience, if not conviction: Pra...</td>\n",
       "      <td>Market    neutral</td>\n",
       "      <td>8</td>\n",
       "      <td>neutral</td>\n",
       "      <td>0</td>\n",
       "      <td>1</td>\n",
       "      <td>0</td>\n",
       "    </tr>\n",
       "    <tr>\n",
       "      <th>...</th>\n",
       "      <td>...</td>\n",
       "      <td>...</td>\n",
       "      <td>...</td>\n",
       "      <td>...</td>\n",
       "      <td>...</td>\n",
       "      <td>...</td>\n",
       "      <td>...</td>\n",
       "      <td>...</td>\n",
       "    </tr>\n",
       "    <tr>\n",
       "      <th>10748</th>\n",
       "      <td>10749</td>\n",
       "      <td>Negative on Chambal, Advanta: Mitesh Thacker</td>\n",
       "      <td>Chambal    negative    Advanta    negative</td>\n",
       "      <td>6</td>\n",
       "      <td>negative negative</td>\n",
       "      <td>2</td>\n",
       "      <td>0</td>\n",
       "      <td>0</td>\n",
       "    </tr>\n",
       "    <tr>\n",
       "      <th>10749</th>\n",
       "      <td>10750</td>\n",
       "      <td>Small, Mid-cap stocks may emerge outperformers</td>\n",
       "      <td>Small    positive    Mid cap stocks    posit...</td>\n",
       "      <td>6</td>\n",
       "      <td>positive positive</td>\n",
       "      <td>0</td>\n",
       "      <td>0</td>\n",
       "      <td>2</td>\n",
       "    </tr>\n",
       "    <tr>\n",
       "      <th>10750</th>\n",
       "      <td>10751</td>\n",
       "      <td>Rupee slips against US dollar</td>\n",
       "      <td>Rupee    negative    US dollar    neutral</td>\n",
       "      <td>5</td>\n",
       "      <td>negative neutral</td>\n",
       "      <td>1</td>\n",
       "      <td>1</td>\n",
       "      <td>0</td>\n",
       "    </tr>\n",
       "    <tr>\n",
       "      <th>10751</th>\n",
       "      <td>10752</td>\n",
       "      <td>Rupee weak against US dollar</td>\n",
       "      <td>Rupee    negative    US dollar    neutral</td>\n",
       "      <td>5</td>\n",
       "      <td>negative neutral</td>\n",
       "      <td>1</td>\n",
       "      <td>1</td>\n",
       "      <td>0</td>\n",
       "    </tr>\n",
       "    <tr>\n",
       "      <th>10752</th>\n",
       "      <td>10753</td>\n",
       "      <td>Australia shares flat; energy drags</td>\n",
       "      <td>Australia shares    neutral    energy    neu...</td>\n",
       "      <td>5</td>\n",
       "      <td>neutral neutral</td>\n",
       "      <td>0</td>\n",
       "      <td>2</td>\n",
       "      <td>0</td>\n",
       "    </tr>\n",
       "  </tbody>\n",
       "</table>\n",
       "<p>10753 rows × 8 columns</p>\n",
       "</div>"
      ],
      "text/plain": [
       "       S No.                                              Title  \\\n",
       "0          1  SpiceJet to issue 6.4 crore warrants to promoters   \n",
       "1          2                  MMTC Q2 net loss at Rs 10.4 crore   \n",
       "2          3  Mid-cap funds can deliver more, stay put: Experts   \n",
       "3          4             Mid caps now turn into market darlings   \n",
       "4          5  Market seeing patience, if not conviction: Pra...   \n",
       "...      ...                                                ...   \n",
       "10748  10749       Negative on Chambal, Advanta: Mitesh Thacker   \n",
       "10749  10750     Small, Mid-cap stocks may emerge outperformers   \n",
       "10750  10751                      Rupee slips against US dollar   \n",
       "10751  10752                       Rupee weak against US dollar   \n",
       "10752  10753                Australia shares flat; energy drags   \n",
       "\n",
       "                                               Decisions  Words  \\\n",
       "0                                  SpiceJet    neutral        8   \n",
       "1                                      MMTC    neutral        8   \n",
       "2                            Mid cap funds    positive        8   \n",
       "3                                 Mid caps    positive        7   \n",
       "4                                    Market    neutral        8   \n",
       "...                                                  ...    ...   \n",
       "10748       Chambal    negative    Advanta    negative        6   \n",
       "10749    Small    positive    Mid cap stocks    posit...      6   \n",
       "10750        Rupee    negative    US dollar    neutral        5   \n",
       "10751        Rupee    negative    US dollar    neutral        5   \n",
       "10752    Australia shares    neutral    energy    neu...      5   \n",
       "\n",
       "               sentiment  negative  neutral  positive  \n",
       "0                neutral         0        1         0  \n",
       "1                neutral         0        1         0  \n",
       "2               positive         0        0         1  \n",
       "3               positive         0        0         1  \n",
       "4                neutral         0        1         0  \n",
       "...                  ...       ...      ...       ...  \n",
       "10748  negative negative         2        0         0  \n",
       "10749  positive positive         0        0         2  \n",
       "10750   negative neutral         1        1         0  \n",
       "10751   negative neutral         1        1         0  \n",
       "10752    neutral neutral         0        2         0  \n",
       "\n",
       "[10753 rows x 8 columns]"
      ]
     },
     "execution_count": 164,
     "metadata": {},
     "output_type": "execute_result"
    }
   ],
   "source": [
    "snt_fn = pd.concat([snt_fn, gd_f] , axis = 1)"
   ]
  },
  {
   "cell_type": "code",
   "execution_count": 168,
   "id": "93de316f",
   "metadata": {},
   "outputs": [],
   "source": [
    "snt_fn['sentiment_value'] = pd.to_numeric(snt_fn['positive']) - pd.to_numeric(snt_fn['negative'])"
   ]
  },
  {
   "cell_type": "code",
   "execution_count": 203,
   "id": "d1a76a15",
   "metadata": {},
   "outputs": [],
   "source": [
    "snt_fn['score'] = np.where(snt_fn['sentiment_value'] >= 30 , -1 , snt_fn['sentiment_value'])"
   ]
  },
  {
   "cell_type": "code",
   "execution_count": 207,
   "id": "750d58dc",
   "metadata": {},
   "outputs": [],
   "source": [
    "snt_fn['score'] = np.where(snt_fn['score'] >= 1 , 1 , snt_fn['score'])"
   ]
  },
  {
   "cell_type": "code",
   "execution_count": 218,
   "id": "b47346bb",
   "metadata": {},
   "outputs": [],
   "source": [
    "snt_fn.drop(snt_fn.index[(snt_fn['negative'] == 1) & (snt_fn['positive'] == 1) ], inplace = True)\n",
    "snt_fn.drop(snt_fn.index[(snt_fn['negative'] == 2) & (snt_fn['positive'] == 2) ], inplace = True)"
   ]
  },
  {
   "cell_type": "code",
   "execution_count": 232,
   "id": "b7b76c03",
   "metadata": {},
   "outputs": [],
   "source": [
    "snt_fn.reset_index(inplace=True)"
   ]
  },
  {
   "cell_type": "code",
   "execution_count": 220,
   "id": "bd2eaa44",
   "metadata": {},
   "outputs": [
    {
     "data": {
      "text/plain": [
       " 1    4029\n",
       " 0    3443\n",
       "-1    3156\n",
       "Name: score, dtype: int64"
      ]
     },
     "execution_count": 220,
     "metadata": {},
     "output_type": "execute_result"
    }
   ],
   "source": [
    "snt_fn.score.value_counts()"
   ]
  },
  {
   "cell_type": "code",
   "execution_count": 233,
   "id": "60f3cd05",
   "metadata": {},
   "outputs": [],
   "source": [
    "df1 = snt_fn[['Title','score']]"
   ]
  },
  {
   "cell_type": "code",
   "execution_count": 234,
   "id": "e374c840",
   "metadata": {
    "scrolled": true
   },
   "outputs": [
    {
     "name": "stderr",
     "output_type": "stream",
     "text": [
      "C:\\Users\\Ujjwa\\anaconda3\\lib\\site-packages\\pandas\\core\\frame.py:5039: SettingWithCopyWarning: \n",
      "A value is trying to be set on a copy of a slice from a DataFrame\n",
      "\n",
      "See the caveats in the documentation: https://pandas.pydata.org/pandas-docs/stable/user_guide/indexing.html#returning-a-view-versus-a-copy\n",
      "  return super().rename(\n"
     ]
    }
   ],
   "source": [
    "df1.rename(columns={'Title' : 'text'}, inplace = True)"
   ]
  },
  {
   "cell_type": "markdown",
   "id": "f7371d80",
   "metadata": {},
   "source": [
    "### Stock Market TWEETS Data -Sentiment Analysis"
   ]
  },
  {
   "cell_type": "code",
   "execution_count": 256,
   "id": "0fb490af",
   "metadata": {},
   "outputs": [],
   "source": [
    "sm_twt.dropna(inplace=True)"
   ]
  },
  {
   "cell_type": "code",
   "execution_count": 242,
   "id": "978a8750",
   "metadata": {},
   "outputs": [
    {
     "data": {
      "text/plain": [
       "positive    528\n",
       "neutral     424\n",
       "negative    348\n",
       "Name: sentiment, dtype: int64"
      ]
     },
     "execution_count": 242,
     "metadata": {},
     "output_type": "execute_result"
    }
   ],
   "source": [
    "sm_twt.sentiment.value_counts()"
   ]
  },
  {
   "cell_type": "code",
   "execution_count": 257,
   "id": "69fc8dd4",
   "metadata": {},
   "outputs": [],
   "source": [
    "sm_twt['score'] = sm_twt['sentiment'].map({'negative':-1.0, \n",
    "                                       'neutral':0.0, \n",
    "                                       'positive': 1.0})"
   ]
  },
  {
   "cell_type": "code",
   "execution_count": 259,
   "id": "0176d8ae",
   "metadata": {},
   "outputs": [],
   "source": [
    "df2 = sm_twt[['text','score']]"
   ]
  },
  {
   "cell_type": "markdown",
   "id": "d46848be",
   "metadata": {},
   "source": [
    "### FinancialPhraseBank-v1.0"
   ]
  },
  {
   "cell_type": "code",
   "execution_count": 285,
   "id": "17537044",
   "metadata": {},
   "outputs": [],
   "source": [
    "def sentiment_col(df):\n",
    "    sentiment = []\n",
    "    for i in range(0,len(df)):\n",
    "        sentiment.append(re.findall(\"@([a-zA-Z0-9]{1,15})\", df.iloc[i][0])[0])\n",
    "    df[\"sentiment\"] = sentiment\n",
    "    return df"
   ]
  },
  {
   "cell_type": "code",
   "execution_count": 286,
   "id": "0677c60e",
   "metadata": {},
   "outputs": [],
   "source": [
    "tdf1 = sentiment_col(text1)\n",
    "tdf2 = sentiment_col(text2)\n",
    "tdf3 = sentiment_col(text3)\n",
    "tdf = pd.concat([tdf1,tdf2,tdf3],axis = 0)"
   ]
  },
  {
   "cell_type": "code",
   "execution_count": 294,
   "id": "e5b710f3",
   "metadata": {},
   "outputs": [],
   "source": [
    "tdf.reset_index(inplace=True)"
   ]
  },
  {
   "cell_type": "code",
   "execution_count": 296,
   "id": "c2cd40df",
   "metadata": {},
   "outputs": [],
   "source": [
    "def mention_remove(text):\n",
    "    text= re.sub('@[A-Za-z0-9]+',' ',text ) #removing mentions\n",
    "    return text"
   ]
  },
  {
   "cell_type": "code",
   "execution_count": 297,
   "id": "857b6c32",
   "metadata": {},
   "outputs": [],
   "source": [
    "tdf['text'] = tdf['text'].apply(mention_remove)"
   ]
  },
  {
   "cell_type": "code",
   "execution_count": 301,
   "id": "2f1e2fec",
   "metadata": {},
   "outputs": [],
   "source": [
    "tdf['score'] = tdf['sentiment'].map({'negative':-1.0, \n",
    "                                       'neutral':0.0, \n",
    "                                       'positive': 1.0})"
   ]
  },
  {
   "cell_type": "code",
   "execution_count": 303,
   "id": "781d8231",
   "metadata": {},
   "outputs": [],
   "source": [
    "df3 = tdf[['text','score']]"
   ]
  },
  {
   "cell_type": "code",
   "execution_count": 319,
   "id": "515738d1",
   "metadata": {},
   "outputs": [],
   "source": [
    "df = pd.concat([df1,df2,df3],axis = 0,ignore_index = True)"
   ]
  },
  {
   "cell_type": "markdown",
   "id": "2ae23128",
   "metadata": {},
   "source": [
    "### Final Dataframe"
   ]
  },
  {
   "cell_type": "code",
   "execution_count": 320,
   "id": "59b7a630",
   "metadata": {},
   "outputs": [
    {
     "data": {
      "text/html": [
       "<div>\n",
       "<style scoped>\n",
       "    .dataframe tbody tr th:only-of-type {\n",
       "        vertical-align: middle;\n",
       "    }\n",
       "\n",
       "    .dataframe tbody tr th {\n",
       "        vertical-align: top;\n",
       "    }\n",
       "\n",
       "    .dataframe thead th {\n",
       "        text-align: right;\n",
       "    }\n",
       "</style>\n",
       "<table border=\"1\" class=\"dataframe\">\n",
       "  <thead>\n",
       "    <tr style=\"text-align: right;\">\n",
       "      <th></th>\n",
       "      <th>text</th>\n",
       "      <th>score</th>\n",
       "    </tr>\n",
       "  </thead>\n",
       "  <tbody>\n",
       "    <tr>\n",
       "      <th>0</th>\n",
       "      <td>SpiceJet to issue 6.4 crore warrants to promoters</td>\n",
       "      <td>0.0</td>\n",
       "    </tr>\n",
       "    <tr>\n",
       "      <th>1</th>\n",
       "      <td>MMTC Q2 net loss at Rs 10.4 crore</td>\n",
       "      <td>0.0</td>\n",
       "    </tr>\n",
       "    <tr>\n",
       "      <th>2</th>\n",
       "      <td>Mid-cap funds can deliver more, stay put: Experts</td>\n",
       "      <td>1.0</td>\n",
       "    </tr>\n",
       "    <tr>\n",
       "      <th>3</th>\n",
       "      <td>Mid caps now turn into market darlings</td>\n",
       "      <td>1.0</td>\n",
       "    </tr>\n",
       "    <tr>\n",
       "      <th>4</th>\n",
       "      <td>Market seeing patience, if not conviction: Pra...</td>\n",
       "      <td>0.0</td>\n",
       "    </tr>\n",
       "    <tr>\n",
       "      <th>...</th>\n",
       "      <td>...</td>\n",
       "      <td>...</td>\n",
       "    </tr>\n",
       "    <tr>\n",
       "      <th>21857</th>\n",
       "      <td>HELSINKI Thomson Financial - Shares in Cargote...</td>\n",
       "      <td>-1.0</td>\n",
       "    </tr>\n",
       "    <tr>\n",
       "      <th>21858</th>\n",
       "      <td>LONDON MarketWatch -- Share prices ended lower...</td>\n",
       "      <td>-1.0</td>\n",
       "    </tr>\n",
       "    <tr>\n",
       "      <th>21859</th>\n",
       "      <td>Rinkuskiai 's beer sales fell by 6.5 per cent ...</td>\n",
       "      <td>0.0</td>\n",
       "    </tr>\n",
       "    <tr>\n",
       "      <th>21860</th>\n",
       "      <td>Operating profit fell to EUR 35.4 mn from EUR ...</td>\n",
       "      <td>-1.0</td>\n",
       "    </tr>\n",
       "    <tr>\n",
       "      <th>21861</th>\n",
       "      <td>Sales in Finland decreased by 10.5 % in Januar...</td>\n",
       "      <td>-1.0</td>\n",
       "    </tr>\n",
       "  </tbody>\n",
       "</table>\n",
       "<p>21862 rows × 2 columns</p>\n",
       "</div>"
      ],
      "text/plain": [
       "                                                    text  score\n",
       "0      SpiceJet to issue 6.4 crore warrants to promoters    0.0\n",
       "1                      MMTC Q2 net loss at Rs 10.4 crore    0.0\n",
       "2      Mid-cap funds can deliver more, stay put: Experts    1.0\n",
       "3                 Mid caps now turn into market darlings    1.0\n",
       "4      Market seeing patience, if not conviction: Pra...    0.0\n",
       "...                                                  ...    ...\n",
       "21857  HELSINKI Thomson Financial - Shares in Cargote...   -1.0\n",
       "21858  LONDON MarketWatch -- Share prices ended lower...   -1.0\n",
       "21859  Rinkuskiai 's beer sales fell by 6.5 per cent ...    0.0\n",
       "21860  Operating profit fell to EUR 35.4 mn from EUR ...   -1.0\n",
       "21861  Sales in Finland decreased by 10.5 % in Januar...   -1.0\n",
       "\n",
       "[21862 rows x 2 columns]"
      ]
     },
     "execution_count": 320,
     "metadata": {},
     "output_type": "execute_result"
    }
   ],
   "source": [
    "df"
   ]
  },
  {
   "cell_type": "code",
   "execution_count": 321,
   "id": "f13312f2",
   "metadata": {},
   "outputs": [],
   "source": [
    "df.to_csv('final_df.csv')"
   ]
  },
  {
   "cell_type": "markdown",
   "id": "f0eae16d",
   "metadata": {},
   "source": [
    "## Data Cleaning"
   ]
  },
  {
   "cell_type": "code",
   "execution_count": 325,
   "id": "7c1fb69d",
   "metadata": {},
   "outputs": [],
   "source": [
    "def remove_emoji(string):\n",
    "    emoji_pattern = re.compile(\"[\"\n",
    "                               u\"\\U0001F600-\\U0001F64F\"  # emoticons\n",
    "                               u\"\\U0001F300-\\U0001F5FF\"  # symbols & pictographs\n",
    "                               u\"\\U0001F680-\\U0001F6FF\"  # transport & map symbols\n",
    "                               u\"\\U0001F1E0-\\U0001F1FF\"  # flags (iOS)\n",
    "                               u\"\\U00002500-\\U00002BEF\"  # chinese char\n",
    "                               u\"\\U00002702-\\U000027B0\"\n",
    "                               u\"\\U00002702-\\U000027B0\"\n",
    "                               u\"\\U000024C2-\\U0001F251\"\n",
    "                               u\"\\U0001f926-\\U0001f937\"\n",
    "                               u\"\\U00010000-\\U0010ffff\"\n",
    "                               u\"\\u2640-\\u2642\"\n",
    "                               u\"\\u2600-\\u2B55\"\n",
    "                               u\"\\u200d\"\n",
    "                               u\"\\u23cf\"\n",
    "                               u\"\\u23e9\"\n",
    "                               u\"\\u231a\"\n",
    "                               u\"\\ufe0f\"  # dingbats\n",
    "                               u\"\\u3030\"\n",
    "                               \"]+\", flags=re.UNICODE)\n",
    "    return emoji_pattern.sub(r'', str(string))\n",
    "\n",
    "\n",
    "def Clean_text(text):\n",
    "    text= re.sub('@[A-Za-z0-9]+','',text ) #removing mentions\n",
    "    text = re.sub(r\"[^a-zA-Z0-9]\", \" \", text) # Removing non letters\n",
    "    text= re.sub(\"#\",'',text) #removing #\n",
    "    text= re.sub('RT[\\s]+',' ',text) # removing Retexts\n",
    "    text= re.sub('https?:\\/\\/\\S+','',text) #removing links\n",
    "    text= re.sub(\"[+%|):'@(€¥£—•;=*]\",\" \",text)\n",
    "    text= re.sub(r'[^\\x00-\\x7F]+',' ', text)\n",
    "    text= re.sub('^\\d+\\s|\\s\\d+\\s|\\s\\d+$',' ', text)\n",
    "    text= text.lower()\n",
    "    return text\n"
   ]
  },
  {
   "cell_type": "code",
   "execution_count": 326,
   "id": "bb686763",
   "metadata": {},
   "outputs": [],
   "source": [
    "df['text'] = df[\"text\"].apply(remove_emoji)\n",
    "df['text'] = df[\"text\"].apply(Clean_text)"
   ]
  },
  {
   "cell_type": "code",
   "execution_count": 333,
   "id": "a22d97f5",
   "metadata": {},
   "outputs": [],
   "source": [
    "df.to_csv('cleaned_df.csv')"
   ]
  },
  {
   "cell_type": "code",
   "execution_count": 329,
   "id": "97d10767",
   "metadata": {},
   "outputs": [],
   "source": [
    "#For data visualization\n",
    "import matplotlib.pyplot as plt\n",
    "import matplotlib.patches as mpatches\n",
    "from matplotlib import ticker\n",
    "%matplotlib inline\n",
    "import seaborn as sns"
   ]
  },
  {
   "cell_type": "code",
   "execution_count": 332,
   "id": "5d6ff435",
   "metadata": {},
   "outputs": [
    {
     "data": {
      "text/plain": [
       "<AxesSubplot:title={'center':'different catagories'}, ylabel='score'>"
      ]
     },
     "execution_count": 332,
     "metadata": {},
     "output_type": "execute_result"
    },
    {
     "data": {
      "image/png": "[encoded data removed]",
      "text/plain": [
       "<Figure size 1296x720 with 1 Axes>"
      ]
     },
     "metadata": {},
     "output_type": "display_data"
    }
   ],
   "source": [
    "color = sns.color_palette('pastel')[0:df.score.nunique()]\n",
    "df['score'].value_counts().plot.pie(figsize =(18,10) , \n",
    "                                           autopct='%.2f%%', \n",
    "                                           title = 'different catagories',\n",
    "                                           colors =color)"
   ]
  },
  {
   "cell_type": "markdown",
   "id": "2aaab529",
   "metadata": {},
   "source": [
    "The train dataset contains 32.85% Positive data ; 21.69% negative data & 45.46% neutral data"
   ]
  }
 ],
 "metadata": {
  "kernelspec": {
   "display_name": "Python 3 (ipykernel)",
   "language": "python",
   "name": "python3"
  },
  "language_info": {
   "codemirror_mode": {
    "name": "ipython",
    "version": 3
   },
   "file_extension": ".py",
   "mimetype": "text/x-python",
   "name": "python",
   "nbconvert_exporter": "python",
   "pygments_lexer": "ipython3",
   "version": "3.9.7"
  }
 },
 "nbformat": 4,
 "nbformat_minor": 5
}
